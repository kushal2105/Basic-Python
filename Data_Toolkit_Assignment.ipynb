{
  "nbformat": 4,
  "nbformat_minor": 0,
  "metadata": {
    "colab": {
      "provenance": []
    },
    "kernelspec": {
      "name": "python3",
      "display_name": "Python 3"
    },
    "language_info": {
      "name": "python"
    }
  },
  "cells": [
    {
      "cell_type": "markdown",
      "source": [
        "## **Theory Questions**\n",
        "\n",
        "1. What is NumPy, and why is it widely used in Python?\n",
        "\n",
        "NumPy, short for **Numerical Python**, is a fundamental package for scientific computing in Python. It provides support for large, multi-dimensional arrays and matrices, along with a collection of mathematical functions to operate on these arrays.\n",
        "\n",
        "Here are some reasons why NumPy is widely used in Python:\n",
        "\n",
        "1. **Efficiency**: NumPy arrays are stored in contiguous blocks of memory, which makes operations on them much faster compared to Python's built-in lists.\n",
        "2. **Functionality**: It offers a wide range of mathematical functions that are optimized for array operations, such as linear algebra, Fourier transforms, and random number generation.\n",
        "3. **Compatibility**: NumPy serves as the foundation for many other scientific libraries in Python, such as SciPy, Matplotlib, and Pandas, making it an essential tool for data analysis and scientific research.\n",
        "4. **Ease of Use**: Its syntax is straightforward and easy to learn, making it accessible for both beginners and experienced programmers.\n",
        "\n"
      ],
      "metadata": {
        "id": "grn0N0jO_c6f"
      }
    },
    {
      "cell_type": "markdown",
      "source": [
        "2. How does broadcasting work in NumPy?\n",
        "\n",
        "Broadcasting in NumPy is a powerful feature that allows you to perform arithmetic operations on arrays of different shapes. It automatically expands the smaller array to match the shape of the larger one without copying data, which makes operations more efficient.\n",
        "\n",
        "Here's a simple example to illustrate broadcasting:\n",
        "\n",
        "```python\n",
        "import numpy as np\n",
        "\n",
        "# Define two arrays\n",
        "a = np.array([1, 2, 3])\n",
        "b = np.array([[1], [2], [3]])\n",
        "\n",
        "# Broadcasting allows element-wise addition\n",
        "result = a + b\n",
        "print(result)\n",
        "```\n",
        "\n",
        "In this example, the array `a` has shape `(3,)` and `b` has shape `(3, 1)`. NumPy broadcasts `a` to shape `(3, 1)` to match `b`, and then performs element-wise addition.\n",
        "\n",
        "Broadcasting follows these rules:\n",
        "1. **If the arrays have different numbers of dimensions**, NumPy adds dimensions of size 1 to the smaller array.\n",
        "2. **If the arrays have different shapes**, NumPy stretches the smaller array along the corresponding dimensions to match the larger array.\n",
        "\n",
        "\n"
      ],
      "metadata": {
        "id": "uLJlbLnzApP1"
      }
    },
    {
      "cell_type": "markdown",
      "source": [
        "3. What is a Pandas DataFrame?\n",
        "\n",
        "A **Pandas DataFrame** is a two-dimensional, size-mutable, and potentially heterogeneous tabular data structure with labeled axes (rows and columns). It's one of the most commonly used data structures in data analysis and manipulation with Python.\n",
        "\n",
        "Here are some key features of a Pandas DataFrame:\n",
        "\n",
        "1. **Tabular Data**: Data is organized in rows and columns, similar to a spreadsheet or SQL table.\n",
        "2. **Indexing**: Rows and columns can be labeled, making it easy to access and manipulate data.\n",
        "3. **Data Types**: Each column can contain data of different types (e.g., integers, floats, strings, etc.).\n",
        "4. **Missing Data**: Supports missing data and provides methods to handle it.\n",
        "5. **Data Manipulation**: Offers a wide range of functions for data cleaning, transformation, and analysis.\n",
        "\n",
        "\n"
      ],
      "metadata": {
        "id": "WDUEc2FOBKC0"
      }
    },
    {
      "cell_type": "markdown",
      "source": [
        "4.  Explain the use of the groupby() method in Pandas.\n",
        "\n",
        "The `groupby()` method in Pandas is used to split a DataFrame into groups based on some criteria, apply a function to each group independently, and then combine the results. It's a powerful tool for data analysis and aggregation.\n",
        "\n",
        "Here's a breakdown of how it works:\n",
        "\n",
        "1. **Grouping**: You specify one or more columns to group the data by. Pandas will create a separate group for each unique combination of values in those columns.\n",
        "2. **Aggregation**: You apply an aggregation function (like `sum`, `mean`, `count`, etc.) to each group. This function is applied to each column within the group.\n",
        "3. **Combining Results**: The results are combined into a new DataFrame, where each row represents a group and the columns contain the aggregated values.\n",
        "\n"
      ],
      "metadata": {
        "id": "ltp6DIE7BjgF"
      }
    },
    {
      "cell_type": "markdown",
      "source": [
        "5. Why is Seaborn preferred for statistical visualizations?\n",
        "\n",
        "### **Why Seaborn is Preferred for Statistical Visualizations**\n",
        "\n",
        "1. **Specialized for Statistical Data**:  \n",
        "   - Built on top of Matplotlib, Seaborn simplifies the creation of statistical plots, making it ideal for exploring and visualizing complex datasets.\n",
        "\n",
        "2. **High-Level Interface**:  \n",
        "   - Provides user-friendly, high-level functions for creating sophisticated visualizations with minimal code.\n",
        "\n",
        "3. **Integrated with Pandas**:  \n",
        "   - Works seamlessly with Pandas DataFrames, allowing easy handling of tabular data.\n",
        "\n",
        "4. **Beautiful Default Styles**:  \n",
        "   - Comes with aesthetically pleasing default styles and color palettes for publication-quality plots.\n",
        "\n",
        "5. **Advanced Statistical Features**:  \n",
        "   - Includes built-in functionality for regression plots, distribution plots, and categorical plots.\n",
        "\n",
        "6. **Automated Aggregations**:  \n",
        "   - Automatically aggregates data and applies statistical operations for grouped visualizations.\n",
        "\n",
        "7. **Faceted Visualizations**:  \n",
        "   - Simplifies the creation of multi-plot grids for visualizing data subsets (e.g., `FacetGrid` and `PairPlot`).\n",
        "\n",
        "8. **Customizable and Extensible**:  \n",
        "   - Allows fine-tuning of visualizations and integrates easily with Matplotlib for further customization.\n"
      ],
      "metadata": {
        "id": "tOuEIbcRCPe8"
      }
    },
    {
      "cell_type": "markdown",
      "source": [
        "6. What are the differences between NumPy arrays and Python lists?\n",
        "\n",
        "Sure! Here's a comparison of NumPy arrays and Python lists without using a table:\n",
        "\n",
        "- **Data Type**: NumPy arrays are homogeneous (all elements must be of the same type), while Python lists are heterogeneous (elements can be of different types).\n",
        "- **Performance**: NumPy arrays are faster and more memory-efficient, especially for large datasets and mathematical operations. Python lists are slower and less memory-efficient.\n",
        "- **Functionality**: NumPy provides extensive mathematical functions and operations for array manipulation. Python lists have basic operations and require additional libraries for advanced functionality.\n",
        "- **Dimensions**: NumPy arrays can be multi-dimensional (e.g., 2D, 3D arrays), while Python lists are inherently one-dimensional but can be nested to create multi-dimensional structures.\n",
        "- **Indexing and Slicing**: NumPy arrays support advanced indexing and slicing techniques, making it easier to manipulate and access specific elements or subarrays. Python lists support basic indexing and slicing with fewer options.\n",
        "\n",
        "\n"
      ],
      "metadata": {
        "id": "dpox2-RGCq-O"
      }
    },
    {
      "cell_type": "markdown",
      "source": [
        "7. What is a heatmap, and when should it be used?\n",
        "\n",
        "A **heatmap** is a data visualization technique that uses color-coding to represent different values in a matrix or table. Each cell in the heatmap is colored according to its value, making it easy to see patterns, trends, and variations in the data.\n",
        "\n",
        "Heatmaps are particularly useful in the following scenarios:\n",
        "\n",
        "1. **Data Analysis**: To quickly identify patterns, correlations, and outliers in large datasets.\n",
        "2. **Exploratory Data Analysis (EDA)**: To get an overview of the data distribution and relationships between variables.\n",
        "3. **Comparisons**: To compare values across different categories or groups.\n",
        "4. **Highlighting**: To emphasize areas of interest or concern in the data.\n",
        "5. **Clustering**: To visualize clusters or groupings in the data.\n",
        "\n",
        "For example, heatmaps are commonly used in fields like finance (to visualize stock price movements), biology (to show gene expression levels), and web analytics (to display user behavior on a website).\n",
        "\n"
      ],
      "metadata": {
        "id": "PhRpoKQEDQ9Q"
      }
    },
    {
      "cell_type": "markdown",
      "source": [
        "8. What does the term “vectorized operation” mean in NumPy?\n",
        "\n",
        "### **Vectorized Operation in NumPy**\n",
        "\n",
        "- **Definition**: A method of applying operations directly to entire arrays without explicit loops.  \n",
        "- **Key Features**:  \n",
        "  - Element-wise operations on arrays.  \n",
        "  - Faster execution via optimized C-based backend.  \n",
        "  - Simplified, concise, and readable code.  \n",
        "- **Advantages**:  \n",
        "  - High performance and efficiency.  \n",
        "  - Memory-friendly with reduced overhead.  \n",
        "  - Scales well for large datasets.  \n"
      ],
      "metadata": {
        "id": "-5lIbQGCGT2D"
      }
    },
    {
      "cell_type": "markdown",
      "source": [
        "9. How does Matplotlib differ from Plotly?\n",
        "\n",
        "Matplotlib and Plotly are both popular libraries for creating visualizations in Python, but they have some key differences:\n",
        "\n",
        "1. **Interactivity**: Matplotlib is primarily used for static visualizations, meaning the plots are fixed and cannot be interacted with. Plotly, on the other hand, supports interactive plots that allow users to zoom, pan, and hover over data points to see more details.\n",
        "2. **Ease of Use**: Matplotlib has a steeper learning curve and requires more code to create complex visualizations. Plotly provides a more user-friendly interface and is easier to use for creating interactive plots.\n",
        "3. **Customization**: Matplotlib offers extensive customization options, allowing users to fine-tune every aspect of their plots. Plotly also provides customization options but focuses more on interactive features.\n",
        "4. **Integration**: Matplotlib integrates well with other Python libraries like NumPy and Pandas. Plotly also integrates with these libraries but adds the ability to create web-based interactive dashboards.\n",
        "5. **Output Formats**: Matplotlib generates plots in various formats like PNG, PDF, and SVG. Plotly can generate interactive plots that can be embedded in web pages and dashboards.\n",
        "\n",
        "\n"
      ],
      "metadata": {
        "id": "riYz5OfnKRF1"
      }
    },
    {
      "cell_type": "markdown",
      "source": [
        "10. What is the significance of hierarchical indexing in Pandas?\n",
        "\n",
        "### **Significance of Hierarchical Indexing in Pandas**\n",
        "\n",
        "1. **Multi-level Indexing**:  \n",
        "   - Allows the use of multiple indices (levels) for rows and columns, making it possible to handle higher-dimensional data within a 2D structure.\n",
        "\n",
        "2. **Efficient Data Representation**:  \n",
        "   - Helps in representing data that has multiple dimensions, like time series with multiple sub-categories or grouped data.\n",
        "\n",
        "3. **Improved Data Organization**:  \n",
        "   - Makes it easier to organize and query complex datasets, improving data management when working with nested or grouped data.\n",
        "\n",
        "4. **Enhanced Data Access**:  \n",
        "   - Enables easy slicing, grouping, and selection of data based on multiple levels of indices, which simplifies operations like aggregations and transformations.\n",
        "\n",
        "5. **Aggregation and Grouping**:  \n",
        "   - Hierarchical indexing enhances the ability to perform grouped operations (e.g., `groupby()`), as it allows more granular control over subsets of the data.\n",
        "\n",
        "6. **Faster Indexing**:  \n",
        "   - Optimizes performance for large datasets by allowing more specific and precise indexing, reducing the need for complex filtering operations.\n",
        "\n",
        "7. **Supports Complex Data Structures**:  \n",
        "   - Suitable for time series analysis, multi-dimensional data, and cases where data has natural hierarchy or levels (e.g., region, product, date).\n",
        "\n"
      ],
      "metadata": {
        "id": "8mkKGYukK3e3"
      }
    },
    {
      "cell_type": "markdown",
      "source": [
        "11. What is the role of Seaborn’s pairplot() function?\n",
        "\n",
        "The `pairplot()` function in Seaborn is a powerful tool for **exploratory data analysis (EDA)**. It creates a grid of scatter plots for each pair of numerical variables in a DataFrame, allowing you to visualize relationships and correlations between multiple variables at once.\n",
        "\n",
        "Here's what `pairplot()` does:\n",
        "1. **Scatter Plots**: It generates scatter plots for each pair of numerical columns, showing the relationship between them.\n",
        "2. **Histograms**: Along the diagonal, it places histograms or kernel density estimates (KDE) of the individual variables, giving you an idea of their distributions.\n",
        "3. **Correlation**: It helps identify patterns, trends, and potential correlations between variables.\n",
        "\n",
        "Here's a simple example:\n",
        "\n",
        "```python\n",
        "import seaborn as sns\n",
        "import pandas as pd\n",
        "\n",
        "# Sample DataFrame\n",
        "data = {\n",
        "    'Age': [25, 30, 35, 40, 45],\n",
        "    'Height': [150, 160, 170, 180, 190],\n",
        "    'Weight': [55, 60, 65, 70, 75]\n",
        "}\n",
        "df = pd.DataFrame(data)\n",
        "\n",
        "# Create a pairplot\n",
        "sns.pairplot(df)\n",
        "```\n",
        "\n",
        "This will generate a grid of scatter plots for `Age`, `Height`, and `Weight`, along with histograms on the diagonal.\n",
        "\n",
        "\n"
      ],
      "metadata": {
        "id": "HxJd8RLZLi2Q"
      }
    },
    {
      "cell_type": "markdown",
      "source": [
        "12. What is the purpose of the describe() function in Pandas?\n",
        "\n",
        "### **Purpose of the `describe()` Function in Pandas**\n",
        "\n",
        "1. **Summary Statistics**:  \n",
        "   - The `describe()` function provides a quick overview of the summary statistics of numerical columns in a DataFrame.\n",
        "\n",
        "2. **Key Metrics**:  \n",
        "   - It calculates essential statistics like **mean**, **standard deviation**, **min/max values**, **percentiles (25%, 50%, 75%)**, and **count** of non-null values.\n",
        "\n",
        "3. **Data Exploration**:  \n",
        "   - Useful for understanding the central tendencies, dispersion, and distribution of the data, particularly during the exploratory data analysis (EDA) phase.\n",
        "\n",
        "4. **Categorical Data Support**:  \n",
        "   - It can also summarize categorical columns with metrics like **unique values**, **top (most frequent) value**, and **frequency of the top value**.\n",
        "\n",
        "5. **Data Quality Check**:  \n",
        "   - Helps identify missing values, outliers, and irregularities in the dataset by examining the statistical summary.\n",
        "\n"
      ],
      "metadata": {
        "id": "d07D161DL0y3"
      }
    },
    {
      "cell_type": "markdown",
      "source": [
        "13. Why is handling missing data important in Pandas?\n",
        "\n",
        "Handling missing data is crucial in Pandas for several reasons:\n",
        "\n",
        "1. **Data Quality**: Missing data can lead to inaccurate analyses and misleading results. Properly handling missing data ensures the integrity and quality of your dataset.\n",
        "2. **Model Performance**: Many machine learning algorithms cannot handle missing values and require complete datasets. Handling missing data helps improve the performance and accuracy of these models.\n",
        "3. **Consistency**: Missing data can create inconsistencies in your dataset, making it difficult to perform operations like merging, grouping, and aggregating.\n",
        "4. **Visualization**: Missing data can distort visualizations, leading to incorrect interpretations of the data.\n",
        "5. **Statistical Analysis**: Missing data can bias statistical analyses and lead to incorrect conclusions. Handling missing data helps ensure that your analyses are robust and reliable.\n",
        "\n",
        "\n"
      ],
      "metadata": {
        "id": "wB-PGT1kMDY5"
      }
    },
    {
      "cell_type": "markdown",
      "source": [
        "14. What are the benefits of using Plotly for data visualization?\n",
        "\n",
        "Benefits of Using Plotly for Data Visualization\n",
        "\n",
        "1. **Interactivity**: Allows users to zoom, pan, and hover over data points for detailed exploration of the data.\n",
        "\n",
        "2. **Web-Based**: Ideal for creating visualizations that can be rendered in a web browser, perfect for dashboards and interactive applications.\n",
        "\n",
        "3. **Wide Range of Plots**: Offers various plot types, including 3D charts, maps, and complex statistical visualizations, with built-in interactivity.\n",
        "\n",
        "4. **Ease of Use**: Provides a user-friendly API that simplifies the process of creating interactive plots with minimal code.\n",
        "\n",
        "5. **Integration**: Seamlessly integrates with other popular Python libraries like Pandas, NumPy, and Jupyter Notebooks for efficient data handling and visualization.\n",
        "\n",
        "6. **Customization**: Extensive options to customize colors, fonts, layout, and interactivity, making it easy to create tailored visualizations.\n",
        "\n",
        "7. **Real-Time Data**: Supports live data streaming and dynamic updates, which is useful for monitoring systems or visualizing constantly changing data.\n",
        "\n",
        "8. **Export Options**: Enables export of visualizations as interactive HTML files or static image formats for sharing or embedding in reports.\n",
        "\n",
        "9. **Cross-Platform**: Works consistently across different platforms and devices, providing a responsive experience for all users."
      ],
      "metadata": {
        "id": "9nXiQowVMYNo"
      }
    },
    {
      "cell_type": "markdown",
      "source": [
        "15. How does NumPy handle multidimensional arrays?\n",
        "\n",
        "NumPy handles multidimensional arrays efficiently and intuitively. Here are some key points:\n",
        "\n",
        "1. **Creation**: You can create multidimensional arrays using the `numpy.array()` function, specifying the shape and data type.\n",
        "2. **Indexing**: NumPy supports advanced indexing and slicing techniques, allowing you to access and manipulate specific elements or subarrays easily.\n",
        "3. **Operations**: Mathematical operations on multidimensional arrays are performed element-wise, and NumPy handles broadcasting to align arrays of different shapes.\n",
        "4. **Reshaping**: You can reshape arrays without changing their data using the `reshape()` method.\n",
        "5. **Broadcasting**: NumPy automatically broadcasts arrays to compatible shapes for element-wise operations, making it easier to work with arrays of different dimensions.\n",
        "\n",
        "Here's an example of creating and manipulating a 2D array:\n",
        "\n",
        "```python\n",
        "import numpy as np\n",
        "\n",
        "# Create a 2D array\n",
        "array_2d = np.array([[1, 2, 3], [4, 5, 6]])\n",
        "\n",
        "# Access elements\n",
        "print(array_2d[0, 1])  # Output: 2\n",
        "\n",
        "# Perform operations\n",
        "array_2d_squared = array_2d ** 2\n",
        "print(array_2d_squared)\n",
        "```\n",
        "\n",
        "This will output:\n",
        "\n",
        "```\n",
        "[[ 1  4  9]\n",
        " [16 25 36]]\n",
        "```\n",
        "\n",
        "\n"
      ],
      "metadata": {
        "id": "EMFN2HcjM5NA"
      }
    },
    {
      "cell_type": "markdown",
      "source": [
        "16. What is the role of Bokeh in data visualization?\n",
        "\n",
        "Bokeh is a powerful library for creating interactive and visually appealing data visualizations in Python. It plays a significant role in data visualization by providing the following features:\n",
        "\n",
        "1. **Interactive Plots**: Bokeh allows you to create interactive plots that users can zoom, pan, and hover over to see detailed information.\n",
        "2. **Web Integration**: Bokeh visualizations can be easily embedded in web applications, making it a great tool for building dashboards and interactive reports.\n",
        "3. **Customization**: Bokeh offers extensive customization options, allowing you to tailor the appearance and behavior of your plots to suit your needs.\n",
        "4. **High Performance**: Bokeh is designed for high-performance interactivity, making it suitable for large datasets and real-time data updates.\n",
        "5. **Integration with Other Libraries**: Bokeh integrates well with other Python libraries like Pandas, NumPy, and SciPy, making it easy to work with data and create visualizations.\n",
        "\n",
        "\n"
      ],
      "metadata": {
        "id": "PmN306WkND8u"
      }
    },
    {
      "cell_type": "markdown",
      "source": [
        "17. Explain the difference between apply() and map() in Pandas.\n",
        "\n",
        "### **Difference Between `apply()` and `map()` in Pandas**\n",
        "\n",
        "1. **Functionality**:\n",
        "   - **`apply()`**: Can be used on both **DataFrames** and **Series**. It allows applying a function along either the rows or columns of a DataFrame, or element-wise on a Series.\n",
        "   - **`map()`**: Specifically used on **Series** to apply a function element-wise. It is generally used for element-wise transformations, like replacing values or mapping values using a dictionary.\n",
        "\n",
        "2. **Usage**:\n",
        "   - **`apply()`**: More flexible. It can apply a function across rows or columns of a DataFrame, or element-wise on a Series, and supports complex operations.\n",
        "   - **`map()`**: Simpler and mainly for element-wise operations. It works efficiently for transforming or mapping values in a Series using a function, dictionary, or a Series of mappings.\n",
        "\n",
        "3. **Return Type**:\n",
        "   - **`apply()`**: Can return a scalar, Series, or DataFrame depending on the applied function.\n",
        "   - **`map()`**: Always returns a Series.\n",
        "\n",
        "4. **Performance**:\n",
        "   - **`apply()`**: Slightly slower than `map()` because it can handle more complex operations, including row-wise or column-wise aggregations.\n",
        "   - **`map()`**: Generally faster for element-wise transformations, as it's optimized for simple one-to-one mappings.\n",
        "\n",
        "5. **Flexibility**:\n",
        "   - **`apply()`**: More flexible, as it supports applying a wide range of functions, including those that involve multiple rows or columns.\n",
        "   - **`map()`**: Less flexible and is used primarily for transforming individual values in a Series (e.g., replacing, mapping).\n",
        "\n"
      ],
      "metadata": {
        "id": "LBfdbMspQvkj"
      }
    },
    {
      "cell_type": "markdown",
      "source": [
        "18. What are some advanced features of NumPy?\n",
        "\n",
        "NumPy offers several advanced features that make it a powerful tool for numerical computing and data analysis. Here are some of them:\n",
        "\n",
        "1. **Universal Functions (ufuncs)**: NumPy provides a wide range of universal functions for element-wise operations on arrays, such as mathematical functions (e.g., `sin`, `cos`, `exp`), logical operations, and more.\n",
        "2. **Broadcasting**: As mentioned earlier, broadcasting allows you to perform operations on arrays of different shapes without explicitly replicating data.\n",
        "3. **Linear Algebra**: NumPy includes functions for linear algebra operations, such as matrix multiplication (`dot`), eigenvalue decomposition, and solving linear systems.\n",
        "4. **Random Number Generation**: NumPy has a built-in random number generator that can produce arrays of random numbers from various distributions.\n",
        "5. **Array Manipulation**: NumPy provides functions for reshaping, splitting, joining, and manipulating arrays in various ways.\n",
        "6. **Masking**: You can use boolean arrays to mask elements in an array, allowing for conditional operations and filtering.\n",
        "7. **Memory Efficiency**: NumPy arrays are stored in contiguous blocks of memory, which makes them more memory-efficient and faster for large datasets.\n",
        "8. **Integration with Other Libraries**: NumPy serves as the foundation for many other scientific libraries in Python, such as SciPy, Matplotlib, and Pandas, enabling seamless integration and data manipulation.\n",
        "\n",
        "\n"
      ],
      "metadata": {
        "id": "BvDC6LUURIQ4"
      }
    },
    {
      "cell_type": "markdown",
      "source": [
        "19. How does Pandas simplify time series analysis?\n",
        "\n",
        "1. **DateTime Indexing**:  \n",
        "   - Pandas provides robust support for **DatetimeIndex**, allowing for easy handling, filtering, and selection of data based on dates or time periods.\n",
        "\n",
        "2. **Resampling**:  \n",
        "   - With `resample()`, you can easily convert time series data to different frequencies (e.g., daily to monthly), helping to perform aggregations and analyze data at different time intervals.\n",
        "\n",
        "3. **Time-Based Grouping**:  \n",
        "   - The `groupby()` method in combination with time-based indices allows you to group data by time periods (e.g., months, years) for aggregation and analysis.\n",
        "\n",
        "4. **Handling Missing Data**:  \n",
        "   - Pandas provides functions like `fillna()` and `interpolate()` to handle missing values in time series, which is common in real-world data.\n",
        "\n",
        "5. **Rolling Windows**:  \n",
        "   - The `rolling()` function allows for easy calculation of moving averages or other window-based statistics, which are essential in time series analysis.\n",
        "\n",
        "6. **Date Range Generation**:  \n",
        "   - `date_range()` helps in generating ranges of dates at specified frequencies, simplifying the creation of time series data.\n",
        "\n",
        "7. **Time Zone Support**:  \n",
        "   - Pandas allows you to convert time series data across different time zones, making it easier to work with global datasets.\n",
        "\n",
        "8. **Shifting Data**:  \n",
        "   - Using `shift()` and `tshift()`, you can easily shift time series data forward or backward, which is useful for lag analysis and feature engineering.\n",
        "\n",
        "9. **Efficient Time Series Manipulation**:  \n",
        "   - Pandas provides optimized methods for manipulating large time series datasets efficiently, which is crucial for real-time or high-frequency data analysis.\n",
        "\n",
        "10. **Plotting Time Series Data**:  \n",
        "   - Pandas integrates with libraries like Matplotlib, enabling straightforward visualization of time series data for analysis and interpretation.\n",
        "\n",
        "---\n",
        "\n",
        "In essence, **Pandas** simplifies time series analysis by providing easy-to-use functions for handling date and time data, making resampling, aggregating, and visualizing time-based data much more manageable. Would you like to explore an example of time series analysis in Pandas?"
      ],
      "metadata": {
        "id": "HhRfSdQORTup"
      }
    },
    {
      "cell_type": "markdown",
      "source": [
        "20. What is the role of a pivot table in Pandas?\n",
        "\n",
        "A **pivot table** in Pandas is a powerful tool for summarizing and analyzing data. It allows you to reorganize and aggregate data in a flexible and efficient manner. Here are some key roles and benefits of using pivot tables in Pandas:\n",
        "\n",
        "1. **Data Aggregation**: Pivot tables enable you to perform aggregation operations like sum, mean, count, etc., on groups of data.\n",
        "2. **Data Summarization**: They help summarize large datasets into a more compact and readable format, making it easier to identify trends and patterns.\n",
        "3. **Multi-dimensional Analysis**: Pivot tables allow you to analyze data across multiple dimensions by creating a summary table that can be easily manipulated and explored.\n",
        "4. **Interactive Exploration**: You can interactively explore and drill down into the data to gain deeper insights.\n",
        "5. **Ease of Use**: Pandas provides a straightforward and intuitive interface for creating pivot tables, making it accessible even for users with limited programming experience.\n",
        "\n"
      ],
      "metadata": {
        "id": "E-TUyhefRzmy"
      }
    },
    {
      "cell_type": "markdown",
      "source": [
        "21. Why is NumPy’s array slicing faster than Python’s list slicing?\n",
        "\n",
        "NumPy’s array slicing is faster than Python’s list slicing due to:\n",
        "\n",
        "1. **Contiguous Memory**: NumPy arrays are stored in contiguous memory, enabling faster access.\n",
        "2. **C Implementation**: NumPy operations are optimized in C, making them faster than Python’s list slicing.\n",
        "3. **No Type Checking**: NumPy arrays are homogeneous, avoiding type checks during slicing.\n",
        "4. **Memory Views**: Slicing creates views of data, avoiding data copying, unlike Python lists that create copies.\n",
        "5. **Vectorized Operations**: NumPy performs slicing in bulk with low-level optimizations, while Python lists process element-by-element.\n",
        "\n",
        "In essence, NumPy is optimized for performance with its memory layout and efficient operations."
      ],
      "metadata": {
        "id": "QNgyvXW1SSp4"
      }
    },
    {
      "cell_type": "markdown",
      "source": [
        "22. What are some common use cases for Seaborn?\n",
        "\n",
        "Seaborn is a versatile library for statistical data visualization in Python, and it's commonly used in various scenarios:\n",
        "\n",
        "1. **Exploratory Data Analysis (EDA)**: Seaborn helps quickly visualize data distributions, relationships, and correlations, making it easier to understand the data before diving into more complex analyses.\n",
        "2. **Statistical Analysis**: It provides functions for fitting and visualizing linear regression models, plotting distributions, and creating categorical plots, which are essential for statistical analysis.\n",
        "3. **Data Distributions**: Seaborn's `distplot`, `kdeplot`, and `rugplot` functions are used to visualize data distributions and density estimates.\n",
        "4. **Categorical Data**: Functions like `catplot`, `boxplot`, and `violinplot` are used to visualize categorical data and compare different categories.\n",
        "5. **Correlation Heatmaps**: The `heatmap` function is used to create correlation heatmaps, helping to identify relationships between multiple variables.\n",
        "6. **Pairwise Relationships**: The `pairplot` function generates scatter plots for each pair of numerical variables, along with histograms on the diagonal, to visualize pairwise relationships.\n",
        "7. **Time Series Data**: Seaborn can be used to plot time series data, showing trends and patterns over time.\n",
        "8. **Customization**: Seaborn allows extensive customization of plots, including themes, color palettes, and plot styles, making it easy to create visually appealing and publication-quality graphics.\n",
        "\n",
        "\n"
      ],
      "metadata": {
        "id": "Lt0UOMOSSuv_"
      }
    },
    {
      "cell_type": "markdown",
      "source": [
        "## **Practical Questions**"
      ],
      "metadata": {
        "id": "N3JOWqFqS8bA"
      }
    },
    {
      "cell_type": "markdown",
      "source": [
        "1. How do you create a 2D NumPy array and calculate the sum of each row?"
      ],
      "metadata": {
        "id": "WrdOq_iBTErI"
      }
    },
    {
      "cell_type": "code",
      "source": [
        "import numpy as np\n",
        "\n",
        "# Create a 2D NumPy array\n",
        "array_2d = np.array([[1, 2, 3], [4, 5, 6], [7, 8, 9]])\n",
        "\n",
        "# Calculate the sum of each row\n",
        "row_sums = np.sum(array_2d, axis=1)\n",
        "\n",
        "print(\"2D Array:\\n\", array_2d)\n",
        "print(\"Sum of each row:\", row_sums)\n"
      ],
      "metadata": {
        "colab": {
          "base_uri": "https://localhost:8080/"
        },
        "id": "dyEaQb1OTI7h",
        "outputId": "5aa712e3-6524-477d-ce98-d5549383bb74"
      },
      "execution_count": 7,
      "outputs": [
        {
          "output_type": "stream",
          "name": "stdout",
          "text": [
            "2D Array:\n",
            " [[1 2 3]\n",
            " [4 5 6]\n",
            " [7 8 9]]\n",
            "Sum of each row: [ 6 15 24]\n"
          ]
        }
      ]
    },
    {
      "cell_type": "markdown",
      "source": [
        "2. Write a Pandas script to find the mean of a specific column in a DataFrame."
      ],
      "metadata": {
        "id": "2pbQF_A9TuPn"
      }
    },
    {
      "cell_type": "code",
      "source": [
        "import pandas as pd\n",
        "\n",
        "# Create a sample DataFrame\n",
        "data = {\n",
        "    'A': [1, 2, 3, 4, 5],\n",
        "    'B': [5, 4, 3, 2, 1],\n",
        "    'C': [10, 20, 30, 40, 50]\n",
        "}\n",
        "df = pd.DataFrame(data)\n",
        "\n",
        "# Calculate the mean of column 'B'\n",
        "mean_column_B = df['B'].mean()\n",
        "\n",
        "print(\"Mean of column B:\", mean_column_B)\n"
      ],
      "metadata": {
        "colab": {
          "base_uri": "https://localhost:8080/"
        },
        "id": "JyA9NvxdTry5",
        "outputId": "341f8d64-ce30-461f-b698-89e9fe40c9e8"
      },
      "execution_count": 8,
      "outputs": [
        {
          "output_type": "stream",
          "name": "stdout",
          "text": [
            "Mean of column B: 3.0\n"
          ]
        }
      ]
    },
    {
      "cell_type": "markdown",
      "source": [
        "3.  Create a scatter plot using Matplotlib."
      ],
      "metadata": {
        "id": "FTrbWvKaUaZn"
      }
    },
    {
      "cell_type": "code",
      "source": [
        "import matplotlib.pyplot as plt\n",
        "\n",
        "# Sample data\n",
        "x = [1, 2, 3, 4, 5]\n",
        "y = [5, 4, 3, 2, 1]\n",
        "\n",
        "# Create a scatter plot\n",
        "plt.scatter(x, y)\n",
        "\n",
        "# Add labels and title\n",
        "plt.xlabel('X-axis label')\n",
        "plt.ylabel('Y-axis label')\n",
        "plt.title('Scatter Plot Example')\n",
        "\n",
        "# Show the plot\n",
        "plt.show()\n"
      ],
      "metadata": {
        "colab": {
          "base_uri": "https://localhost:8080/",
          "height": 472
        },
        "id": "xZr3Sw_xUZGd",
        "outputId": "694b4037-188c-454e-de14-f7a01b575344"
      },
      "execution_count": 9,
      "outputs": [
        {
          "output_type": "display_data",
          "data": {
            "text/plain": [
              "<Figure size 640x480 with 1 Axes>"
            ],
            "image/png": "[encoded data removed]"
          },
          "metadata": {}
        }
      ]
    },
    {
      "cell_type": "markdown",
      "source": [
        "4. How do you calculate the correlation matrix using Seaborn and visualize it with a heatmap?"
      ],
      "metadata": {
        "id": "d2YyLbiDUljH"
      }
    },
    {
      "cell_type": "code",
      "source": [
        "import seaborn as sns\n",
        "import pandas as pd\n",
        "import matplotlib.pyplot as plt\n",
        "\n",
        "# Sample DataFrame\n",
        "data = {\n",
        "    'A': [1, 2, 3, 4, 5],\n",
        "    'B': [5, 4, 3, 2, 1],\n",
        "    'C': [10, 20, 30, 40, 50]\n",
        "}\n",
        "df = pd.DataFrame(data)\n",
        "\n",
        "# Calculate the correlation matrix\n",
        "correlation_matrix = df.corr()\n",
        "\n",
        "# Create a heatmap\n",
        "sns.heatmap(correlation_matrix, annot=True, cmap='coolwarm')\n",
        "\n",
        "# Add labels and title\n",
        "plt.title('Correlation Matrix Heatmap')\n",
        "plt.show()\n"
      ],
      "metadata": {
        "colab": {
          "base_uri": "https://localhost:8080/",
          "height": 452
        },
        "id": "KywRkxxRUiJb",
        "outputId": "576e8b82-ea3d-4f84-a915-bb63d2bb9397"
      },
      "execution_count": 10,
      "outputs": [
        {
          "output_type": "display_data",
          "data": {
            "text/plain": [
              "<Figure size 640x480 with 2 Axes>"
            ],
            "image/png": "[encoded data removed]"
          },
          "metadata": {}
        }
      ]
    },
    {
      "cell_type": "markdown",
      "source": [
        "5. Generate a bar plot using Plotly."
      ],
      "metadata": {
        "id": "OJClA6jjU0I-"
      }
    },
    {
      "cell_type": "code",
      "source": [
        "import plotly.express as px\n",
        "\n",
        "# Sample data\n",
        "data = {\n",
        "    'Category': ['A', 'B', 'C', 'D'],\n",
        "    'Values': [10, 20, 30, 40]\n",
        "}\n",
        "\n",
        "# Create a bar plot\n",
        "fig = px.bar(data, x='Category', y='Values', title='Bar Plot Example')\n",
        "\n",
        "# Show the plot\n",
        "fig.show()\n"
      ],
      "metadata": {
        "colab": {
          "base_uri": "https://localhost:8080/",
          "height": 542
        },
        "id": "em49hSfrUupy",
        "outputId": "8048810e-74b6-47ca-a0c7-e971fee94e50"
      },
      "execution_count": 11,
      "outputs": [
        {
          "output_type": "display_data",
          "data": {
            "text/html": [
              "<html>\n",
              "<head><meta charset=\"utf-8\" /></head>\n",
              "<body>\n",
              "    <div>            <script src=\"https://cdnjs.cloudflare.com/ajax/libs/mathjax/2.7.5/MathJax.js?config=TeX-AMS-MML_SVG\"></script><script type=\"text/javascript\">if (window.MathJax && window.MathJax.Hub && window.MathJax.Hub.Config) {window.MathJax.Hub.Config({SVG: {font: \"STIX-Web\"}});}</script>                <script type=\"text/javascript\">window.PlotlyConfig = {MathJaxConfig: 'local'};</script>\n",
              "        <script charset=\"utf-8\" src=\"https://cdn.plot.ly/plotly-2.35.2.min.js\"></script>                <div id=\"7b14ca80-8f3b-46c8-bab1-821bb9ced91f\" class=\"plotly-graph-div\" style=\"height:525px; width:100%;\"></div>            <script type=\"text/javascript\">                                    window.PLOTLYENV=window.PLOTLYENV || {};                                    if (document.getElementById(\"7b14ca80-8f3b-46c8-bab1-821bb9ced91f\")) {                    Plotly.newPlot(                        \"7b14ca80-8f3b-46c8-bab1-821bb9ced91f\",                        [{\"alignmentgroup\":\"True\",\"hovertemplate\":\"Category=%{x}\\u003cbr\\u003eValues=%{y}\\u003cextra\\u003e\\u003c\\u002fextra\\u003e\",\"legendgroup\":\"\",\"marker\":{\"color\":\"#636efa\",\"pattern\":{\"shape\":\"\"}},\"name\":\"\",\"offsetgroup\":\"\",\"orientation\":\"v\",\"showlegend\":false,\"textposition\":\"auto\",\"x\":[\"A\",\"B\",\"C\",\"D\"],\"xaxis\":\"x\",\"y\":[10,20,30,40],\"yaxis\":\"y\",\"type\":\"bar\"}],                        {\"template\":{\"data\":{\"histogram2dcontour\":[{\"type\":\"histogram2dcontour\",\"colorbar\":{\"outlinewidth\":0,\"ticks\":\"\"},\"colorscale\":[[0.0,\"#0d0887\"],[0.1111111111111111,\"#46039f\"],[0.2222222222222222,\"#7201a8\"],[0.3333333333333333,\"#9c179e\"],[0.4444444444444444,\"#bd3786\"],[0.5555555555555556,\"#d8576b\"],[0.6666666666666666,\"#ed7953\"],[0.7777777777777778,\"#fb9f3a\"],[0.8888888888888888,\"#fdca26\"],[1.0,\"#f0f921\"]]}],\"choropleth\":[{\"type\":\"choropleth\",\"colorbar\":{\"outlinewidth\":0,\"ticks\":\"\"}}],\"histogram2d\":[{\"type\":\"histogram2d\",\"colorbar\":{\"outlinewidth\":0,\"ticks\":\"\"},\"colorscale\":[[0.0,\"#0d0887\"],[0.1111111111111111,\"#46039f\"],[0.2222222222222222,\"#7201a8\"],[0.3333333333333333,\"#9c179e\"],[0.4444444444444444,\"#bd3786\"],[0.5555555555555556,\"#d8576b\"],[0.6666666666666666,\"#ed7953\"],[0.7777777777777778,\"#fb9f3a\"],[0.8888888888888888,\"#fdca26\"],[1.0,\"#f0f921\"]]}],\"heatmap\":[{\"type\":\"heatmap\",\"colorbar\":{\"outlinewidth\":0,\"ticks\":\"\"},\"colorscale\":[[0.0,\"#0d0887\"],[0.1111111111111111,\"#46039f\"],[0.2222222222222222,\"#7201a8\"],[0.3333333333333333,\"#9c179e\"],[0.4444444444444444,\"#bd3786\"],[0.5555555555555556,\"#d8576b\"],[0.6666666666666666,\"#ed7953\"],[0.7777777777777778,\"#fb9f3a\"],[0.8888888888888888,\"#fdca26\"],[1.0,\"#f0f921\"]]}],\"heatmapgl\":[{\"type\":\"heatmapgl\",\"colorbar\":{\"outlinewidth\":0,\"ticks\":\"\"},\"colorscale\":[[0.0,\"#0d0887\"],[0.1111111111111111,\"#46039f\"],[0.2222222222222222,\"#7201a8\"],[0.3333333333333333,\"#9c179e\"],[0.4444444444444444,\"#bd3786\"],[0.5555555555555556,\"#d8576b\"],[0.6666666666666666,\"#ed7953\"],[0.7777777777777778,\"#fb9f3a\"],[0.8888888888888888,\"#fdca26\"],[1.0,\"#f0f921\"]]}],\"contourcarpet\":[{\"type\":\"contourcarpet\",\"colorbar\":{\"outlinewidth\":0,\"ticks\":\"\"}}],\"contour\":[{\"type\":\"contour\",\"colorbar\":{\"outlinewidth\":0,\"ticks\":\"\"},\"colorscale\":[[0.0,\"#0d0887\"],[0.1111111111111111,\"#46039f\"],[0.2222222222222222,\"#7201a8\"],[0.3333333333333333,\"#9c179e\"],[0.4444444444444444,\"#bd3786\"],[0.5555555555555556,\"#d8576b\"],[0.6666666666666666,\"#ed7953\"],[0.7777777777777778,\"#fb9f3a\"],[0.8888888888888888,\"#fdca26\"],[1.0,\"#f0f921\"]]}],\"surface\":[{\"type\":\"surface\",\"colorbar\":{\"outlinewidth\":0,\"ticks\":\"\"},\"colorscale\":[[0.0,\"#0d0887\"],[0.1111111111111111,\"#46039f\"],[0.2222222222222222,\"#7201a8\"],[0.3333333333333333,\"#9c179e\"],[0.4444444444444444,\"#bd3786\"],[0.5555555555555556,\"#d8576b\"],[0.6666666666666666,\"#ed7953\"],[0.7777777777777778,\"#fb9f3a\"],[0.8888888888888888,\"#fdca26\"],[1.0,\"#f0f921\"]]}],\"mesh3d\":[{\"type\":\"mesh3d\",\"colorbar\":{\"outlinewidth\":0,\"ticks\":\"\"}}],\"scatter\":[{\"fillpattern\":{\"fillmode\":\"overlay\",\"size\":10,\"solidity\":0.2},\"type\":\"scatter\"}],\"parcoords\":[{\"type\":\"parcoords\",\"line\":{\"colorbar\":{\"outlinewidth\":0,\"ticks\":\"\"}}}],\"scatterpolargl\":[{\"type\":\"scatterpolargl\",\"marker\":{\"colorbar\":{\"outlinewidth\":0,\"ticks\":\"\"}}}],\"bar\":[{\"error_x\":{\"color\":\"#2a3f5f\"},\"error_y\":{\"color\":\"#2a3f5f\"},\"marker\":{\"line\":{\"color\":\"#E5ECF6\",\"width\":0.5},\"pattern\":{\"fillmode\":\"overlay\",\"size\":10,\"solidity\":0.2}},\"type\":\"bar\"}],\"scattergeo\":[{\"type\":\"scattergeo\",\"marker\":{\"colorbar\":{\"outlinewidth\":0,\"ticks\":\"\"}}}],\"scatterpolar\":[{\"type\":\"scatterpolar\",\"marker\":{\"colorbar\":{\"outlinewidth\":0,\"ticks\":\"\"}}}],\"histogram\":[{\"marker\":{\"pattern\":{\"fillmode\":\"overlay\",\"size\":10,\"solidity\":0.2}},\"type\":\"histogram\"}],\"scattergl\":[{\"type\":\"scattergl\",\"marker\":{\"colorbar\":{\"outlinewidth\":0,\"ticks\":\"\"}}}],\"scatter3d\":[{\"type\":\"scatter3d\",\"line\":{\"colorbar\":{\"outlinewidth\":0,\"ticks\":\"\"}},\"marker\":{\"colorbar\":{\"outlinewidth\":0,\"ticks\":\"\"}}}],\"scattermapbox\":[{\"type\":\"scattermapbox\",\"marker\":{\"colorbar\":{\"outlinewidth\":0,\"ticks\":\"\"}}}],\"scatterternary\":[{\"type\":\"scatterternary\",\"marker\":{\"colorbar\":{\"outlinewidth\":0,\"ticks\":\"\"}}}],\"scattercarpet\":[{\"type\":\"scattercarpet\",\"marker\":{\"colorbar\":{\"outlinewidth\":0,\"ticks\":\"\"}}}],\"carpet\":[{\"aaxis\":{\"endlinecolor\":\"#2a3f5f\",\"gridcolor\":\"white\",\"linecolor\":\"white\",\"minorgridcolor\":\"white\",\"startlinecolor\":\"#2a3f5f\"},\"baxis\":{\"endlinecolor\":\"#2a3f5f\",\"gridcolor\":\"white\",\"linecolor\":\"white\",\"minorgridcolor\":\"white\",\"startlinecolor\":\"#2a3f5f\"},\"type\":\"carpet\"}],\"table\":[{\"cells\":{\"fill\":{\"color\":\"#EBF0F8\"},\"line\":{\"color\":\"white\"}},\"header\":{\"fill\":{\"color\":\"#C8D4E3\"},\"line\":{\"color\":\"white\"}},\"type\":\"table\"}],\"barpolar\":[{\"marker\":{\"line\":{\"color\":\"#E5ECF6\",\"width\":0.5},\"pattern\":{\"fillmode\":\"overlay\",\"size\":10,\"solidity\":0.2}},\"type\":\"barpolar\"}],\"pie\":[{\"automargin\":true,\"type\":\"pie\"}]},\"layout\":{\"autotypenumbers\":\"strict\",\"colorway\":[\"#636efa\",\"#EF553B\",\"#00cc96\",\"#ab63fa\",\"#FFA15A\",\"#19d3f3\",\"#FF6692\",\"#B6E880\",\"#FF97FF\",\"#FECB52\"],\"font\":{\"color\":\"#2a3f5f\"},\"hovermode\":\"closest\",\"hoverlabel\":{\"align\":\"left\"},\"paper_bgcolor\":\"white\",\"plot_bgcolor\":\"#E5ECF6\",\"polar\":{\"bgcolor\":\"#E5ECF6\",\"angularaxis\":{\"gridcolor\":\"white\",\"linecolor\":\"white\",\"ticks\":\"\"},\"radialaxis\":{\"gridcolor\":\"white\",\"linecolor\":\"white\",\"ticks\":\"\"}},\"ternary\":{\"bgcolor\":\"#E5ECF6\",\"aaxis\":{\"gridcolor\":\"white\",\"linecolor\":\"white\",\"ticks\":\"\"},\"baxis\":{\"gridcolor\":\"white\",\"linecolor\":\"white\",\"ticks\":\"\"},\"caxis\":{\"gridcolor\":\"white\",\"linecolor\":\"white\",\"ticks\":\"\"}},\"coloraxis\":{\"colorbar\":{\"outlinewidth\":0,\"ticks\":\"\"}},\"colorscale\":{\"sequential\":[[0.0,\"#0d0887\"],[0.1111111111111111,\"#46039f\"],[0.2222222222222222,\"#7201a8\"],[0.3333333333333333,\"#9c179e\"],[0.4444444444444444,\"#bd3786\"],[0.5555555555555556,\"#d8576b\"],[0.6666666666666666,\"#ed7953\"],[0.7777777777777778,\"#fb9f3a\"],[0.8888888888888888,\"#fdca26\"],[1.0,\"#f0f921\"]],\"sequentialminus\":[[0.0,\"#0d0887\"],[0.1111111111111111,\"#46039f\"],[0.2222222222222222,\"#7201a8\"],[0.3333333333333333,\"#9c179e\"],[0.4444444444444444,\"#bd3786\"],[0.5555555555555556,\"#d8576b\"],[0.6666666666666666,\"#ed7953\"],[0.7777777777777778,\"#fb9f3a\"],[0.8888888888888888,\"#fdca26\"],[1.0,\"#f0f921\"]],\"diverging\":[[0,\"#8e0152\"],[0.1,\"#c51b7d\"],[0.2,\"#de77ae\"],[0.3,\"#f1b6da\"],[0.4,\"#fde0ef\"],[0.5,\"#f7f7f7\"],[0.6,\"#e6f5d0\"],[0.7,\"#b8e186\"],[0.8,\"#7fbc41\"],[0.9,\"#4d9221\"],[1,\"#276419\"]]},\"xaxis\":{\"gridcolor\":\"white\",\"linecolor\":\"white\",\"ticks\":\"\",\"title\":{\"standoff\":15},\"zerolinecolor\":\"white\",\"automargin\":true,\"zerolinewidth\":2},\"yaxis\":{\"gridcolor\":\"white\",\"linecolor\":\"white\",\"ticks\":\"\",\"title\":{\"standoff\":15},\"zerolinecolor\":\"white\",\"automargin\":true,\"zerolinewidth\":2},\"scene\":{\"xaxis\":{\"backgroundcolor\":\"#E5ECF6\",\"gridcolor\":\"white\",\"linecolor\":\"white\",\"showbackground\":true,\"ticks\":\"\",\"zerolinecolor\":\"white\",\"gridwidth\":2},\"yaxis\":{\"backgroundcolor\":\"#E5ECF6\",\"gridcolor\":\"white\",\"linecolor\":\"white\",\"showbackground\":true,\"ticks\":\"\",\"zerolinecolor\":\"white\",\"gridwidth\":2},\"zaxis\":{\"backgroundcolor\":\"#E5ECF6\",\"gridcolor\":\"white\",\"linecolor\":\"white\",\"showbackground\":true,\"ticks\":\"\",\"zerolinecolor\":\"white\",\"gridwidth\":2}},\"shapedefaults\":{\"line\":{\"color\":\"#2a3f5f\"}},\"annotationdefaults\":{\"arrowcolor\":\"#2a3f5f\",\"arrowhead\":0,\"arrowwidth\":1},\"geo\":{\"bgcolor\":\"white\",\"landcolor\":\"#E5ECF6\",\"subunitcolor\":\"white\",\"showland\":true,\"showlakes\":true,\"lakecolor\":\"white\"},\"title\":{\"x\":0.05},\"mapbox\":{\"style\":\"light\"}}},\"xaxis\":{\"anchor\":\"y\",\"domain\":[0.0,1.0],\"title\":{\"text\":\"Category\"}},\"yaxis\":{\"anchor\":\"x\",\"domain\":[0.0,1.0],\"title\":{\"text\":\"Values\"}},\"legend\":{\"tracegroupgap\":0},\"title\":{\"text\":\"Bar Plot Example\"},\"barmode\":\"relative\"},                        {\"responsive\": true}                    ).then(function(){\n",
              "                            \n",
              "var gd = document.getElementById('7b14ca80-8f3b-46c8-bab1-821bb9ced91f');\n",
              "var x = new MutationObserver(function (mutations, observer) {{\n",
              "        var display = window.getComputedStyle(gd).display;\n",
              "        if (!display || display === 'none') {{\n",
              "            console.log([gd, 'removed!']);\n",
              "            Plotly.purge(gd);\n",
              "            observer.disconnect();\n",
              "        }}\n",
              "}});\n",
              "\n",
              "// Listen for the removal of the full notebook cells\n",
              "var notebookContainer = gd.closest('#notebook-container');\n",
              "if (notebookContainer) {{\n",
              "    x.observe(notebookContainer, {childList: true});\n",
              "}}\n",
              "\n",
              "// Listen for the clearing of the current output cell\n",
              "var outputEl = gd.closest('.output');\n",
              "if (outputEl) {{\n",
              "    x.observe(outputEl, {childList: true});\n",
              "}}\n",
              "\n",
              "                        })                };                            </script>        </div>\n",
              "</body>\n",
              "</html>"
            ]
          },
          "metadata": {}
        }
      ]
    },
    {
      "cell_type": "markdown",
      "source": [
        "6. Create a DataFrame and add a new column based on an existing column."
      ],
      "metadata": {
        "id": "u0cPYoAjVCHB"
      }
    },
    {
      "cell_type": "code",
      "source": [
        "import pandas as pd\n",
        "\n",
        "# Create a sample DataFrame\n",
        "data = {\n",
        "    'A': [1, 2, 3, 4, 5],\n",
        "    'B': [5, 4, 3, 2, 1]\n",
        "}\n",
        "df = pd.DataFrame(data)\n",
        "\n",
        "# Add a new column 'C' based on column 'A' (e.g., double the values in 'A')\n",
        "df['C'] = df['A'] * 2\n",
        "\n",
        "print(df)\n"
      ],
      "metadata": {
        "colab": {
          "base_uri": "https://localhost:8080/"
        },
        "id": "9qHbGpluU_dy",
        "outputId": "9ec5d12d-fd8f-4748-db40-ad8c8311897b"
      },
      "execution_count": 12,
      "outputs": [
        {
          "output_type": "stream",
          "name": "stdout",
          "text": [
            "   A  B   C\n",
            "0  1  5   2\n",
            "1  2  4   4\n",
            "2  3  3   6\n",
            "3  4  2   8\n",
            "4  5  1  10\n"
          ]
        }
      ]
    },
    {
      "cell_type": "markdown",
      "source": [
        "7. Write a program to perform element-wise multiplication of two NumPy arrays."
      ],
      "metadata": {
        "id": "wBRSv8qnVSTH"
      }
    },
    {
      "cell_type": "code",
      "source": [
        "import numpy as np\n",
        "\n",
        "# Create two NumPy arrays\n",
        "array1 = np.array([1, 2, 3, 4, 5])\n",
        "array2 = np.array([5, 4, 3, 2, 1])\n",
        "\n",
        "# Perform element-wise multiplication\n",
        "result = array1 * array2\n",
        "\n",
        "print(\"Array 1:\", array1)\n",
        "print(\"Array 2:\", array2)\n",
        "print(\"Element-wise Multiplication Result:\", result)\n"
      ],
      "metadata": {
        "colab": {
          "base_uri": "https://localhost:8080/"
        },
        "id": "Mwig7DOMVRVy",
        "outputId": "7f6a49af-8ff2-4e76-8821-1bed13472365"
      },
      "execution_count": 13,
      "outputs": [
        {
          "output_type": "stream",
          "name": "stdout",
          "text": [
            "Array 1: [1 2 3 4 5]\n",
            "Array 2: [5 4 3 2 1]\n",
            "Element-wise Multiplication Result: [5 8 9 8 5]\n"
          ]
        }
      ]
    },
    {
      "cell_type": "markdown",
      "source": [
        "8. Create a line plot with multiple lines using Matplotlib."
      ],
      "metadata": {
        "id": "4hHt5j5CVjIv"
      }
    },
    {
      "cell_type": "code",
      "source": [
        "import matplotlib.pyplot as plt\n",
        "\n",
        "# Sample data\n",
        "x = [1, 2, 3, 4, 5]\n",
        "y1 = [1, 4, 9, 16, 25]\n",
        "y2 = [1, 8, 27, 64, 125]\n",
        "y3 = [1, 16, 81, 256, 625]\n",
        "\n",
        "# Create a line plot with multiple lines\n",
        "plt.plot(x, y1, label='y = x^2')\n",
        "plt.plot(x, y2, label='y = x^3')\n",
        "plt.plot(x, y3, label='y = x^4')\n",
        "\n",
        "# Add labels, title, and legend\n",
        "plt.xlabel('X-axis label')\n",
        "plt.ylabel('Y-axis label')\n",
        "plt.title('Line Plot with Multiple Lines')\n",
        "plt.legend()\n",
        "\n",
        "# Show the plot\n",
        "plt.show()\n"
      ],
      "metadata": {
        "colab": {
          "base_uri": "https://localhost:8080/",
          "height": 472
        },
        "id": "4u828y0rVgRE",
        "outputId": "133b01f5-ba72-4466-a53e-045908effce8"
      },
      "execution_count": 14,
      "outputs": [
        {
          "output_type": "display_data",
          "data": {
            "text/plain": [
              "<Figure size 640x480 with 1 Axes>"
            ],
            "image/png": "[encoded data removed]"
          },
          "metadata": {}
        }
      ]
    },
    {
      "cell_type": "markdown",
      "source": [
        "9. Generate a Pandas DataFrame and filter rows where a column value is greater than a threshold."
      ],
      "metadata": {
        "id": "UA5QalxMVw1Q"
      }
    },
    {
      "cell_type": "code",
      "source": [
        "import pandas as pd\n",
        "\n",
        "# Create a sample DataFrame\n",
        "data = {\n",
        "    'A': [1, 2, 3, 4, 5],\n",
        "    'B': [5, 4, 3, 2, 1]\n",
        "}\n",
        "df = pd.DataFrame(data)\n",
        "\n",
        "# Define the threshold\n",
        "threshold = 3\n",
        "\n",
        "# Filter rows where column 'A' is greater than the threshold\n",
        "filtered_df = df[df['A'] > threshold]\n",
        "\n",
        "print(\"Original DataFrame:\\n\", df)\n",
        "print(\"Filtered DataFrame:\\n\", filtered_df)\n"
      ],
      "metadata": {
        "colab": {
          "base_uri": "https://localhost:8080/"
        },
        "id": "JGACGJJfVsGi",
        "outputId": "ddd3f90d-e4fc-47a7-fa84-121ccfa80d77"
      },
      "execution_count": 15,
      "outputs": [
        {
          "output_type": "stream",
          "name": "stdout",
          "text": [
            "Original DataFrame:\n",
            "    A  B\n",
            "0  1  5\n",
            "1  2  4\n",
            "2  3  3\n",
            "3  4  2\n",
            "4  5  1\n",
            "Filtered DataFrame:\n",
            "    A  B\n",
            "3  4  2\n",
            "4  5  1\n"
          ]
        }
      ]
    },
    {
      "cell_type": "markdown",
      "source": [
        "10. Create a histogram using Seaborn to visualize a distribution."
      ],
      "metadata": {
        "id": "QbA8RvZ8V7lo"
      }
    },
    {
      "cell_type": "code",
      "source": [
        "import seaborn as sns\n",
        "import pandas as pd\n",
        "import matplotlib.pyplot as plt\n",
        "\n",
        "# Sample data\n",
        "data = [1, 2, 2, 3, 3, 3, 4, 4, 4, 4, 5, 5, 5, 5, 5]\n",
        "\n",
        "# Create a DataFrame\n",
        "df = pd.DataFrame(data, columns=['Values'])\n",
        "\n",
        "# Create a histogram\n",
        "sns.histplot(df['Values'], kde=True, bins=5, color='skyblue')\n",
        "\n",
        "# Add labels and title\n",
        "plt.xlabel('Values')\n",
        "plt.ylabel('Frequency')\n",
        "plt.title('Histogram Example')\n",
        "\n",
        "# Show the plot\n",
        "plt.show()\n"
      ],
      "metadata": {
        "colab": {
          "base_uri": "https://localhost:8080/",
          "height": 472
        },
        "id": "KxGCO-KfV5nL",
        "outputId": "19d92115-8dbe-48fa-bc0b-df7eca969e38"
      },
      "execution_count": 16,
      "outputs": [
        {
          "output_type": "display_data",
          "data": {
            "text/plain": [
              "<Figure size 640x480 with 1 Axes>"
            ],
            "image/png": "[encoded data removed]"
          },
          "metadata": {}
        }
      ]
    },
    {
      "cell_type": "markdown",
      "source": [
        "11. Perform matrix multiplication using NumPy."
      ],
      "metadata": {
        "id": "ArTvrBpmWG-s"
      }
    },
    {
      "cell_type": "code",
      "source": [
        "import numpy as np\n",
        "\n",
        "# Create two matrices\n",
        "matrix1 = np.array([[1, 2], [3, 4]])\n",
        "matrix2 = np.array([[5, 6], [7, 8]])\n",
        "\n",
        "# Perform matrix multiplication\n",
        "result = np.dot(matrix1, matrix2)\n",
        "\n",
        "print(\"Matrix 1:\\n\", matrix1)\n",
        "print(\"Matrix 2:\\n\", matrix2)\n",
        "print(\"Matrix Multiplication Result:\\n\", result)\n"
      ],
      "metadata": {
        "colab": {
          "base_uri": "https://localhost:8080/"
        },
        "id": "tZkRLVR1WCuU",
        "outputId": "b5771d06-3dc6-4525-d8fb-b4c74e695675"
      },
      "execution_count": 17,
      "outputs": [
        {
          "output_type": "stream",
          "name": "stdout",
          "text": [
            "Matrix 1:\n",
            " [[1 2]\n",
            " [3 4]]\n",
            "Matrix 2:\n",
            " [[5 6]\n",
            " [7 8]]\n",
            "Matrix Multiplication Result:\n",
            " [[19 22]\n",
            " [43 50]]\n"
          ]
        }
      ]
    },
    {
      "cell_type": "markdown",
      "source": [
        "12.  Use Pandas to load a CSV file and display its first 5 rows."
      ],
      "metadata": {
        "id": "EFnG8JHdWPi_"
      }
    },
    {
      "cell_type": "code",
      "source": [
        "import pandas as pd\n",
        "\n",
        "# Load the CSV file (replace 'your_file.csv' with the actual path)\n",
        "df = pd.read_csv('your_file.csv')\n",
        "\n",
        "# Display the first 5 rows\n",
        "print(df.head())\n"
      ],
      "metadata": {
        "id": "TkKDvJyJWW8g"
      },
      "execution_count": null,
      "outputs": []
    },
    {
      "cell_type": "markdown",
      "source": [
        "13. Create a 3D scatter plot using Plotly."
      ],
      "metadata": {
        "id": "D0r1MqV-Wsto"
      }
    },
    {
      "cell_type": "code",
      "source": [
        "import plotly.express as px\n",
        "\n",
        "# Sample data\n",
        "data = {\n",
        "    'X': [1, 2, 3, 4, 5],\n",
        "    'Y': [5, 4, 3, 2, 1],\n",
        "    'Z': [10, 20, 30, 40, 50]\n",
        "}\n",
        "\n",
        "# Create a 3D scatter plot\n",
        "fig = px.scatter_3d(data, x='X', y='Y', z='Z', title='3D Scatter Plot Example')\n",
        "\n",
        "# Show the plot\n",
        "fig.show()\n"
      ],
      "metadata": {
        "colab": {
          "base_uri": "https://localhost:8080/",
          "height": 542
        },
        "id": "h_ZTT0e6Wx2h",
        "outputId": "0a62b328-bca8-4129-b303-7b8f2fa007b5"
      },
      "execution_count": 20,
      "outputs": [
        {
          "output_type": "display_data",
          "data": {
            "text/html": [
              "<html>\n",
              "<head><meta charset=\"utf-8\" /></head>\n",
              "<body>\n",
              "    <div>            <script src=\"https://cdnjs.cloudflare.com/ajax/libs/mathjax/2.7.5/MathJax.js?config=TeX-AMS-MML_SVG\"></script><script type=\"text/javascript\">if (window.MathJax && window.MathJax.Hub && window.MathJax.Hub.Config) {window.MathJax.Hub.Config({SVG: {font: \"STIX-Web\"}});}</script>                <script type=\"text/javascript\">window.PlotlyConfig = {MathJaxConfig: 'local'};</script>\n",
              "        <script charset=\"utf-8\" src=\"https://cdn.plot.ly/plotly-2.35.2.min.js\"></script>                <div id=\"fbe0f817-c58a-4b7b-a373-e52ecb8b5a75\" class=\"plotly-graph-div\" style=\"height:525px; width:100%;\"></div>            <script type=\"text/javascript\">                                    window.PLOTLYENV=window.PLOTLYENV || {};                                    if (document.getElementById(\"fbe0f817-c58a-4b7b-a373-e52ecb8b5a75\")) {                    Plotly.newPlot(                        \"fbe0f817-c58a-4b7b-a373-e52ecb8b5a75\",                        [{\"hovertemplate\":\"X=%{x}\\u003cbr\\u003eY=%{y}\\u003cbr\\u003eZ=%{z}\\u003cextra\\u003e\\u003c\\u002fextra\\u003e\",\"legendgroup\":\"\",\"marker\":{\"color\":\"#636efa\",\"symbol\":\"circle\"},\"mode\":\"markers\",\"name\":\"\",\"scene\":\"scene\",\"showlegend\":false,\"x\":[1,2,3,4,5],\"y\":[5,4,3,2,1],\"z\":[10,20,30,40,50],\"type\":\"scatter3d\"}],                        {\"template\":{\"data\":{\"histogram2dcontour\":[{\"type\":\"histogram2dcontour\",\"colorbar\":{\"outlinewidth\":0,\"ticks\":\"\"},\"colorscale\":[[0.0,\"#0d0887\"],[0.1111111111111111,\"#46039f\"],[0.2222222222222222,\"#7201a8\"],[0.3333333333333333,\"#9c179e\"],[0.4444444444444444,\"#bd3786\"],[0.5555555555555556,\"#d8576b\"],[0.6666666666666666,\"#ed7953\"],[0.7777777777777778,\"#fb9f3a\"],[0.8888888888888888,\"#fdca26\"],[1.0,\"#f0f921\"]]}],\"choropleth\":[{\"type\":\"choropleth\",\"colorbar\":{\"outlinewidth\":0,\"ticks\":\"\"}}],\"histogram2d\":[{\"type\":\"histogram2d\",\"colorbar\":{\"outlinewidth\":0,\"ticks\":\"\"},\"colorscale\":[[0.0,\"#0d0887\"],[0.1111111111111111,\"#46039f\"],[0.2222222222222222,\"#7201a8\"],[0.3333333333333333,\"#9c179e\"],[0.4444444444444444,\"#bd3786\"],[0.5555555555555556,\"#d8576b\"],[0.6666666666666666,\"#ed7953\"],[0.7777777777777778,\"#fb9f3a\"],[0.8888888888888888,\"#fdca26\"],[1.0,\"#f0f921\"]]}],\"heatmap\":[{\"type\":\"heatmap\",\"colorbar\":{\"outlinewidth\":0,\"ticks\":\"\"},\"colorscale\":[[0.0,\"#0d0887\"],[0.1111111111111111,\"#46039f\"],[0.2222222222222222,\"#7201a8\"],[0.3333333333333333,\"#9c179e\"],[0.4444444444444444,\"#bd3786\"],[0.5555555555555556,\"#d8576b\"],[0.6666666666666666,\"#ed7953\"],[0.7777777777777778,\"#fb9f3a\"],[0.8888888888888888,\"#fdca26\"],[1.0,\"#f0f921\"]]}],\"heatmapgl\":[{\"type\":\"heatmapgl\",\"colorbar\":{\"outlinewidth\":0,\"ticks\":\"\"},\"colorscale\":[[0.0,\"#0d0887\"],[0.1111111111111111,\"#46039f\"],[0.2222222222222222,\"#7201a8\"],[0.3333333333333333,\"#9c179e\"],[0.4444444444444444,\"#bd3786\"],[0.5555555555555556,\"#d8576b\"],[0.6666666666666666,\"#ed7953\"],[0.7777777777777778,\"#fb9f3a\"],[0.8888888888888888,\"#fdca26\"],[1.0,\"#f0f921\"]]}],\"contourcarpet\":[{\"type\":\"contourcarpet\",\"colorbar\":{\"outlinewidth\":0,\"ticks\":\"\"}}],\"contour\":[{\"type\":\"contour\",\"colorbar\":{\"outlinewidth\":0,\"ticks\":\"\"},\"colorscale\":[[0.0,\"#0d0887\"],[0.1111111111111111,\"#46039f\"],[0.2222222222222222,\"#7201a8\"],[0.3333333333333333,\"#9c179e\"],[0.4444444444444444,\"#bd3786\"],[0.5555555555555556,\"#d8576b\"],[0.6666666666666666,\"#ed7953\"],[0.7777777777777778,\"#fb9f3a\"],[0.8888888888888888,\"#fdca26\"],[1.0,\"#f0f921\"]]}],\"surface\":[{\"type\":\"surface\",\"colorbar\":{\"outlinewidth\":0,\"ticks\":\"\"},\"colorscale\":[[0.0,\"#0d0887\"],[0.1111111111111111,\"#46039f\"],[0.2222222222222222,\"#7201a8\"],[0.3333333333333333,\"#9c179e\"],[0.4444444444444444,\"#bd3786\"],[0.5555555555555556,\"#d8576b\"],[0.6666666666666666,\"#ed7953\"],[0.7777777777777778,\"#fb9f3a\"],[0.8888888888888888,\"#fdca26\"],[1.0,\"#f0f921\"]]}],\"mesh3d\":[{\"type\":\"mesh3d\",\"colorbar\":{\"outlinewidth\":0,\"ticks\":\"\"}}],\"scatter\":[{\"fillpattern\":{\"fillmode\":\"overlay\",\"size\":10,\"solidity\":0.2},\"type\":\"scatter\"}],\"parcoords\":[{\"type\":\"parcoords\",\"line\":{\"colorbar\":{\"outlinewidth\":0,\"ticks\":\"\"}}}],\"scatterpolargl\":[{\"type\":\"scatterpolargl\",\"marker\":{\"colorbar\":{\"outlinewidth\":0,\"ticks\":\"\"}}}],\"bar\":[{\"error_x\":{\"color\":\"#2a3f5f\"},\"error_y\":{\"color\":\"#2a3f5f\"},\"marker\":{\"line\":{\"color\":\"#E5ECF6\",\"width\":0.5},\"pattern\":{\"fillmode\":\"overlay\",\"size\":10,\"solidity\":0.2}},\"type\":\"bar\"}],\"scattergeo\":[{\"type\":\"scattergeo\",\"marker\":{\"colorbar\":{\"outlinewidth\":0,\"ticks\":\"\"}}}],\"scatterpolar\":[{\"type\":\"scatterpolar\",\"marker\":{\"colorbar\":{\"outlinewidth\":0,\"ticks\":\"\"}}}],\"histogram\":[{\"marker\":{\"pattern\":{\"fillmode\":\"overlay\",\"size\":10,\"solidity\":0.2}},\"type\":\"histogram\"}],\"scattergl\":[{\"type\":\"scattergl\",\"marker\":{\"colorbar\":{\"outlinewidth\":0,\"ticks\":\"\"}}}],\"scatter3d\":[{\"type\":\"scatter3d\",\"line\":{\"colorbar\":{\"outlinewidth\":0,\"ticks\":\"\"}},\"marker\":{\"colorbar\":{\"outlinewidth\":0,\"ticks\":\"\"}}}],\"scattermapbox\":[{\"type\":\"scattermapbox\",\"marker\":{\"colorbar\":{\"outlinewidth\":0,\"ticks\":\"\"}}}],\"scatterternary\":[{\"type\":\"scatterternary\",\"marker\":{\"colorbar\":{\"outlinewidth\":0,\"ticks\":\"\"}}}],\"scattercarpet\":[{\"type\":\"scattercarpet\",\"marker\":{\"colorbar\":{\"outlinewidth\":0,\"ticks\":\"\"}}}],\"carpet\":[{\"aaxis\":{\"endlinecolor\":\"#2a3f5f\",\"gridcolor\":\"white\",\"linecolor\":\"white\",\"minorgridcolor\":\"white\",\"startlinecolor\":\"#2a3f5f\"},\"baxis\":{\"endlinecolor\":\"#2a3f5f\",\"gridcolor\":\"white\",\"linecolor\":\"white\",\"minorgridcolor\":\"white\",\"startlinecolor\":\"#2a3f5f\"},\"type\":\"carpet\"}],\"table\":[{\"cells\":{\"fill\":{\"color\":\"#EBF0F8\"},\"line\":{\"color\":\"white\"}},\"header\":{\"fill\":{\"color\":\"#C8D4E3\"},\"line\":{\"color\":\"white\"}},\"type\":\"table\"}],\"barpolar\":[{\"marker\":{\"line\":{\"color\":\"#E5ECF6\",\"width\":0.5},\"pattern\":{\"fillmode\":\"overlay\",\"size\":10,\"solidity\":0.2}},\"type\":\"barpolar\"}],\"pie\":[{\"automargin\":true,\"type\":\"pie\"}]},\"layout\":{\"autotypenumbers\":\"strict\",\"colorway\":[\"#636efa\",\"#EF553B\",\"#00cc96\",\"#ab63fa\",\"#FFA15A\",\"#19d3f3\",\"#FF6692\",\"#B6E880\",\"#FF97FF\",\"#FECB52\"],\"font\":{\"color\":\"#2a3f5f\"},\"hovermode\":\"closest\",\"hoverlabel\":{\"align\":\"left\"},\"paper_bgcolor\":\"white\",\"plot_bgcolor\":\"#E5ECF6\",\"polar\":{\"bgcolor\":\"#E5ECF6\",\"angularaxis\":{\"gridcolor\":\"white\",\"linecolor\":\"white\",\"ticks\":\"\"},\"radialaxis\":{\"gridcolor\":\"white\",\"linecolor\":\"white\",\"ticks\":\"\"}},\"ternary\":{\"bgcolor\":\"#E5ECF6\",\"aaxis\":{\"gridcolor\":\"white\",\"linecolor\":\"white\",\"ticks\":\"\"},\"baxis\":{\"gridcolor\":\"white\",\"linecolor\":\"white\",\"ticks\":\"\"},\"caxis\":{\"gridcolor\":\"white\",\"linecolor\":\"white\",\"ticks\":\"\"}},\"coloraxis\":{\"colorbar\":{\"outlinewidth\":0,\"ticks\":\"\"}},\"colorscale\":{\"sequential\":[[0.0,\"#0d0887\"],[0.1111111111111111,\"#46039f\"],[0.2222222222222222,\"#7201a8\"],[0.3333333333333333,\"#9c179e\"],[0.4444444444444444,\"#bd3786\"],[0.5555555555555556,\"#d8576b\"],[0.6666666666666666,\"#ed7953\"],[0.7777777777777778,\"#fb9f3a\"],[0.8888888888888888,\"#fdca26\"],[1.0,\"#f0f921\"]],\"sequentialminus\":[[0.0,\"#0d0887\"],[0.1111111111111111,\"#46039f\"],[0.2222222222222222,\"#7201a8\"],[0.3333333333333333,\"#9c179e\"],[0.4444444444444444,\"#bd3786\"],[0.5555555555555556,\"#d8576b\"],[0.6666666666666666,\"#ed7953\"],[0.7777777777777778,\"#fb9f3a\"],[0.8888888888888888,\"#fdca26\"],[1.0,\"#f0f921\"]],\"diverging\":[[0,\"#8e0152\"],[0.1,\"#c51b7d\"],[0.2,\"#de77ae\"],[0.3,\"#f1b6da\"],[0.4,\"#fde0ef\"],[0.5,\"#f7f7f7\"],[0.6,\"#e6f5d0\"],[0.7,\"#b8e186\"],[0.8,\"#7fbc41\"],[0.9,\"#4d9221\"],[1,\"#276419\"]]},\"xaxis\":{\"gridcolor\":\"white\",\"linecolor\":\"white\",\"ticks\":\"\",\"title\":{\"standoff\":15},\"zerolinecolor\":\"white\",\"automargin\":true,\"zerolinewidth\":2},\"yaxis\":{\"gridcolor\":\"white\",\"linecolor\":\"white\",\"ticks\":\"\",\"title\":{\"standoff\":15},\"zerolinecolor\":\"white\",\"automargin\":true,\"zerolinewidth\":2},\"scene\":{\"xaxis\":{\"backgroundcolor\":\"#E5ECF6\",\"gridcolor\":\"white\",\"linecolor\":\"white\",\"showbackground\":true,\"ticks\":\"\",\"zerolinecolor\":\"white\",\"gridwidth\":2},\"yaxis\":{\"backgroundcolor\":\"#E5ECF6\",\"gridcolor\":\"white\",\"linecolor\":\"white\",\"showbackground\":true,\"ticks\":\"\",\"zerolinecolor\":\"white\",\"gridwidth\":2},\"zaxis\":{\"backgroundcolor\":\"#E5ECF6\",\"gridcolor\":\"white\",\"linecolor\":\"white\",\"showbackground\":true,\"ticks\":\"\",\"zerolinecolor\":\"white\",\"gridwidth\":2}},\"shapedefaults\":{\"line\":{\"color\":\"#2a3f5f\"}},\"annotationdefaults\":{\"arrowcolor\":\"#2a3f5f\",\"arrowhead\":0,\"arrowwidth\":1},\"geo\":{\"bgcolor\":\"white\",\"landcolor\":\"#E5ECF6\",\"subunitcolor\":\"white\",\"showland\":true,\"showlakes\":true,\"lakecolor\":\"white\"},\"title\":{\"x\":0.05},\"mapbox\":{\"style\":\"light\"}}},\"scene\":{\"domain\":{\"x\":[0.0,1.0],\"y\":[0.0,1.0]},\"xaxis\":{\"title\":{\"text\":\"X\"}},\"yaxis\":{\"title\":{\"text\":\"Y\"}},\"zaxis\":{\"title\":{\"text\":\"Z\"}}},\"legend\":{\"tracegroupgap\":0},\"title\":{\"text\":\"3D Scatter Plot Example\"}},                        {\"responsive\": true}                    ).then(function(){\n",
              "                            \n",
              "var gd = document.getElementById('fbe0f817-c58a-4b7b-a373-e52ecb8b5a75');\n",
              "var x = new MutationObserver(function (mutations, observer) {{\n",
              "        var display = window.getComputedStyle(gd).display;\n",
              "        if (!display || display === 'none') {{\n",
              "            console.log([gd, 'removed!']);\n",
              "            Plotly.purge(gd);\n",
              "            observer.disconnect();\n",
              "        }}\n",
              "}});\n",
              "\n",
              "// Listen for the removal of the full notebook cells\n",
              "var notebookContainer = gd.closest('#notebook-container');\n",
              "if (notebookContainer) {{\n",
              "    x.observe(notebookContainer, {childList: true});\n",
              "}}\n",
              "\n",
              "// Listen for the clearing of the current output cell\n",
              "var outputEl = gd.closest('.output');\n",
              "if (outputEl) {{\n",
              "    x.observe(outputEl, {childList: true});\n",
              "}}\n",
              "\n",
              "                        })                };                            </script>        </div>\n",
              "</body>\n",
              "</html>"
            ]
          },
          "metadata": {}
        }
      ]
    },
    {
      "cell_type": "code",
      "source": [],
      "metadata": {
        "id": "zcvsVvZlW3jY"
      },
      "execution_count": null,
      "outputs": []
    }
  ]
}