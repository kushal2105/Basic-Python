{
 "cells": [
  {
   "cell_type": "raw",
   "id": "f2981966-2f2e-4039-acaa-936011cf2734",
   "metadata": {},
   "source": [
    "Python Basic Assignent\n",
    "\n",
    "1. What is Python and why is it popular?\n",
    "    - Python is high-lever, interpreted programing language. It was created by Guido Van Rossu and first released in 1991.\n",
    "    Reasons for Python's Popularity:\n",
    "    1. Ease of learning and use.\n",
    "    2. It has extensive collection of libraries and frameworks.\n",
    "    3. Versatility- Suitable for many use cases, from web and mobile developent to scientific computing, data analysis and even game development.\n",
    "    4. Strong community support- Python has a large and active community of deverlopers, which leads to extensive documentation and open-source projects.\n",
    "    5. Integration- Python can easily integrate with other languages like C, C++ and Java.\n",
    "\n",
    "2. What is an interpreter in Python?\n",
    "    - An interpreter in Python is a computer program that translates python code into machine code that a compter can understand.\n",
    "    How it works- The interpreter reads the souce code, breaks it down into toens, and checks the syntax. If the code is syntactically correct, the interpreter generates bytecode, which is a lower-level representation of the code. The ython virtal achine then exectes the bytecode, converting it into executable code.\n",
    "\n",
    "3. What are pre-defined keywords in python?\n",
    "    - Python keywords are some predefined and reserved words in Python that have special meanings. Keywords are used to define the syntax of the coding.\n",
    "    - The keyword cannot be used as an identifier, funtion or variable name.\n",
    "    - All the keywords in Python are written in lower-case except True and False. There are 35 keywords in Python 3.11.\n",
    "\n"
   ]
  },
  {
   "cell_type": "raw",
   "id": "156a9997-50e3-471a-8728-e83685dfd49a",
   "metadata": {},
   "source": [
    "4. Can python keywords be used as variable names?\n",
    "    - A keyword cannot be used as variable nae, because it can lead to conusion and errors in the code. The compiler would not be able to determine if you meant to use the keyword for flow control or or accessing the variable.\n",
    "\n",
    "5. What is mutability in Python?\n",
    "    - In python, mutability reers to the ability to change the value or state of an object ater it has been created.\n",
    "    - Mutable data types in Python - List, Set and Dictionary\n",
    "\n",
    "6. Why are lists mutable, but tuples are immutable?\n",
    "    - The difference between the mutability of lists and the immutability of tuples in Python is a deliberate design choice, rooted in their intended use cases and performance considerations.\n",
    "    - Lists in python is mutable, as it is designed or scenarios where you might need to modify, add, or remove eleents dynamically.\n",
    "    - Tuples are immutable as it is intended to be a lightweight, hashable container for dixed and constant data.\n",
    "\n",
    "7. What is the difference between \"==\" and \"is\" operators in Python?\n",
    "    - The main difference between the \"==\"  and \"is\" operators is that == compares the equality of objects, while \"is\" compares the identity of objects.\n",
    "    - \"==\" The equality operator compares the values of two objects to see i they are equal. If the values are equal, the condition is true.\n",
    "    - \"is\" The identity operator compares if two variables point to the same object in memory. If the variables point to same obect, the condition is true. If not, the condition is false.\n",
    "\n",
    "8. What are logical operators in Python?\n",
    "    - Logical operators are used to combine conditional statements, allowing you to perform operations based on multiple conditions.\n",
    "    There are three tyes of logical operators in Python:\n",
    "    1. And operator\n",
    "    2. Or operator\n",
    "    3. Not operator\n",
    "\n",
    "    And operator- The And operator is used to verify where both conditions associated with it are True simultaneously.\n",
    "    The conditions that can occur are:\n",
    "    - If both are True, then the result is True.\n",
    "    - If one is True and the other is False, the result is False.\n",
    "    - If both are False, the result is False.\n",
    "\n",
    "    Or operator- The Or operator is used to verify that either of the assciated condtions is true.\n",
    "    The condition that can occur are:\n",
    "    - If both are true, the result is True.\n",
    "    - If one is True and other false, the result is true.\n",
    "    - If both are false, the result is false.\n",
    "\n",
    "    Not operator- The Not operator is assciated with a single condition. It inverts the reslts, i.e true is changed to false, and false is changed to true.\n",
    "    The conditions that occurs are:\n",
    "    - If the condition is true, the result is false.\n",
    "    - If the condition is false, the result is true.\n",
    "\n",
    "9. What is type casting in Python?\n",
    "    - Type casting is the method to convert the python variable datatype into a certain data type in order perform the required operation by users.\n",
    "\n",
    "10. What is the difference between implicit and explicit type casting?\n",
    "    - Implicit type casting\n",
    "        In this, python converts the datatype into another datatype automatically. Users don't have to invlove in this process.\n",
    "    - Explicit type casting\n",
    "        In this ethod, python needs user involvement to convert the variable data type into the required data type.\n",
    "\n",
    "    Examples of type casting:\n",
    "        - Int()\n",
    "        - float()\n",
    "        - str()\n",
    "\n",
    "11. What is the purpose fo condtional statements in python?\n",
    "    - Conditional statements, also known as control flow statements or decision making statements, are used in Python to make decisions based on certain conditions.\n",
    "\n",
    "    Purpose- Conditional statements determine the low of a program's code execution by evaluating an expression for a Boolean value and execution a block of code accordingly. Example- 'If', 'Else' and 'Elif'.\n",
    "\n",
    "\n",
    "12. How does the elif statement work?\n",
    "    In python, elif stands for \"else if\", and it is used in condtional statements to check multiple conditions sequentially, and as soon as one condition is met, the rest of the elif statements are skipped.\n",
    "\n",
    "    How it works:\n",
    "    1. 'if' statement - The program first evaluates the condition in the 'if' statement.\n",
    "        If True, the code block nder it executes, and the rest of the condtional blocks(elif and else) are skipped.\n",
    "\n",
    "    2. 'elif' statement- If the 'if' condition is False, the program evaluates the first 'elif' condition:\n",
    "        -If it is True, its code block executes, and the rest of the conditional block are skipped.\n",
    "        -If it is False, the program checks the next 'elif' condition.\n",
    "\n",
    "    3. 'else' statement- If noe of the 'if' or 'elif' conditions are True, the code block nder the 'else' statement executes.\n",
    "\n",
    "\n",
    "13. What is the difference between 'for' and 'while' loop?\n",
    "    - Differences in features:\n",
    "\n",
    "    1. Initialization\n",
    "        'for loop'- Declared within the loop structure and executed once at the beginning.\n",
    "        'while loop'- Declared outside the loop, should be done explicitly beore the loop.\n",
    "    2. Condition\n",
    "        'for loop'- Checked before each iteration\n",
    "        'while loop'- Checked before each iteration\n",
    "    3. Update\n",
    "        'for loop'- Executed before each iteration\n",
    "        'while loop'- Executed inside the loop, needs to be handled explicitly.\n",
    "    4. Use cases\n",
    "        'for loop'- Suitable for a known number of iterations or when looping over ranges.\n",
    "        'while loop'- Useful when the number of iterations is not known in advance or based on a condition.\n",
    "\n",
    "\n",
    "14. Describe a scenario where a while loop is ore suitable than a for loop.\n",
    "    - A while loop is more suitable than a for loo in scenarios where the number of iterations is not known in advance and depends on a condition being met during execution.\n",
    "\n",
    "    Imagine a program where you need to ensure that a user enters a valid password. The program should keep asking the user for input ntil they provide a password that eets specific criteria.\n"
   ]
  },
  {
   "cell_type": "code",
   "execution_count": null,
   "id": "9e0ac8a0-ba0d-4eae-80cf-48e720a5e18a",
   "metadata": {},
   "outputs": [
    {
     "name": "stdin",
     "output_type": "stream",
     "text": [
      "Enter a password of atleast 8 letters Kushal\n"
     ]
    },
    {
     "name": "stdout",
     "output_type": "stream",
     "text": [
      "Password accepted\n"
     ]
    }
   ],
   "source": [
    "# Example\n",
    "password = \"\"\n",
    "while len(password) < 8:\n",
    "    password = input(\"Enter a password of atleast 8 letters\")\n",
    "    print(\"Password accepted\")"
   ]
  },
  {
   "cell_type": "markdown",
   "id": "1366021c-47e6-4969-8a67-8f07be0cfe69",
   "metadata": {},
   "source": [
    "## Practical Questions\n",
    "\n",
    "\n"
   ]
  },
  {
   "cell_type": "raw",
   "id": "3fd7eb22-57c0-449e-9203-1ba42be6c076",
   "metadata": {},
   "source": [
    "1.  Write a Python program to print \"Hello, World!"
   ]
  },
  {
   "cell_type": "code",
   "execution_count": 1,
   "id": "7fb96667-f617-4466-85d8-7559ec727c73",
   "metadata": {},
   "outputs": [
    {
     "name": "stdout",
     "output_type": "stream",
     "text": [
      "Hello, World!\n"
     ]
    }
   ],
   "source": [
    "print(\"Hello, World!\")"
   ]
  },
  {
   "cell_type": "raw",
   "id": "f59c829e-661e-4970-bba8-56a7972ed406",
   "metadata": {},
   "source": [
    "2. Write a Python program that displays your name and age."
   ]
  },
  {
   "cell_type": "code",
   "execution_count": 3,
   "id": "9c2e1528-5d30-4250-823f-77a5019a6af6",
   "metadata": {},
   "outputs": [
    {
     "name": "stdout",
     "output_type": "stream",
     "text": [
      "My name is Kushal Sharma\n",
      "I am 27 years old.\n"
     ]
    }
   ],
   "source": [
    "# Program to display name and age\n",
    "\n",
    "# Variables for name and age\n",
    "name = \"Kushal Sharma\"  \n",
    "age = 27          \n",
    "\n",
    "# Displaying name and age\n",
    "print(\"My name is\", name)\n",
    "print(\"I am\", age, \"years old.\")\n"
   ]
  },
  {
   "cell_type": "raw",
   "id": "a9c010d1-9c10-456e-9c71-1140c302418c",
   "metadata": {},
   "source": [
    "3. Write code to print all the pre-defined keywords in Python using the keyword library."
   ]
  },
  {
   "cell_type": "code",
   "execution_count": 5,
   "id": "b8464ff1-8215-40e6-82c1-e8a4ba0b6823",
   "metadata": {},
   "outputs": [
    {
     "name": "stdout",
     "output_type": "stream",
     "text": [
      "\n",
      "Here is a list of the Python keywords.  Enter any keyword to get more help.\n",
      "\n",
      "False               class               from                or\n",
      "None                continue            global              pass\n",
      "True                def                 if                  raise\n",
      "and                 del                 import              return\n",
      "as                  elif                in                  try\n",
      "assert              else                is                  while\n",
      "async               except              lambda              with\n",
      "await               finally             nonlocal            yield\n",
      "break               for                 not                 \n",
      "\n"
     ]
    }
   ],
   "source": [
    "help('keywords')"
   ]
  },
  {
   "cell_type": "raw",
   "id": "65dadfff-aa3b-4f7a-bbe4-69beefac5083",
   "metadata": {},
   "source": [
    "4. Write a program that checks if a given word is a Python keyword."
   ]
  },
  {
   "cell_type": "code",
   "execution_count": 7,
   "id": "0f54e089-260e-4bab-b7ca-67ed08dc08f7",
   "metadata": {},
   "outputs": [
    {
     "name": "stdout",
     "output_type": "stream",
     "text": [
      "Python predefined keywords:\n",
      "['False', 'None', 'True', 'and', 'as', 'assert', 'async', 'await', 'break', 'class', 'continue', 'def', 'del', 'elif', 'else', 'except', 'finally', 'for', 'from', 'global', 'if', 'import', 'in', 'is', 'lambda', 'nonlocal', 'not', 'or', 'pass', 'raise', 'return', 'try', 'while', 'with', 'yield']\n"
     ]
    }
   ],
   "source": [
    "import keyword\n",
    "\n",
    "# Print all predefined Python keywords\n",
    "print(\"Python predefined keywords:\")\n",
    "print(keyword.kwlist)\n"
   ]
  },
  {
   "cell_type": "raw",
   "id": "3638d32d-ebb7-4f93-8c24-1c1a65b3f99f",
   "metadata": {},
   "source": [
    "5. Create a list and tuple in Python, and demonstrate how attempting to change an element works differently for each."
   ]
  },
  {
   "cell_type": "code",
   "execution_count": 9,
   "id": "d05ed0a0-6fc1-4d7c-805e-75fed828bfe2",
   "metadata": {},
   "outputs": [
    {
     "name": "stdout",
     "output_type": "stream",
     "text": [
      "Original list: [1, 2, 3, 4, 5]\n",
      "Modified list: [1, 2, 10, 4, 5]\n",
      "\n",
      "Original tuple: (1, 2, 3, 4, 5)\n",
      "Error when trying to modify tuple: 'tuple' object does not support item assignment\n"
     ]
    }
   ],
   "source": [
    "# Creating a list\n",
    "my_list = [1, 2, 3, 4, 5]\n",
    "\n",
    "# Creating a tuple\n",
    "my_tuple = (1, 2, 3, 4, 5)\n",
    "\n",
    "# Attempting to change an element in the list\n",
    "print(\"Original list:\", my_list)\n",
    "my_list[2] = 10  # Changing the 3rd element of the list\n",
    "print(\"Modified list:\", my_list)\n",
    "\n",
    "# Attempting to change an element in the tuple\n",
    "print(\"\\nOriginal tuple:\", my_tuple)\n",
    "try:\n",
    "    my_tuple[2] = 10  # Trying to change the 3rd element of the tuple\n",
    "except TypeError as e:\n",
    "    print(\"Error when trying to modify tuple:\", e)\n"
   ]
  },
  {
   "cell_type": "raw",
   "id": "b30cd934-2fdd-4136-be5f-9d26b0578524",
   "metadata": {},
   "source": [
    "6.  Write a function to demonstrate the behavior of mutable and immutable arguments."
   ]
  },
  {
   "cell_type": "code",
   "execution_count": 11,
   "id": "b965356d-2281-4219-a82d-2d99e161b4c4",
   "metadata": {},
   "outputs": [
    {
     "name": "stdout",
     "output_type": "stream",
     "text": [
      "Before function call:\n",
      "Original list: [1, 2, 3]\n",
      "Original integer: 10\n",
      "Mutable argument (list) after modification: [1, 2, 3, 100]\n",
      "Immutable argument (integer) after modification: 15\n",
      "\n",
      "After function call:\n",
      "List outside function: [1, 2, 3, 100]\n",
      "Integer outside function: 10\n"
     ]
    }
   ],
   "source": [
    "def modify_arguments(mutable_arg, immutable_arg):\n",
    "    # Modify mutable argument (list)\n",
    "    mutable_arg.append(100)\n",
    "    \n",
    "    # Modify immutable argument (integer)\n",
    "    immutable_arg += 5\n",
    "    \n",
    "    # Print the changes\n",
    "    print(\"Mutable argument (list) after modification:\", mutable_arg)\n",
    "    print(\"Immutable argument (integer) after modification:\", immutable_arg)\n",
    "\n",
    "\n",
    "# Test the function\n",
    "my_list = [1, 2, 3]\n",
    "my_int = 10\n",
    "\n",
    "print(\"Before function call:\")\n",
    "print(\"Original list:\", my_list)\n",
    "print(\"Original integer:\", my_int)\n",
    "\n",
    "# Calling the function\n",
    "modify_arguments(my_list, my_int)\n",
    "\n",
    "print(\"\\nAfter function call:\")\n",
    "print(\"List outside function:\", my_list)  # List is modified\n",
    "print(\"Integer outside function:\", my_int)  # Integer remains unchanged\n"
   ]
  },
  {
   "cell_type": "raw",
   "id": "bfaafc1e-04ea-4a14-9239-d1b6acec62a5",
   "metadata": {},
   "source": [
    "7. Write a function to demonstrate the behavior of mutable and immutable arguments."
   ]
  },
  {
   "cell_type": "code",
   "execution_count": 15,
   "id": "5d3b4c1d-b47b-4530-b5d3-9995ce4a4fe5",
   "metadata": {},
   "outputs": [
    {
     "name": "stdout",
     "output_type": "stream",
     "text": [
      "Before function call:\n",
      "Original list: [1, 2, 3]\n",
      "Original integer: 10\n",
      "Mutable argument (list) after modification: [1, 2, 3, 100]\n",
      "Immutable argument (integer) after modification: 15\n",
      "\n",
      "After function call:\n",
      "List outside function: [1, 2, 3, 100]\n",
      "Integer outside function: 10\n"
     ]
    }
   ],
   "source": [
    "def modify_arguments(mutable_arg, immutable_arg):\n",
    "    # Modify mutable argument (list)\n",
    "    mutable_arg.append(100)\n",
    "    \n",
    "    # Modify immutable argument (integer)\n",
    "    immutable_arg += 5\n",
    "    \n",
    "    # Print the changes\n",
    "    print(\"Mutable argument (list) after modification:\", mutable_arg)\n",
    "    print(\"Immutable argument (integer) after modification:\", immutable_arg)\n",
    "\n",
    "\n",
    "# Test the function\n",
    "my_list = [1, 2, 3]\n",
    "my_int = 10\n",
    "\n",
    "print(\"Before function call:\")\n",
    "print(\"Original list:\", my_list)\n",
    "print(\"Original integer:\", my_int)\n",
    "\n",
    "# Calling the function\n",
    "modify_arguments(my_list, my_int)\n",
    "\n",
    "print(\"\\nAfter function call:\")\n",
    "print(\"List outside function:\", my_list)  # List is modified\n",
    "print(\"Integer outside function:\", my_int)  # Integer remains unchanged"
   ]
  },
  {
   "cell_type": "raw",
   "id": "80fcd14d-2634-4958-9f06-a46e49ec8f7b",
   "metadata": {},
   "source": [
    "8. Write a program to demonstrate the use of logical operators."
   ]
  },
  {
   "cell_type": "code",
   "execution_count": 17,
   "id": "dfac27e1-4421-4ae7-a00b-1ad135adf880",
   "metadata": {},
   "outputs": [
    {
     "name": "stdout",
     "output_type": "stream",
     "text": [
      "a and b: False\n",
      "a or b: True\n",
      "not a: False\n",
      "not b: True\n",
      "\n",
      "Second test case:\n",
      "a and b: False\n",
      "a or b: False\n",
      "not a: True\n",
      "not b: True\n"
     ]
    }
   ],
   "source": [
    "# Test cases with logical operators\n",
    "a = True\n",
    "b = False\n",
    "\n",
    "# Using 'and' operator: True if both a and b are True\n",
    "print(\"a and b:\", a and b)  # False because b is False\n",
    "\n",
    "# Using 'or' operator: True if either a or b is True\n",
    "print(\"a or b:\", a or b)   # True because a is True\n",
    "\n",
    "# Using 'not' operator: Reverses the result of the condition\n",
    "print(\"not a:\", not a)     # False because a is True\n",
    "print(\"not b:\", not b)     # True because b is False\n",
    "\n",
    "# Another test case\n",
    "a = False\n",
    "b = False\n",
    "\n",
    "print(\"\\nSecond test case:\")\n",
    "print(\"a and b:\", a and b)  # False because both are False\n",
    "print(\"a or b:\", a or b)    # False because both are False\n",
    "print(\"not a:\", not a)      # True because a is False\n",
    "print(\"not b:\", not b)      # True because b is False\n"
   ]
  },
  {
   "cell_type": "raw",
   "id": "cb6839fc-c469-404d-8173-28faf49eab8c",
   "metadata": {},
   "source": [
    "9. Write a Python program to convert user input from string to integer, float, and boolean types."
   ]
  },
  {
   "cell_type": "code",
   "execution_count": 19,
   "id": "b842409d-5ffc-472c-bca9-05e1b75c6fa0",
   "metadata": {},
   "outputs": [
    {
     "name": "stdin",
     "output_type": "stream",
     "text": [
      "Enter a value:  234\n"
     ]
    },
    {
     "name": "stdout",
     "output_type": "stream",
     "text": [
      "Integer: 234\n",
      "Float: 234.0\n",
      "Boolean: True\n"
     ]
    }
   ],
   "source": [
    "# Taking user input as a string\n",
    "user_input = input(\"Enter a value: \")\n",
    "\n",
    "# Convert the input to integer\n",
    "int_value = int(user_input)\n",
    "print(\"Integer:\", int_value)\n",
    "\n",
    "# Convert the input to float\n",
    "float_value = float(user_input)\n",
    "print(\"Float:\", float_value)\n",
    "\n",
    "# Convert the input to boolean\n",
    "bool_value = bool(user_input)\n",
    "print(\"Boolean:\", bool_value)\n"
   ]
  },
  {
   "cell_type": "raw",
   "id": "9ef9e5a6-972d-46de-81e9-97995b3f075c",
   "metadata": {},
   "source": [
    "10. Write code to demonstrate type casting with list elements."
   ]
  },
  {
   "cell_type": "code",
   "execution_count": 37,
   "id": "7d0e1ee7-6ede-45c5-bd8c-fb79aa410661",
   "metadata": {},
   "outputs": [
    {
     "ename": "ValueError",
     "evalue": "invalid literal for int() with base 10: '4.5'",
     "output_type": "error",
     "traceback": [
      "\u001b[1;31m---------------------------------------------------------------------------\u001b[0m",
      "\u001b[1;31mValueError\u001b[0m                                Traceback (most recent call last)",
      "Cell \u001b[1;32mIn[37], line 7\u001b[0m\n\u001b[0;32m      2\u001b[0m string_list \u001b[38;5;241m=\u001b[39m [\u001b[38;5;124m\"\u001b[39m\u001b[38;5;124m1\u001b[39m\u001b[38;5;124m\"\u001b[39m, \u001b[38;5;124m\"\u001b[39m\u001b[38;5;124m2\u001b[39m\u001b[38;5;124m\"\u001b[39m, \u001b[38;5;124m\"\u001b[39m\u001b[38;5;124m3\u001b[39m\u001b[38;5;124m\"\u001b[39m, \u001b[38;5;124m\"\u001b[39m\u001b[38;5;124m4.5\u001b[39m\u001b[38;5;124m\"\u001b[39m, \u001b[38;5;124m\"\u001b[39m\u001b[38;5;124mTrue\u001b[39m\u001b[38;5;124m\"\u001b[39m]\n\u001b[0;32m      4\u001b[0m \u001b[38;5;66;03m# Convert the list elements to integer, float, and boolean types\u001b[39;00m\n\u001b[0;32m      5\u001b[0m \n\u001b[0;32m      6\u001b[0m \u001b[38;5;66;03m# Casting each element of the list to integer\u001b[39;00m\n\u001b[1;32m----> 7\u001b[0m int_list \u001b[38;5;241m=\u001b[39m [\u001b[38;5;28mint\u001b[39m(x) \u001b[38;5;28;01mfor\u001b[39;00m x \u001b[38;5;129;01min\u001b[39;00m string_list \u001b[38;5;28;01mif\u001b[39;00m x\u001b[38;5;241m.\u001b[39mreplace(\u001b[38;5;124m'\u001b[39m\u001b[38;5;124m.\u001b[39m\u001b[38;5;124m'\u001b[39m, \u001b[38;5;124m'\u001b[39m\u001b[38;5;124m'\u001b[39m, \u001b[38;5;241m1\u001b[39m)\u001b[38;5;241m.\u001b[39misdigit()]\n\u001b[0;32m      8\u001b[0m \u001b[38;5;28mprint\u001b[39m(\u001b[38;5;124m\"\u001b[39m\u001b[38;5;124mList with integer values:\u001b[39m\u001b[38;5;124m\"\u001b[39m, int_list)\n\u001b[0;32m     10\u001b[0m \u001b[38;5;66;03m# Casting each element of the list to float\u001b[39;00m\n",
      "\u001b[1;31mValueError\u001b[0m: invalid literal for int() with base 10: '4.5'"
     ]
    }
   ],
   "source": []
  },
  {
   "cell_type": "raw",
   "id": "3d60f16d-6594-4ac8-9dd1-e4fbe5f63228",
   "metadata": {},
   "source": [
    "11. Write a program that checks if a number is positive, negative, or zero."
   ]
  },
  {
   "cell_type": "code",
   "execution_count": 39,
   "id": "edff1f4e-a238-4e77-b72a-25fb0272fdb2",
   "metadata": {},
   "outputs": [
    {
     "name": "stdin",
     "output_type": "stream",
     "text": [
      "Enter a number:  -1\n"
     ]
    },
    {
     "name": "stdout",
     "output_type": "stream",
     "text": [
      "The number is negative.\n"
     ]
    }
   ],
   "source": [
    "# Take user input\n",
    "num = float(input(\"Enter a number: \"))\n",
    "\n",
    "# Check if the number is positive, negative, or zero\n",
    "if num > 0:\n",
    "    print(\"The number is positive.\")\n",
    "elif num < 0:\n",
    "    print(\"The number is negative.\")\n",
    "else:\n",
    "    print(\"The number is zero.\")\n"
   ]
  },
  {
   "cell_type": "code",
   "execution_count": 41,
   "id": "78d52dee-74c8-46c3-ac68-087fe8b5961b",
   "metadata": {},
   "outputs": [
    {
     "name": "stdin",
     "output_type": "stream",
     "text": [
      "Enter a number:  4\n"
     ]
    },
    {
     "name": "stdout",
     "output_type": "stream",
     "text": [
      "The number is positive.\n"
     ]
    }
   ],
   "source": [
    "# Take user input\n",
    "num = float(input(\"Enter a number: \"))\n",
    "\n",
    "# Check if the number is positive, negative, or zero\n",
    "if num > 0:\n",
    "    print(\"The number is positive.\")\n",
    "elif num < 0:\n",
    "    print(\"The number is negative.\")\n",
    "else:\n",
    "    print(\"The number is zero.\")"
   ]
  },
  {
   "cell_type": "raw",
   "id": "68c0a2da-4c71-4192-974d-fc17f71348ee",
   "metadata": {},
   "source": [
    "12. Write a for loop to print numbers from 1 to 10.\n"
   ]
  },
  {
   "cell_type": "code",
   "execution_count": 43,
   "id": "8afd8093-ccb3-4862-bd47-bb05c9f57d05",
   "metadata": {},
   "outputs": [
    {
     "name": "stdout",
     "output_type": "stream",
     "text": [
      "1\n",
      "2\n",
      "3\n",
      "4\n",
      "5\n",
      "6\n",
      "7\n",
      "8\n",
      "9\n",
      "10\n"
     ]
    }
   ],
   "source": [
    "# For loop to print numbers from 1 to 10\n",
    "for num in range(1, 11):\n",
    "    print(num)\n"
   ]
  },
  {
   "cell_type": "raw",
   "id": "87ea91fa-2fa5-4509-83dd-a0daa36562c0",
   "metadata": {},
   "source": [
    "13. Write a Python program to find the sum of all even numbers between 1 and 50."
   ]
  },
  {
   "cell_type": "code",
   "execution_count": 45,
   "id": "61ba203c-1b9c-426d-b87e-4d6f15a627aa",
   "metadata": {},
   "outputs": [
    {
     "name": "stdout",
     "output_type": "stream",
     "text": [
      "The sum of all even numbers between 1 and 50 is: 650\n"
     ]
    }
   ],
   "source": [
    "# Initialize a variable to store the sum\n",
    "sum_of_even_numbers = 0\n",
    "\n",
    "# Loop through numbers from 1 to 50\n",
    "for num in range(1, 51):\n",
    "    # Check if the number is even\n",
    "    if num % 2 == 0:\n",
    "        sum_of_even_numbers += num\n",
    "\n",
    "# Print the sum of even numbers\n",
    "print(\"The sum of all even numbers between 1 and 50 is:\", sum_of_even_numbers)\n"
   ]
  },
  {
   "cell_type": "raw",
   "id": "d18d093a-1447-4ff5-8f94-f70403be31d4",
   "metadata": {},
   "source": [
    "14. Write a program to reverse a string using a while loop."
   ]
  },
  {
   "cell_type": "code",
   "execution_count": 1,
   "id": "9661bdd7-cdf6-41aa-871e-155a7ae54587",
   "metadata": {},
   "outputs": [
    {
     "name": "stdin",
     "output_type": "stream",
     "text": [
      "Enter your Name:  Kushal\n"
     ]
    },
    {
     "name": "stdout",
     "output_type": "stream",
     "text": [
      "Reversed Name: lahsuK\n"
     ]
    }
   ],
   "source": [
    "# Input string from the user\n",
    "Name = input(\"Enter your Name: \")\n",
    "\n",
    "# Initialize an empty string to store the reversed string\n",
    "reversed_Name = \"\"\n",
    "\n",
    "# Initialize index to the last character of the input string\n",
    "index = len(Name) - 1\n",
    "\n",
    "# Use while loop to reverse the string\n",
    "while index >= 0:\n",
    "    reversed_Name = reversed_Name + Name[index]\n",
    "    index -= 1\n",
    "\n",
    "# Print the reversed string\n",
    "print(\"Reversed Name:\", reversed_Name)"
   ]
  },
  {
   "cell_type": "raw",
   "id": "3c22cb00-1cca-4a75-ba2c-6c3b9e499dd3",
   "metadata": {},
   "source": [
    "15. Write a Python program to calculate the factorial of a number provided by the user using a while loop."
   ]
  },
  {
   "cell_type": "code",
   "execution_count": 3,
   "id": "bbb6703a-8a92-431f-9b06-a1a2dcedb375",
   "metadata": {},
   "outputs": [
    {
     "name": "stdin",
     "output_type": "stream",
     "text": [
      "Enter a number to calculate its factorial:  10\n"
     ]
    },
    {
     "name": "stdout",
     "output_type": "stream",
     "text": [
      "The factorial is: 3628800\n"
     ]
    }
   ],
   "source": [
    "# Input: Get a number from the user\n",
    "number = int(input(\"Enter a number to calculate its factorial: \"))\n",
    "\n",
    "# Initialize the factorial result as 1\n",
    "factorial = 1\n",
    "\n",
    "# Check if the number is non-negative\n",
    "if number < 0:\n",
    "    print(\"Factorial is not defined for negative numbers.\")\n",
    "else:\n",
    "    # Use while loop to calculate the factorial\n",
    "    while number > 1:\n",
    "        factorial *= number\n",
    "        number -= 1\n",
    "\n",
    "    # Print the factorial\n",
    "    print(f\"The factorial is: {factorial}\")\n"
   ]
  },
  {
   "cell_type": "code",
   "execution_count": null,
   "id": "ae778e82-a5a3-4e78-a007-cb21a58f4bc7",
   "metadata": {},
   "outputs": [],
   "source": []
  }
 ],
 "metadata": {
  "kernelspec": {
   "display_name": "Python 3 (ipykernel)",
   "language": "python",
   "name": "python3"
  },
  "language_info": {
   "codemirror_mode": {
    "name": "ipython",
    "version": 3
   },
   "file_extension": ".py",
   "mimetype": "text/x-python",
   "name": "python",
   "nbconvert_exporter": "python",
   "pygments_lexer": "ipython3",
   "version": "3.12.7"
  }
 },
 "nbformat": 4,
 "nbformat_minor": 5
}
