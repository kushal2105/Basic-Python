{
  "nbformat": 4,
  "nbformat_minor": 0,
  "metadata": {
    "colab": {
      "provenance": []
    },
    "kernelspec": {
      "name": "python3",
      "display_name": "Python 3"
    },
    "language_info": {
      "name": "python"
    }
  },
  "cells": [
    {
      "cell_type": "markdown",
      "source": [
        "# **Theory Questions**\n",
        "\n",
        "1. What is Object-Oriented Programming (OOP) in python?\n",
        "\n",
        "Object-oriented programming (OOP) in Python lets you structure your code by grouping related properties and behaviors into individual objects. You create classes as blueprints and instantiate them to form objects. With OOP, you can model real-world entities and their interactions, and create complex systems with reusable components.\n",
        "\n",
        "OOP in Python revolves around four main concepts: encapsulation, inheritance, abstraction, and polymorphism. Encapsulation bundles data with methods, inheritance lets you create subclasses, abstraction hides complex details, and polymorphism allows for different implementations."
      ],
      "metadata": {
        "id": "cyI-kRV73JgR"
      }
    },
    {
      "cell_type": "markdown",
      "source": [
        "2. What is Object-Oriented Programming (OOP) in python?\n",
        "\n",
        "A class is a collection of objects. Classes are blueprints for creating objects. A class defines a set of attributes and methods that the created objects (instances) can have.\n",
        "\n",
        "Some points on Python class:  \n",
        "\n",
        "- Classes are created by keyword class.\n",
        "- Attributes are the variables that belong to a class.\n",
        "- Attributes are always public and can be accessed using the dot (.) operator. Example: Myclass.Myattribute"
      ],
      "metadata": {
        "id": "GAEvvjVN3bfU"
      }
    },
    {
      "cell_type": "markdown",
      "source": [
        "3. What is an object in OOP?\n",
        "\n",
        "An Object is an instance of a Class. It represents a specific implementation of the class and holds its own data.\n",
        "\n",
        "An object consists of:\n",
        "\n",
        "- State: It is represented by the attributes and reflects the properties of an object.\n",
        "- Behavior: It is represented by the methods of an object and reflects the response of an object to other objects.\n",
        "- Identity: It gives a unique name to an object and enables one object to interact with other objects."
      ],
      "metadata": {
        "id": "DLJS3Anh3o7M"
      }
    },
    {
      "cell_type": "markdown",
      "source": [
        "4.  What is the difference between abstraction and encapsulation?\n",
        "\n",
        "Difference Between Abstraction and Encapsulation\n",
        "\n",
        "Abstraction\n",
        "- Definition: Hides the implementation details and shows only the essential features of an object.\n",
        "- Focus: Deals with what a class does.\n",
        "- Purpose: Simplifies complexity by exposing only the relevant details.\n",
        "- Implementation: Achieved using:\n",
        "  - Abstract classes (e.g., abstract class in Java).\n",
        "  - Interfaces (e.g., interface in Java).\n",
        "\n",
        "\n",
        "Encapsulation\n",
        "\n",
        "- Definition: Restricts access to the internal state and ensures controlled modification through accessors/mutators.\n",
        "- Focus: Deals with how the internal state is protected.\n",
        "- Purpose: Safeguards data and reduces complexity by controlling access.\n",
        "- Implementation: Achieved using:\n",
        "  - Access modifiers (private, protected, public).\n",
        "  - Getter and Setter methods."
      ],
      "metadata": {
        "id": "VfL6yngb4Aus"
      }
    },
    {
      "cell_type": "markdown",
      "source": [
        "5. What are dunder methods in Python?\n",
        "\n",
        "- Dunder methods, also known as magic methods or special methods, are predefined methods in Python that have double underscores (or “dunders”) at the beginning and end of their names.\n",
        "- These methods provide a way to define specific behaviors for built-in operations or functionalities in Python classes.\n",
        "- By implementing dunder methods, you can customize the behavior of your objects and make them work seamlessly with Python’s language constructs.\n",
        "\n",
        "Here are some commonly used dunder methods and their purposes:\n",
        "\n",
        "__init__(self, ...): This is the constructor method that gets called when an object is created from a class. It initializes the object's attributes and performs any necessary setup.\n",
        "\n",
        "__str__(self): This method returns a string representation of the object and is invoked by the built-in str() function or when an object is printed. It provides a human-readable representation of the object.\n",
        "\n",
        "__repr__(self): This method returns a string that represents the object in a way that can be used to recreate the object. It is invoked by the built-in repr() function and is typically used for debugging purposes.\n",
        "\n",
        "__len__(self): This method returns the length of an object and is invoked by the built-in len() function. It is commonly used for sequences like lists, tuples, or strings.\n",
        "\n",
        "__getitem__(self, key): This method enables object indexing and slicing. It allows you to access elements of an object using square brackets ([]).\n",
        "\n",
        "\n",
        "These are just a few examples of the many dunder methods available in Python."
      ],
      "metadata": {
        "id": "UY8oTcI15iCm"
      }
    },
    {
      "cell_type": "markdown",
      "source": [
        "6. Explain the concept of inheritance in OOP.\n",
        "\n",
        "Inheritance is an OOP concept where one class (child or subclass) derives or inherits properties and behaviors (methods and fields) from another class (parent or superclass). It allows code reusability, logical hierarchy, and the ability to extend existing functionality.\n",
        "\n",
        "Key Concepts of Inheritance\n",
        "1. Parent (Superclass) and Child (Subclass):\n",
        "\n",
        " - The parent class provides base properties and methods.\n",
        " - The child class inherits these properties and methods and can also add or override them.\n",
        "\n",
        "2. Types of Inheritance:\n",
        "\n",
        "  - Single Inheritance: A class inherits from one superclass.\n",
        "  - Multilevel Inheritance: A class inherits from a derived class (chain of inheritance).\n",
        "Example: Grandparent → Parent → Child.\n",
        "  - Hierarchical Inheritance: Multiple classes inherit from a single parent.\n",
        "\n",
        "3. Method Overriding:\n",
        "\n",
        "  - A child class can override methods of its parent class to provide specific behavior.\n",
        "\n",
        "4. Using the super() Function:\n",
        "\n",
        "  - super() is used to call methods of the parent class in the child class."
      ],
      "metadata": {
        "id": "Wc0gUg-d7EOs"
      }
    },
    {
      "cell_type": "markdown",
      "source": [
        "7.  What is polymorphism in OOP?\n",
        "\n",
        "In OOP, polymorphism allows methods in different classes to share the same name but perform distinct tasks. This is achieved through inheritance and interface design. Polymorphism complements other OOP principles like inheritance (sharing behavior) and encapsulation (hiding complexity) to create robust and modular applications.\n",
        "\n",
        "Key Concepts of Polymorphism\n",
        "\n",
        "1. Polymorphism Through Inheritance:\n",
        "\n",
        "  A child class can override a method from the parent class to provide specific behavior.\n",
        "\n",
        "2. Polymorphism Through Built-in Functions:\n",
        "\n",
        "  Polymorphism allows the same function (like len) to work with different object types.\n",
        "\n",
        "3. Method Overriding:\n",
        "\n",
        "  Subclasses provide specific implementations for methods defined in a superclass.\n",
        "\n",
        "4. Operator Overloading:\n",
        "\n",
        "  Python supports operator overloading, where operators have different behaviors based on the context or operands.\n"
      ],
      "metadata": {
        "id": "AVH2LHnd8Wgj"
      }
    },
    {
      "cell_type": "markdown",
      "source": [
        "8. How is encapsulation achieved in Python?\n",
        "\n",
        "Encapsulation in Python is one of the fundamental principles of object-oriented programming (OOP). It refers to the bundling of data (attributes) and methods (functions) that operate on the data into a single unit, known as a class. By doing this, you can restrict access to some of the object's components, which is a way of preventing the accidental modification of data.\n",
        "\n",
        "Here’s a concise guide to achieving encapsulation in Python:\n",
        "\n",
        "- Creating a Class: Define a class using the class keyword.\n",
        "\n",
        "- Private Attributes: Use a leading underscore _ to indicate that an attribute or method is intended to be protected and should not be accessed directly from outside the class. Use a double underscore __ for private attributes and methods.\n",
        "\n",
        "- Getter and Setter Methods: Provide public methods to get and set the values of private attributes. This way, you can control how attributes are accessed and modified.\n"
      ],
      "metadata": {
        "id": "caSu05Q6bJ_O"
      }
    },
    {
      "cell_type": "markdown",
      "source": [
        "9. What is a constructor in Python?\n",
        "\n",
        "A constructor in Python is a special method that is automatically called when an object is created from a class. The constructor method is used to initialize the attributes of the class. In Python, the constructor method is named __init__.\n",
        "\n",
        "Here’s a quick breakdown of how a constructor works:\n",
        "\n",
        "1. Method Name: The constructor method is always named __init__.\n",
        "\n",
        "2. Parameters: It typically takes self as the first parameter, which refers to the instance being created. Additional parameters can be added to initialize the instance with specific values.\n",
        "\n",
        "3. Initialization: Inside the __init__ method, you can set the initial state of the object by assigning values to its attributes.\n",
        "\n",
        "Constructors are essential for setting up objects with initial values, ensuring that each object is properly configured when it is created."
      ],
      "metadata": {
        "id": "2P9Umymzb96M"
      }
    },
    {
      "cell_type": "markdown",
      "source": [
        "10. What are class and static methods in Python?\n",
        "\n",
        "In Python, class methods and static methods are two types of methods that can be defined within a class, each serving a different purpose.\n",
        "\n",
        "**Class Methods**\n",
        "Class methods are methods that are bound to the class rather than its instances. They can modify the class state that applies across all instances of the class. To define a class method, you use the @classmethod decorator and the first parameter must be cls (which stands for the class itself).\n",
        "\n",
        "**Static Methods**\n",
        "Static methods are methods that do not modify the class state or instance state. They are simply functions that are defined inside a class but do not operate on an instance or class level. To define a static method, you use the @staticmethod decorator.\n",
        "\n",
        "**Key Differences**\n",
        "- Class Method: Has access to the class and can modify class state. Defined using the @classmethod decorator.\n",
        "\n",
        "- Static Method: Does not have access to the class or instance state. Defined using the @staticmethod decorator.\n",
        "\n",
        "Both types of methods provide a way to organize functions that logically belong to a class, even if they don’t operate on instances of the class."
      ],
      "metadata": {
        "id": "h5v65n3SdIEU"
      }
    },
    {
      "cell_type": "markdown",
      "source": [
        "11. What is method overloading in Python?\n",
        "\n",
        "Method overloading is a concept in Object-Oriented Programming (OOP) where two or more methods in the same class can have the same name but differ in the number or type of their parameters. It allows multiple definitions of a method that can perform different tasks based on the arguments passed to them.\n",
        "\n",
        "However, Python does not natively support method overloading in the same way as other languages like Java or C++. Python uses dynamic typing and allows multiple methods with the same name, but the last defined method will overwrite the previous ones. That said, we can still achieve the effect of method overloading by using default arguments or variable-length arguments.\n",
        "\n",
        "**Ways to Achieve Method Overloading in Python**\n",
        "\n",
        "1. Using Default Arguments:\n",
        "\n",
        "  By assigning default values to function parameters, a method can behave differently depending on which arguments are provided when the method is called.\n",
        "\n",
        "2. Using *args and **kwargs:\n",
        "\n",
        "  These allow a method to accept an arbitrary number of positional arguments (*args) or keyword arguments (**kwargs), enabling flexible method overloading.\n",
        "\n",
        "3. Manual Overloading with Conditional Statements:\n",
        "\n",
        "  Based on the type and number of arguments passed to a method, you can write custom logic inside the method to differentiate the behavior."
      ],
      "metadata": {
        "id": "G4QBoAXZeS1U"
      }
    },
    {
      "cell_type": "markdown",
      "source": [
        "12. What is method overriding in OOP?\n",
        "\n",
        "Method overriding in Python occurs when a subclass provides its specific implementation of a method that is already defined in its parent class. In Python, a subclass can redefine the behavior of a method inherited from a parent class. The method in the subclass has the same name, same parameters, and same return type as the one in the parent class. When the method is called from the subclass, the overridden version is executed instead of the inherited one.\n",
        "\n",
        "- Inheritance: Method overriding occurs through inheritance, allowing the subclass to modify inherited methods.\n",
        "- Same Method Signature: The method in the subclass must have the same name and parameters as in the parent class.\n",
        "- Polymorphism: Supports dynamic polymorphism by allowing methods to behave differently depending on the object type.\n",
        "- super() Function: Used to call a method from the parent class, allowing extension or modification rather than complete replacement.\n",
        "- Runtime Behavior: Method calls are resolved at runtime, which allows dynamic changes in method behavior based on object type.\n",
        "- Code Reusability: Subclasses inherit general behavior from the parent while modifying specific methods.\n",
        "- Flexibility: Subclasses can customize or extend behavior while maintaining consistency in method naming.\n",
        "- Dynamic Behavior: Method overriding facilitates object-specific behavior with the same method name.\n",
        "- Improved Maintainability: Allows better structure, with the subclass altering the method when needed without changing the base class."
      ],
      "metadata": {
        "id": "YgU1UBjWff4N"
      }
    },
    {
      "cell_type": "markdown",
      "source": [
        "13. What is a property decorator in Python?\n",
        "\n",
        "The property decorator in Python is a built-in function that allows you to define methods in a class that can be accessed like attributes. It is used to manage the access to private attributes, providing a way to add some logic when getting, setting, or deleting an attribute. This is particularly useful for encapsulation and data validation.\n",
        "\n",
        "Here's how to use the @property decorator:\n",
        "\n",
        "- Basic Usage\n",
        "Define a Private Attribute: Use a leading underscore to indicate that an attribute is private.\n",
        "\n",
        "- Define a Getter Method: Use the @property decorator to create a getter method for the attribute.\n",
        "\n",
        "- Define a Setter Method: Use the @<property_name>.setter decorator to create a setter method for the attribute.\n",
        "\n",
        "- Define a Deleter Method (optional): Use the @<property_name>.deleter decorator to create a deleter method for the attribute."
      ],
      "metadata": {
        "id": "C4PcjxTdgLBX"
      }
    },
    {
      "cell_type": "markdown",
      "source": [
        "14. Why is polymorphism important in OOP?\n",
        "\n",
        "Polymorphism is a core concept in object-oriented programming (OOP), and it's especially significant in Python. It allows objects of different classes to be treated as objects of a common superclass. This is useful for code flexibility, maintainability, and scalability. Here’s why polymorphism is important in Python OOP:\n",
        "\n",
        "- Code Reusability: Allows you to write more reusable and maintainable code.\n",
        "\n",
        "- Flexibility and Extensibility: Makes it easier to extend and modify code without altering existing code.\n",
        "\n",
        "- Ease of Maintenance: Enhances manageability and organization of codebases.\n",
        "\n",
        "- Dynamic Behavior: Allows objects to behave differently based on their type at runtime.\n",
        "\n",
        "**Real-World Use Cases**\n",
        "\n",
        "- GUI Development: Polymorphism allows you to handle different GUI components (like buttons, text boxes, etc.) using the same interface.\n",
        "\n",
        "- Game Development: Different game characters can have their unique behaviors while sharing a common interface for actions like move or attack.\n",
        "\n",
        "- Data Processing: Polymorphism enables processing different types of data sources using the same code, making the system more adaptable to new data types.\n",
        "\n",
        "Polymorphism brings a lot of power and elegance to object-oriented design, making it easier to write adaptable and scalable code."
      ],
      "metadata": {
        "id": "YkYE8yjsgoLH"
      }
    },
    {
      "cell_type": "markdown",
      "source": [
        "15. What is an abstract class in Python?\n",
        "\n",
        "An abstract class in Python serves as a blueprint for other classes. It cannot be instantiated on its own and often contains one or more abstract methods, which are methods declared without an implementation. Abstract classes help to ensure that certain methods are implemented in any subclass.\n",
        "\n",
        "Here's how abstract classes work:\n",
        "\n",
        "**Key Points:**\n",
        "- Import ABC and abstractmethod: Use the ABC (Abstract Base Class) from the abc module.\n",
        "\n",
        "- Define an Abstract Class: Inherit the class from ABC.\n",
        "\n",
        "- Abstract Methods: Use the @abstractmethod decorator to define methods that must be implemented in any subclass."
      ],
      "metadata": {
        "id": "LypQZLJ5hQqk"
      }
    },
    {
      "cell_type": "markdown",
      "source": [
        "16. What are the advantages of OOP?\n",
        "\n",
        "**Advantages of OOP in Python**\n",
        "\n",
        "- Code Reusability:OOP allows developers to reuse existing classes in new programs, saving time and effort through inheritance and modularity.\n",
        "\n",
        "- Improved Readability and Organization: By structuring code into classes and objects, OOP ensures better readability and organized code.\n",
        "\n",
        "- Data Encapsulation: Protects sensitive data by restricting direct access and exposing it only through defined interfaces, maintaining data integrity.\n",
        "\n",
        "- Code Maintainability: Modifications to existing code are easier since objects and classes can be updated independently without affecting the entire program.\n",
        "\n",
        "- Modularity: Classes represent logical groupings of functionality, making the code easier to manage, test, and debug.\n",
        "\n",
        "- Inheritance: Promotes code reuse and eliminates redundancy by inheriting features from parent classes into child classes.\n",
        "\n",
        "- Polymorphism: Allows methods to perform differently based on the object calling them, enabling flexibility and scalability in program design.\n",
        "\n",
        "- Scalability: Supports the creation of scalable systems by simplifying the addition of new features through well-structured objects and methods.\n",
        "\n",
        "- Real-World Representation: OOP maps real-world entities to programming objects, making it easier to conceptualize and model problems.\n",
        "\n",
        "- Extensibility: Existing functionality can be extended without altering the original code, allowing systems to evolve gracefully.\n",
        "\n",
        "- Abstraction: Focuses on essential features while hiding complex implementation details, simplifying program usage and enhancing user experience.\n",
        "\n",
        "- Security: Encapsulation and abstraction protect sensitive data and prevent unintended access or modification."
      ],
      "metadata": {
        "id": "95a5uQJwh7Nt"
      }
    },
    {
      "cell_type": "markdown",
      "source": [
        "17. What is the difference between a class variable and an instance variable?\n",
        "\n",
        "### **Difference Between Class Variable and Instance Variable in Python**\n",
        "\n",
        "1. **Definition:**\n",
        "   - **Class Variable:** A variable that is shared across all instances of the class and belongs to the class itself.\n",
        "   - **Instance Variable:** A variable that is unique to each instance of a class and belongs to the instance.\n",
        "\n",
        "2. **Declaration:**\n",
        "   - **Class Variable:** Declared inside the class but outside any methods.\n",
        "   - **Instance Variable:** Declared inside a method, typically `__init__()`, using `self`.\n",
        "\n",
        "3. **Scope:**\n",
        "   - **Class Variable:** Accessible by all instances and can be accessed using both the class name and instance objects.\n",
        "   - **Instance Variable:** Specific to the particular instance; other instances cannot directly access it.\n",
        "\n",
        "4. **Shared or Unique:**\n",
        "   - **Class Variable:** Shared among all instances of the class; changes to it affect all instances.\n",
        "   - **Instance Variable:** Unique to each object; changes to it affect only the specific instance.\n",
        "\n",
        "5. **Modification:**\n",
        "   - **Class Variable:** Modified at the class level and is common for all objects.\n",
        "   - **Instance Variable:** Modified only for the specific instance that accesses it.\n",
        "\n",
        "6. **Storage:**\n",
        "   - **Class Variable:** Stored in the class namespace.\n",
        "   - **Instance Variable:** Stored in the instance namespace.\n",
        "\n",
        "7. **Example Usage:**\n",
        "   - **Class Variable:** Used for properties that should be the same for all instances (e.g., a counter to track the number of objects created).\n",
        "   - **Instance Variable:** Used for properties that vary between instances (e.g., individual attributes of objects).\n",
        "\n",
        "In Python, class variables define shared data, while instance variables store data specific to individual objects, enabling clear separation of shared and unique data."
      ],
      "metadata": {
        "id": "tAXLsZRZwof0"
      }
    },
    {
      "cell_type": "markdown",
      "source": [
        "18. What is multiple inheritance in Python?\n",
        "\n",
        "Multiple inheritance is a feature in Python where a class can inherit attributes and methods from more than one parent class. This allows a class to combine and utilize functionalities from multiple classes.\n",
        "\n",
        "### Key Points:\n",
        "- **Multiple Parent Classes**: A class can inherit from two or more parent classes.\n",
        "- **Syntax**: The child class lists all parent classes in its definition, separated by commas.\n",
        "- **Usage**: Useful for combining features from multiple classes into a single class.\n",
        "\n",
        "### Benefits:\n",
        "- **Combines Functionality**: Allows a class to utilize features from multiple classes.\n",
        "- **Code Reusability**: Promotes reuse of existing code across different classes.\n",
        "\n",
        "Multiple inheritance is a powerful feature, but it should be used judiciously to maintain clear and manageable code.\n"
      ],
      "metadata": {
        "id": "UpJ7aBnyxRca"
      }
    },
    {
      "cell_type": "markdown",
      "source": [
        "19.  Explain the purpose of ‘’__str__’ and ‘__repr__’ ‘ methods in Python.\n",
        "\n",
        "In Python, `__str__` and `__repr__` are special methods that define how objects are represented as strings. They serve different purposes, particularly when printing or logging objects.\n",
        "\n",
        "### `__str__` Method\n",
        "- **Purpose**: Provides a \"pretty\" or user-friendly string representation of an object. This is meant for end-users.\n",
        "- **Usage**: Called by the `print()` and `str()` functions.\n",
        "- **Implementation**: Define this method to return a readable and descriptive string.\n",
        "\n",
        "### `__repr__` Method\n",
        "- **Purpose**: Provides an official string representation of an object that includes detailed information, often suitable for developers. It should ideally be unambiguous.\n",
        "- **Usage**: Called by the `repr()` function and the interactive interpreter.\n",
        "- **Implementation**: Define this method to return a string that could be used to recreate the object.\n",
        "\n",
        "### Key Differences\n",
        "- **Audience**: `__str__` is for end-users; `__repr__` is for developers.\n",
        "- **Detail Level**: `__str__` is user-friendly and concise; `__repr__` is detailed and unambiguous.\n",
        "\n",
        "### When to Use\n",
        "- Use `__str__` for outputs intended for end-users, such as UI elements or reports.\n",
        "- Use `__repr__` for internal purposes, such as debugging, logging, or development tools.\n",
        "\n",
        "Understanding and implementing these methods enhances the usability and maintainability of your classes.\n"
      ],
      "metadata": {
        "id": "Pw4F134qxlac"
      }
    },
    {
      "cell_type": "markdown",
      "source": [
        "20.  What is the significance of the ‘super()’ function in Python?\n",
        "\n",
        "### **Significance of the `super()` Function in Python**\n",
        "\n",
        "1. **Access Parent Class Methods:**\n",
        "   - The `super()` function allows subclasses to call methods or access properties of the parent class without explicitly naming it.\n",
        "\n",
        "2. **Avoid Hardcoding Parent Class Name:**\n",
        "   - It provides a dynamic way to refer to the parent class, which is useful in complex hierarchies or during refactoring.\n",
        "\n",
        "3. **Support for Multiple Inheritance:**\n",
        "   - In cases of multiple inheritance, `super()` ensures that the methods in the inheritance hierarchy are called in the correct order following the Method Resolution Order (MRO).\n",
        "\n",
        "4. **Enable Method Overriding:**\n",
        "   - Subclasses can override methods in the parent class and use `super()` to call the parent’s version, either as part of extending or modifying its behavior.\n",
        "\n",
        "5. **Improved Code Reusability:**\n",
        "   - By accessing the parent class's methods through `super()`, you can reduce code duplication and maintain modularity.\n",
        "\n",
        "6. **Consistency in Dynamic Contexts:**\n",
        "   - Even if the class structure changes, `super()` adjusts to call the correct methods as per the MRO, ensuring flexibility.\n",
        "\n",
        "7. **Ease of Maintenance:**\n",
        "   - Makes the codebase easier to maintain and refactor since parent class names are not hardcoded into child classes.\n",
        "\n",
        "The `super()` function is an essential tool for clean and efficient class hierarchies in Python, especially in inheritance-heavy designs."
      ],
      "metadata": {
        "id": "xCIz4EJcykFI"
      }
    },
    {
      "cell_type": "markdown",
      "source": [
        "21. What is the significance of the __del__ method in Python?\n",
        "\n",
        "### **Significance of the `__del__` Method in Python**\n",
        "\n",
        "1. **Definition:**  \n",
        "   - The `__del__` method is a special method, also known as a **destructor**, which is automatically called when an object is about to be destroyed.\n",
        "\n",
        "2. **Purpose:**  \n",
        "   - It is primarily used to clean up resources or perform finalization tasks (e.g., closing files, releasing network connections, or clearing memory) when the object is no longer needed.\n",
        "\n",
        "3. **Automatic Invocation:**  \n",
        "   - The method is triggered when the object's reference count drops to zero, meaning it is no longer accessible.\n",
        "\n",
        "4. **Resource Management:**  \n",
        "   - Ensures proper release of external resources that are not automatically managed by Python's garbage collector (e.g., file handles, database connections).\n",
        "\n",
        "5. **Not Guaranteed Timing:**  \n",
        "   - The exact timing of `__del__` method execution is not guaranteed; it depends on the garbage collection process.\n",
        "\n",
        "6. **Circular References Issue:**  \n",
        "   - Python’s garbage collector may not immediately collect objects involved in circular references, delaying or bypassing the call to `__del__`.\n",
        "\n",
        "7. **Overriding Default Behavior:**  \n",
        "   - Custom behavior can be defined by overriding the `__del__` method in user-defined classes.\n",
        "\n",
        "8. **Avoid Dependency on `__del__`:**  \n",
        "   - Relying solely on `__del__` for resource management is discouraged; context managers (`with` statements) are often preferred for deterministic resource handling.\n",
        "\n",
        "9. **Impact on Program Behavior:**  \n",
        "   - If errors occur in `__del__`, they are ignored to prevent issues during the finalization process, making debugging difficult.\n",
        "\n",
        "10. **Use Cases:**\n",
        "   - Cleaning temporary files, freeing up memory-intensive operations, or logging object deletion during development.\n",
        "\n",
        "The `__del__` method is an advanced feature that provides cleanup functionality but should be used with care due to its dependency on the garbage collector and its non-deterministic behavior.### **Significance of the `__del__` Method in Python**\n",
        "\n",
        "1. **Definition:**  \n",
        "   - The `__del__` method is a special method, also known as a **destructor**, which is automatically called when an object is about to be destroyed.\n",
        "\n",
        "2. **Purpose:**  \n",
        "   - It is primarily used to clean up resources or perform finalization tasks (e.g., closing files, releasing network connections, or clearing memory) when the object is no longer needed.\n",
        "\n",
        "3. **Automatic Invocation:**  \n",
        "   - The method is triggered when the object's reference count drops to zero, meaning it is no longer accessible.\n",
        "\n",
        "4. **Resource Management:**  \n",
        "   - Ensures proper release of external resources that are not automatically managed by Python's garbage collector (e.g., file handles, database connections).\n",
        "\n",
        "5. **Not Guaranteed Timing:**  \n",
        "   - The exact timing of `__del__` method execution is not guaranteed; it depends on the garbage collection process.\n",
        "\n",
        "6. **Circular References Issue:**  \n",
        "   - Python’s garbage collector may not immediately collect objects involved in circular references, delaying or bypassing the call to `__del__`.\n",
        "\n",
        "7. **Overriding Default Behavior:**  \n",
        "   - Custom behavior can be defined by overriding the `__del__` method in user-defined classes.\n",
        "\n",
        "8. **Avoid Dependency on `__del__`:**  \n",
        "   - Relying solely on `__del__` for resource management is discouraged; context managers (`with` statements) are often preferred for deterministic resource handling.\n",
        "\n",
        "9. **Impact on Program Behavior:**  \n",
        "   - If errors occur in `__del__`, they are ignored to prevent issues during the finalization process, making debugging difficult.\n",
        "\n",
        "10. **Use Cases:**\n",
        "   - Cleaning temporary files, freeing up memory-intensive operations, or logging object deletion during development.\n",
        "\n",
        "The `__del__` method is an advanced feature that provides cleanup functionality but should be used with care due to its dependency on the garbage collector and its non-deterministic behavior."
      ],
      "metadata": {
        "id": "apPsJfv4zA_k"
      }
    },
    {
      "cell_type": "markdown",
      "source": [
        "22. What is the difference between @staticmethod and @classmethod in Python?\n",
        "\n",
        "### **Difference Between `@staticmethod` and `@classmethod` in Python**\n",
        "\n",
        "1. **Definition:**  \n",
        "   - **`@staticmethod`:** A method that does not take an instance (`self`) or class (`cls`) as the first argument. It behaves like a regular function defined within a class and is related to the class only logically.\n",
        "   - **`@classmethod`:** A method that takes the class (`cls`) as the first argument, allowing it to access or modify class-level attributes and methods.\n",
        "\n",
        "2. **Association with Class or Instance:**  \n",
        "   - **`@staticmethod`:** Has no dependency on the class or instance state. It operates independently of the class or its objects.\n",
        "   - **`@classmethod`:** Operates at the class level and can interact with the class itself (e.g., access class variables).\n",
        "\n",
        "3. **Access to Class or Instance:**  \n",
        "   - **`@staticmethod`:** Cannot access instance (`self`) or class (`cls`) variables or methods.\n",
        "   - **`@classmethod`:** Can access and modify class-level attributes and call other class methods.\n",
        "\n",
        "4. **Use Case:**  \n",
        "   - **`@staticmethod`:** Used for utility or helper functions that do not require access to class-level or instance-level data.\n",
        "   - **`@classmethod`:** Used for factory methods or methods that need to work with class-level data, like modifying class state or creating objects.\n",
        "\n",
        "5. **First Parameter:**  \n",
        "   - **`@staticmethod`:** Takes no special first parameter (e.g., neither `self` nor `cls`).\n",
        "   - **`@classmethod`:** Takes `cls` as the first parameter, representing the class itself.\n",
        "\n",
        "6. **Inheritance Behavior:**  \n",
        "   - **`@staticmethod`:** Does not have access to the subclass if called from it; it remains bound to the class where it is defined.\n",
        "   - **`@classmethod`:** Automatically receives the subclass as `cls` if called from a derived class, making it useful for inheritance.\n",
        "\n"
      ],
      "metadata": {
        "id": "tTR4M2tu1Sla"
      }
    },
    {
      "cell_type": "markdown",
      "source": [
        "23.  How does polymorphism work in Python with inheritance?\n",
        "\n",
        "\n",
        "Polymorphism in Python with inheritance allows objects of different classes to use a common interface (i.e., shared method names) but perform actions specific to their class implementations. It enables dynamic behavior and code flexibility. Here's how it works:\n",
        "\n",
        "1. **Definition of Polymorphism:**  \n",
        "   Polymorphism allows the same function or method name to behave differently based on the object calling it.\n",
        "\n",
        "2. **Use with Inheritance:**  \n",
        "   - Inheritance facilitates polymorphism by enabling a subclass to override methods defined in the parent class.\n",
        "   - The overridden method in the subclass is dynamically invoked depending on the object type at runtime.\n",
        "\n",
        "3. **Method Overriding:**  \n",
        "   - Subclasses provide specific implementations for methods already defined in the parent class.\n",
        "   - The method to execute is determined dynamically, ensuring that the subclass version is called even when referred to via the parent class reference.\n",
        "\n",
        "4. **Unified Interface:**  \n",
        "   - Polymorphism allows different subclasses to share a method name or interface while implementing unique functionality.\n",
        "   - This ensures that code can work generically, irrespective of the specific subclass type.\n",
        "\n",
        "Polymorphism in Python promotes clean, maintainable, and flexible code structures by enabling dynamic behavior tied to inheritance hierarchies."
      ],
      "metadata": {
        "id": "E-yBtE4v14vb"
      }
    },
    {
      "cell_type": "markdown",
      "source": [
        "24. What is method chaining in Python OOP?\n",
        "\n",
        "Method chaining in Python OOP (Object-Oriented Programming) is a technique where multiple methods are called on the same object in a single line of code. Each method returns the object itself (typically using `self`), allowing the next method to be called on the same object. This can lead to more concise and readable code.\n",
        "\n",
        "### Key Points:\n",
        "\n",
        "1. **Return Self**: Methods return `self` to enable chaining.\n",
        "2. **Readable Code**: Helps in writing more fluent and readable code.\n",
        "3. **Concise**: Reduces the need for intermediate variables.\n",
        "\n",
        "### Benefits:\n",
        "- **Fluency**: Makes code more fluent and readable.\n",
        "- **Efficiency**: Reduces the need for additional variables and intermediate steps.\n",
        "- **Chaining Operations**: Facilitates chaining multiple operations in a logical sequence.\n",
        "\n",
        "Method chaining is a handy technique to make your code cleaner and more expressive.\n",
        "\n"
      ],
      "metadata": {
        "id": "WuvraxU62eTS"
      }
    },
    {
      "cell_type": "markdown",
      "source": [
        "25. What is the purpose of the __call__ method in Python?\n",
        "\n",
        "**Purpose of the `__call__` Method in Python**\n",
        "\n",
        "1. **Definition:**  \n",
        "   - The `__call__` method in Python is a special method that allows an object of a class to be called as if it were a regular function.\n",
        "\n",
        "2. **How It Works:**  \n",
        "   - When an instance of a class with the `__call__` method is followed by parentheses `()`, Python automatically invokes the `__call__` method of that instance.\n",
        "\n",
        "3. **Key Features:**\n",
        "   - Turns an object into a callable entity.\n",
        "   - Provides a way to encapsulate behavior within objects that can be invoked like functions.\n",
        "\n",
        "4. **Use Cases:**\n",
        "   - **Function-like Objects:**  \n",
        "     - Enables creating objects that behave like functions but can maintain state across calls.\n",
        "   - **Custom Decorators:**  \n",
        "     - Used to implement decorators or objects that modify callable behavior.\n",
        "   - **Callbacks:**  \n",
        "     - Suitable for defining callbacks where objects can be invoked repeatedly with changing arguments.\n",
        "   - **Flexible APIs:**  \n",
        "     - Facilitates designing more expressive APIs where objects are both data and logic providers.\n",
        "\n",
        "5. **Advantages:**\n",
        "   - **Encapsulation:**  \n",
        "     - Combines data and callable functionality within a single object.\n",
        "   - **Reusability:**  \n",
        "     - Promotes reusable and modular code by combining initialization logic with callable behavior.\n",
        "   - **Stateful Functions:**  \n",
        "     - Enables maintaining internal states within callable objects, unlike regular functions.\n",
        "\n",
        "The `__call__` method is a versatile feature in Python that bridges the gap between functions and objects, enhancing design patterns and code flexibility."
      ],
      "metadata": {
        "id": "zMr_TPz72xU6"
      }
    },
    {
      "cell_type": "markdown",
      "source": [
        "# **Practical Questions**\n",
        "\n",
        "1. Create a parent class Animal with a method speak() that prints a generic message. Create a child class Dog that overrides the speak() method to print \"Bark!\"."
      ],
      "metadata": {
        "id": "kvv7L4-lVm7O"
      }
    },
    {
      "cell_type": "code",
      "source": [
        "class Animal:\n",
        "  def speak(self):\n",
        "    print(\"The animal makes a sound.\")\n",
        "\n",
        "class Dog(Animal):\n",
        "  def speak(self):\n",
        "    print(\"Bark!\")\n",
        "\n",
        "animal = Animal()\n",
        "dog = Dog()\n",
        "\n",
        "animal.speak()\n",
        "dog.speak()"
      ],
      "metadata": {
        "colab": {
          "base_uri": "https://localhost:8080/"
        },
        "id": "nuNQ89EqWIVl",
        "outputId": "fbdc888a-2d4c-45b0-97eb-6d046d043f34"
      },
      "execution_count": null,
      "outputs": [
        {
          "output_type": "stream",
          "name": "stdout",
          "text": [
            "The animal makes a sound.\n",
            "Bark!\n"
          ]
        }
      ]
    },
    {
      "cell_type": "markdown",
      "source": [
        "2. Write a program to create an abstract class Shape with a method area(). Derive classes Circle and Rectangle from it and implement the area() method in both."
      ],
      "metadata": {
        "id": "ozyn-HvdXPw2"
      }
    },
    {
      "cell_type": "code",
      "source": [
        "from abc import ABC, abstractmethod\n",
        "\n",
        "class Shape(ABC):\n",
        "    @abstractmethod\n",
        "    def area(self):\n",
        "        pass\n",
        "\n",
        "class Circle(Shape):\n",
        "    def __init__(self, radius):\n",
        "        self.radius = radius\n",
        "\n",
        "    def area(self):\n",
        "        return 3.14 * self.radius ** 2\n",
        "\n",
        "class Rectangle(Shape):\n",
        "    def __init__(self, width, height):\n",
        "        self.width = width\n",
        "        self.height = height\n",
        "\n",
        "    def area(self):\n",
        "        return self.width * self.height\n",
        "\n",
        "# Creating objects of Circle and Rectangle\n",
        "circle = Circle(8)\n",
        "rectangle = Rectangle(5, 6)\n",
        "\n",
        "# Calling the area method\n",
        "print(f\"Area of the circle: {circle.area()}\")\n",
        "print(f\"Area of the rectangle: {rectangle.area()}\")\n"
      ],
      "metadata": {
        "colab": {
          "base_uri": "https://localhost:8080/"
        },
        "id": "xGd47Tf2Wsl9",
        "outputId": "415d09be-2fbc-4034-dcca-6c94cb554d4a"
      },
      "execution_count": null,
      "outputs": [
        {
          "output_type": "stream",
          "name": "stdout",
          "text": [
            "Area of the circle: 200.96\n",
            "Area of the rectangle: 30\n"
          ]
        }
      ]
    },
    {
      "cell_type": "markdown",
      "source": [
        "3.  Implement a multi-level inheritance scenario where a class Vehicle has an attribute type. Derive a class Car and further derive a class ElectricCar that adds a battery attribute."
      ],
      "metadata": {
        "id": "tR-vrP0eZ30Z"
      }
    },
    {
      "cell_type": "code",
      "source": [
        "# Base class\n",
        "class Vehicle:\n",
        "    def __init__(self):\n",
        "        self.type = \"Vehicle\"\n",
        "\n",
        "# Derived class\n",
        "class Car(Vehicle):\n",
        "    def __init__(self, make, model):\n",
        "        super().__init__()\n",
        "        self.make = make\n",
        "        self.model = model\n",
        "\n",
        "# Further derived class\n",
        "class ElectricCar(Car):\n",
        "    def __init__(self, make, model, battery_size):\n",
        "        super().__init__(make, model)\n",
        "        self.battery_size = battery_size\n",
        "\n",
        "# Creating an instance of ElectricCar\n",
        "electric_car = ElectricCar(\"Tesla\", \"Model 3\", 75)\n",
        "\n",
        "# Accessing attributes\n",
        "print(f\"Type: {electric_car.type}\")\n",
        "print(f\"Make: {electric_car.make}\")\n",
        "print(f\"Model: {electric_car.model}\")\n",
        "print(f\"Battery Size: {electric_car.battery_size} kWh\")\n"
      ],
      "metadata": {
        "colab": {
          "base_uri": "https://localhost:8080/"
        },
        "id": "C3eUdnPqaI0k",
        "outputId": "00f39a14-b57b-48dd-ef27-48c73fbdd28f"
      },
      "execution_count": null,
      "outputs": [
        {
          "output_type": "stream",
          "name": "stdout",
          "text": [
            "Type: Vehicle\n",
            "Make: Tesla\n",
            "Model: Model 3\n",
            "Battery Size: 75 kWh\n"
          ]
        }
      ]
    },
    {
      "cell_type": "markdown",
      "source": [
        "4.  Implement a multi-level inheritance scenario where a class Vehicle has an attribute type. Derive a class Car and further derive a class ElectricCar that adds a battery attribute."
      ],
      "metadata": {
        "id": "8O2F95AodZuR"
      }
    },
    {
      "cell_type": "code",
      "source": [
        "# Base class\n",
        "class Vehicle:\n",
        "    def __init__(self):\n",
        "        self.type = \"Vehicle\"\n",
        "\n",
        "# Derived class\n",
        "class Car(Vehicle):\n",
        "    def __init__(self, make, model):\n",
        "        super().__init__()\n",
        "        self.make = make\n",
        "        self.model = model\n",
        "\n",
        "# Further derived class\n",
        "class ElectricCar(Car):\n",
        "    def __init__(self, make, model, battery_size):\n",
        "        super().__init__(make, model)\n",
        "        self.battery_size = battery_size\n",
        "\n",
        "# Creating an instance of ElectricCar\n",
        "electric_car = ElectricCar(\"Tesla\", \"Model 3\", 75)\n",
        "\n",
        "# Accessing attributes\n",
        "print(f\"Type: {electric_car.type}\")\n",
        "print(f\"Make: {electric_car.make}\")\n",
        "print(f\"Model: {electric_car.model}\")\n",
        "print(f\"Battery Size: {electric_car.battery_size} kWh\")"
      ],
      "metadata": {
        "colab": {
          "base_uri": "https://localhost:8080/"
        },
        "id": "KMqRSHXzZ187",
        "outputId": "7546b02c-e4a5-4883-8f86-a4db8f1e805d"
      },
      "execution_count": null,
      "outputs": [
        {
          "output_type": "stream",
          "name": "stdout",
          "text": [
            "Type: Vehicle\n",
            "Make: Tesla\n",
            "Model: Model 3\n",
            "Battery Size: 75 kWh\n"
          ]
        }
      ]
    },
    {
      "cell_type": "markdown",
      "source": [
        "5. Write a program to demonstrate encapsulation by creating a class BankAccount with private attributes balance and methods to deposit, withdraw, and check balance."
      ],
      "metadata": {
        "id": "HSz9pl3ldqXt"
      }
    },
    {
      "cell_type": "code",
      "source": [
        "class BankAccount:\n",
        "    def __init__(self, initial_balance=0):\n",
        "        self.__balance = initial_balance  # Private attribute\n",
        "\n",
        "    def deposit(self, amount):\n",
        "        if amount > 0:\n",
        "            self.__balance += amount\n",
        "            print(f\"Deposited: {amount}\")\n",
        "        else:\n",
        "            print(\"Deposit amount must be positive\")\n",
        "\n",
        "    def withdraw(self, amount):\n",
        "        if 0 < amount <= self.__balance:\n",
        "            self.__balance -= amount\n",
        "            print(f\"Withdrawn: {amount}\")\n",
        "        else:\n",
        "            print(\"Invalid withdraw amount\")\n",
        "\n",
        "    def check_balance(self):\n",
        "        print(f\"Current Balance: {self.__balance}\")\n",
        "\n",
        "# Creating an object of the BankAccount class\n",
        "account = BankAccount(100)\n",
        "\n",
        "# Demonstrating the methods\n",
        "account.check_balance()\n",
        "account.deposit(50)\n",
        "account.check_balance()\n",
        "account.withdraw(30)\n",
        "account.check_balance()\n",
        "account.withdraw(200)\n"
      ],
      "metadata": {
        "colab": {
          "base_uri": "https://localhost:8080/"
        },
        "id": "POuLpECtdpUO",
        "outputId": "b4840adb-2b19-478c-f183-847c6f45880e"
      },
      "execution_count": null,
      "outputs": [
        {
          "output_type": "stream",
          "name": "stdout",
          "text": [
            "Current Balance: 100\n",
            "Deposited: 50\n",
            "Current Balance: 150\n",
            "Withdrawn: 30\n",
            "Current Balance: 120\n",
            "Invalid withdraw amount\n"
          ]
        }
      ]
    },
    {
      "cell_type": "markdown",
      "source": [
        "6. Demonstrate runtime polymorphism using a method play() in a base class Instrument. Derive classes Guitar and Piano that implement their own version of play()."
      ],
      "metadata": {
        "id": "fE0u3ApbeQlv"
      }
    },
    {
      "cell_type": "code",
      "source": [
        "# Base class\n",
        "class Instrument:\n",
        "    def play(self):\n",
        "        raise NotImplementedError(\"Subclass must implement abstract method\")\n",
        "\n",
        "# Derived class\n",
        "class Guitar(Instrument):\n",
        "    def play(self):\n",
        "        return \"Playing the guitar: Strum Strum\"\n",
        "\n",
        "# Further derived class\n",
        "class Piano(Instrument):\n",
        "    def play(self):\n",
        "        return \"Playing the piano: Plink Plonk\"\n",
        "\n",
        "# Function to demonstrate polymorphism\n",
        "def play_instrument(instrument):\n",
        "    print(instrument.play())\n",
        "\n",
        "# Creating instances of Guitar and Piano\n",
        "guitar = Guitar()\n",
        "piano = Piano()\n",
        "\n",
        "# Calling the play method\n",
        "play_instrument(guitar)\n",
        "play_instrument(piano)\n"
      ],
      "metadata": {
        "colab": {
          "base_uri": "https://localhost:8080/"
        },
        "id": "jByTWiV6eNN6",
        "outputId": "ea81a8f5-3cb2-4b4d-b037-84aab3a59827"
      },
      "execution_count": null,
      "outputs": [
        {
          "output_type": "stream",
          "name": "stdout",
          "text": [
            "Playing the guitar: Strum Strum\n",
            "Playing the piano: Plink Plonk\n"
          ]
        }
      ]
    },
    {
      "cell_type": "markdown",
      "source": [
        "7. Create a class MathOperations with a class method add_numbers() to add two numbers and a static method subtract_numbers() to subtract two numbers."
      ],
      "metadata": {
        "id": "2bmtO7OLkq_s"
      }
    },
    {
      "cell_type": "code",
      "source": [
        "class MathOperations:\n",
        "    @classmethod\n",
        "    def add_numbers(self, a, b):\n",
        "        \"\"\"Class method to add two numbers.\"\"\"\n",
        "        return a + b\n",
        "\n",
        "    @staticmethod\n",
        "    def subtract_numbers(a, b):\n",
        "        \"\"\"Static method to subtract two numbers.\"\"\"\n",
        "        return a - b\n",
        "\n",
        "# Example usage\n",
        "# Using the class method to add numbers\n",
        "result_add = MathOperations.add_numbers(10, 5)\n",
        "print(f\"Addition: {result_add}\")\n",
        "\n",
        "# Using the static method to subtract numbers\n",
        "result_subtract = MathOperations.subtract_numbers(10, 5)\n",
        "print(f\"Subtraction: {result_subtract}\")\n"
      ],
      "metadata": {
        "colab": {
          "base_uri": "https://localhost:8080/"
        },
        "id": "LXiKRJwbkoYU",
        "outputId": "44e8d025-62ef-44bc-8896-795e6a715686"
      },
      "execution_count": null,
      "outputs": [
        {
          "output_type": "stream",
          "name": "stdout",
          "text": [
            "Addition: 15\n",
            "Subtraction: 5\n"
          ]
        }
      ]
    },
    {
      "cell_type": "markdown",
      "source": [
        "8.  Implement a class Person with a class method to count the total number of persons created."
      ],
      "metadata": {
        "id": "cQMZ_2XTl9N0"
      }
    },
    {
      "cell_type": "code",
      "source": [
        "class Person:\n",
        "    total_persons = 0  # Class variable to count the total number of persons\n",
        "\n",
        "    def __init__(self, name):\n",
        "        self.name = name\n",
        "        Person.total_persons += 1\n",
        "\n",
        "    @classmethod\n",
        "    def count_persons(cls):\n",
        "        return cls.total_persons\n",
        "\n",
        "# Creating instances of the Person class\n",
        "person1 = Person(\"Alice\")\n",
        "person2 = Person(\"Bob\")\n",
        "person3 = Person(\"Charlie\")\n",
        "\n",
        "# Using the class method to count the total number of persons created\n",
        "print(f\"Total Persons: {Person.count_persons()}\")\n"
      ],
      "metadata": {
        "colab": {
          "base_uri": "https://localhost:8080/"
        },
        "id": "1G4aTrvfl6NT",
        "outputId": "0f5eba38-f19e-4e45-8f87-7cbfa8f17d20"
      },
      "execution_count": null,
      "outputs": [
        {
          "output_type": "stream",
          "name": "stdout",
          "text": [
            "Total Persons: 3\n"
          ]
        }
      ]
    },
    {
      "cell_type": "markdown",
      "source": [
        "9. Write a class Fraction with attributes numerator and denominator. Override the str method to display the fraction as \"numerator/denominator\"."
      ],
      "metadata": {
        "id": "iM27yWz3nTzB"
      }
    },
    {
      "cell_type": "code",
      "source": [
        "class Fraction:\n",
        "    def __init__(self, numerator, denominator):\n",
        "        self.numerator = numerator\n",
        "        self.denominator = denominator\n",
        "\n",
        "    def __str__(self):\n",
        "        return f\"{self.numerator}/{self.denominator}\"\n",
        "\n",
        "# Creating instances of the Fraction class\n",
        "fraction1 = Fraction(3, 4)\n",
        "fraction2 = Fraction(5, 8)\n",
        "\n",
        "# Printing the fractions\n",
        "print(fraction1)\n",
        "print(fraction2)"
      ],
      "metadata": {
        "colab": {
          "base_uri": "https://localhost:8080/"
        },
        "id": "BkgUks3JnTGK",
        "outputId": "db18f32d-03ff-4918-8497-4e2b681e6893"
      },
      "execution_count": null,
      "outputs": [
        {
          "output_type": "stream",
          "name": "stdout",
          "text": [
            "3/4\n",
            "5/8\n"
          ]
        }
      ]
    },
    {
      "cell_type": "markdown",
      "source": [
        "10. Demonstrate operator overloading by creating a class Vector and overriding the add method to add two vectors."
      ],
      "metadata": {
        "id": "T6WqvQQgn1Yx"
      }
    },
    {
      "cell_type": "code",
      "source": [
        "class Vector:\n",
        "    def __init__(self, x, y):\n",
        "        self.x = x\n",
        "        self.y = y\n",
        "\n",
        "    def __add__(self, other):\n",
        "        return Vector(self.x + other.x, self.y + other.y)\n",
        "\n",
        "    def __str__(self):\n",
        "        return f\"({self.x}, {self.y})\"\n",
        "\n",
        "# Creating instances of the Vector class\n",
        "vector1 = Vector(2, 3)\n",
        "vector2 = Vector(4, 5)\n",
        "\n",
        "# Adding the two vectors\n",
        "result = vector1 + vector2\n",
        "\n",
        "# Printing the result\n",
        "print(result)\n"
      ],
      "metadata": {
        "colab": {
          "base_uri": "https://localhost:8080/"
        },
        "id": "jnEwqrgAnr_B",
        "outputId": "527e5235-5422-40ef-94da-9c82be3b8376"
      },
      "execution_count": null,
      "outputs": [
        {
          "output_type": "stream",
          "name": "stdout",
          "text": [
            "(6, 8)\n"
          ]
        }
      ]
    },
    {
      "cell_type": "markdown",
      "source": [
        "11.  Create a class Person with attributes name and age. Add a method greet() that prints \"Hello, my name is {name} and I am {age} years old.\""
      ],
      "metadata": {
        "id": "3vmRTavsof5r"
      }
    },
    {
      "cell_type": "code",
      "source": [
        "class Person:\n",
        "    def __init__(self, name, age):\n",
        "        self.name = name\n",
        "        self.age = age\n",
        "\n",
        "    def greet(self):\n",
        "        print(f\"Hello, my name is {self.name} and I am {self.age} years old.\")\n",
        "\n",
        "# Creating an instance of the Person class\n",
        "person = Person(\"Kushal\", 27)\n",
        "\n",
        "# Calling the greet method\n",
        "person.greet()\n"
      ],
      "metadata": {
        "colab": {
          "base_uri": "https://localhost:8080/"
        },
        "id": "LezuGwrvofBq",
        "outputId": "e5f1baff-6123-4784-e8f1-939c1e547062"
      },
      "execution_count": null,
      "outputs": [
        {
          "output_type": "stream",
          "name": "stdout",
          "text": [
            "Hello, my name is Kushal and I am 27 years old.\n"
          ]
        }
      ]
    },
    {
      "cell_type": "markdown",
      "source": [
        "12.  Implement a class Student with attributes name and grades. Create a method average_grade() to compute the average of the grades."
      ],
      "metadata": {
        "id": "0hx4dJqKpXNg"
      }
    },
    {
      "cell_type": "code",
      "source": [
        "class Student:\n",
        "    def __init__(self, name, grades):\n",
        "        self.name = name\n",
        "        self.grades = grades\n",
        "\n",
        "    def average_grade(self):\n",
        "        if self.grades:\n",
        "            return sum(self.grades) / len(self.grades)\n",
        "        else:\n",
        "            return 0\n",
        "\n",
        "# Creating an instance of the Student class\n",
        "student = Student(\"Kushal\", [85, 90, 78, 92, 88])\n",
        "\n",
        "# Calling the average_grade method\n",
        "average = student.average_grade()\n",
        "print(f\"Average Grade: {average:.2f}\")\n"
      ],
      "metadata": {
        "colab": {
          "base_uri": "https://localhost:8080/"
        },
        "id": "-ecoX7k1ot0o",
        "outputId": "ed0d908f-f9ba-4f56-9cae-591ee3862f48"
      },
      "execution_count": null,
      "outputs": [
        {
          "output_type": "stream",
          "name": "stdout",
          "text": [
            "Average Grade: 86.60\n"
          ]
        }
      ]
    },
    {
      "cell_type": "markdown",
      "source": [
        "13. Create a class Rectangle with methods set_dimensions() to set the dimensions and area() to calculate the area.\n",
        "\n",
        "\n"
      ],
      "metadata": {
        "id": "g0s4aBOdqOG_"
      }
    },
    {
      "cell_type": "code",
      "source": [
        "class Rectangle:\n",
        "    def __init__(self):\n",
        "        self.length = 0\n",
        "        self.width = 0\n",
        "\n",
        "    def set_dimensions(self, length, width):\n",
        "        self.length = length\n",
        "        self.width = width\n",
        "\n",
        "    def area(self):\n",
        "        return self.length * self.width\n",
        "\n",
        "# Creating an instance of the Rectangle class\n",
        "rectangle = Rectangle()\n",
        "\n",
        "# Setting the dimensions\n",
        "rectangle.set_dimensions(2, 3)\n",
        "\n",
        "# Calculating the area\n",
        "print(f\"Area of the rectangle: {rectangle.area()}\")\n"
      ],
      "metadata": {
        "colab": {
          "base_uri": "https://localhost:8080/"
        },
        "id": "jsMVQh5rqBlP",
        "outputId": "fba0f83d-7694-4d16-afa8-0c4f5c3168b5"
      },
      "execution_count": null,
      "outputs": [
        {
          "output_type": "stream",
          "name": "stdout",
          "text": [
            "Area of the rectangle: 6\n"
          ]
        }
      ]
    },
    {
      "cell_type": "markdown",
      "source": [
        "14. Create a class Employee with a method calculate_salary() that computes the salary based on hours worked and hourly rate. Create a derived class Manager that adds a bonus to the salary."
      ],
      "metadata": {
        "id": "DnlXDsfhqpVo"
      }
    },
    {
      "cell_type": "code",
      "source": [
        "class Employee:\n",
        "    def __init__(self, name, hourly_rate):\n",
        "        self.name = name\n",
        "        self.hourly_rate = hourly_rate\n",
        "\n",
        "    def calculate_salary(self, hours_worked):\n",
        "        return self.hourly_rate * hours_worked\n",
        "\n",
        "class Manager(Employee):\n",
        "    def __init__(self, name, hourly_rate, bonus):\n",
        "        super().__init__(name, hourly_rate)\n",
        "        self.bonus = bonus\n",
        "\n",
        "    def calculate_salary(self, hours_worked):\n",
        "        base_salary = super().calculate_salary(hours_worked)\n",
        "        return base_salary + self.bonus\n",
        "\n",
        "# Creating an instance of Employee\n",
        "employee = Employee(\"Vimal\", 20)\n",
        "\n",
        "# Creating an instance of Manager\n",
        "manager = Manager(\"Kushal\", 30, 500)\n",
        "\n",
        "# Calculating and printing salaries\n",
        "print(f\"{employee.name}'s Salary: ${employee.calculate_salary(160)}\")\n",
        "print(f\"{manager.name}'s Salary: ${manager.calculate_salary(160)}\")\n"
      ],
      "metadata": {
        "colab": {
          "base_uri": "https://localhost:8080/"
        },
        "id": "ijvLnpbAqjd3",
        "outputId": "666eebc3-71ff-4d8b-d769-915fa030a268"
      },
      "execution_count": null,
      "outputs": [
        {
          "output_type": "stream",
          "name": "stdout",
          "text": [
            "Vimal's Salary: $3200\n",
            "Kushal's Salary: $5300\n"
          ]
        }
      ]
    },
    {
      "cell_type": "markdown",
      "source": [
        "15. Create a class Product with attributes name, price, and quantity. Implement a method total_price() that calculates the total price of the product."
      ],
      "metadata": {
        "id": "K7OrPq6rs2ER"
      }
    },
    {
      "cell_type": "code",
      "source": [
        "class Product:\n",
        "    def __init__(self, name, price, quantity):\n",
        "        self.name = name\n",
        "        self.price = price\n",
        "        self.quantity = quantity\n",
        "\n",
        "    def total_price(self):\n",
        "        return self.price * self.quantity\n",
        "\n",
        "# Creating an instance of the Product class\n",
        "product = Product(\"Shoes\", 1000, 3)\n",
        "\n",
        "# Calculating the total price\n",
        "print(f\"Total Price: ${product.total_price()}\")\n"
      ],
      "metadata": {
        "colab": {
          "base_uri": "https://localhost:8080/"
        },
        "id": "2pBjLwHcs0hJ",
        "outputId": "06b7b66a-4f7b-4842-d19a-8b3084321383"
      },
      "execution_count": null,
      "outputs": [
        {
          "output_type": "stream",
          "name": "stdout",
          "text": [
            "Total Price: $3000\n"
          ]
        }
      ]
    },
    {
      "cell_type": "markdown",
      "source": [
        "16.  Create a class Animal with an abstract method sound(). Create two derived classes Cow and Sheep that implement the sound() method."
      ],
      "metadata": {
        "id": "0sZUzsVwvFMV"
      }
    },
    {
      "cell_type": "code",
      "source": [
        "from abc import ABC, abstractmethod\n",
        "\n",
        "# Abstract base class\n",
        "class Animal(ABC):\n",
        "    @abstractmethod\n",
        "    def sound(self):\n",
        "        pass\n",
        "\n",
        "# Derived class Cow\n",
        "class Cow(Animal):\n",
        "    def sound(self):\n",
        "        return \"Maaaa\"\n",
        "\n",
        "# Derived class Sheep\n",
        "class Sheep(Animal):\n",
        "    def sound(self):\n",
        "        return \"Maaiinn\"\n",
        "\n",
        "# Creating instances of Cow and Sheep\n",
        "cow = Cow()\n",
        "sheep = Sheep()\n",
        "\n",
        "# Calling the sound method\n",
        "print(f\"Cow sound: {cow.sound()}\")\n",
        "print(f\"Sheep sound: {sheep.sound()}\")\n"
      ],
      "metadata": {
        "colab": {
          "base_uri": "https://localhost:8080/"
        },
        "id": "mgxKBHXfvDXW",
        "outputId": "d4e39af6-e671-4892-cc9c-feee87b023f1"
      },
      "execution_count": null,
      "outputs": [
        {
          "output_type": "stream",
          "name": "stdout",
          "text": [
            "Cow sound: Maaaa\n",
            "Sheep sound: Maaiinn\n"
          ]
        }
      ]
    },
    {
      "cell_type": "markdown",
      "source": [
        "17. Create a class Book with attributes title, author, and year_published. Add a method get_book_info() that returns a formatted string with the book's details."
      ],
      "metadata": {
        "id": "HjYarITNvz4P"
      }
    },
    {
      "cell_type": "code",
      "source": [
        "class Book:\n",
        "    def __init__(self, title, author, year_published):\n",
        "        self.title = title\n",
        "        self.author = author\n",
        "        self.year_published = year_published\n",
        "\n",
        "    def get_book_info(self):\n",
        "        return f\"Title: {self.title}, Author: {self.author}, Year Published: {self.year_published}\"\n",
        "\n",
        "# Creating an instance of the Book class\n",
        "book = Book(\"Why I am an Atheist\", \"Bhagat Singh\", 1930)\n",
        "\n",
        "# Getting the book information\n",
        "print(book.get_book_info())\n"
      ],
      "metadata": {
        "colab": {
          "base_uri": "https://localhost:8080/"
        },
        "id": "ZOuMSvi3vw5d",
        "outputId": "40c1ebb8-6652-4133-93be-acad4fe2a6bb"
      },
      "execution_count": null,
      "outputs": [
        {
          "output_type": "stream",
          "name": "stdout",
          "text": [
            "Title: Why I am an Atheist, Author: Bhagat Singh, Year Published: 1930\n"
          ]
        }
      ]
    },
    {
      "cell_type": "markdown",
      "source": [
        "18. Create a class House with attributes address and price. Create a derived class Mansion that adds an attribute number_of_rooms."
      ],
      "metadata": {
        "id": "enTsh5WBwiev"
      }
    },
    {
      "cell_type": "code",
      "source": [
        "# Base class\n",
        "class House:\n",
        "    def __init__(self, address, price):\n",
        "        self.address = address\n",
        "        self.price = price\n",
        "\n",
        "# Derived class\n",
        "class Mansion(House):\n",
        "    def __init__(self, address, price, number_of_rooms):\n",
        "        super().__init__(address, price)\n",
        "        self.number_of_rooms = number_of_rooms\n",
        "\n",
        "# Creating an instance of the Mansion class\n",
        "mansion = Mansion(\"123 Raj Nagar Delhi\", 5000000, 10)\n",
        "\n",
        "# Accessing attributes\n",
        "print(f\"Address: {mansion.address}\")\n",
        "print(f\"Price: Rs {mansion.price}\")\n",
        "print(f\"Number of Rooms: {mansion.number_of_rooms}\")\n"
      ],
      "metadata": {
        "colab": {
          "base_uri": "https://localhost:8080/"
        },
        "id": "Vn-0nDeTwgaV",
        "outputId": "f8bd30cc-41fe-4fd6-9bfc-2325da321bda"
      },
      "execution_count": null,
      "outputs": [
        {
          "output_type": "stream",
          "name": "stdout",
          "text": [
            "Address: 123 Raj Nagar Delhi\n",
            "Price: Rs 5000000\n",
            "Number of Rooms: 10\n"
          ]
        }
      ]
    },
    {
      "cell_type": "code",
      "source": [],
      "metadata": {
        "id": "h3oLISIMxATa"
      },
      "execution_count": null,
      "outputs": []
    }
  ]
}