{
  "nbformat": 4,
  "nbformat_minor": 0,
  "metadata": {
    "colab": {
      "provenance": []
    },
    "kernelspec": {
      "name": "python3",
      "display_name": "Python 3"
    },
    "language_info": {
      "name": "python"
    }
  },
  "cells": [
    {
      "cell_type": "markdown",
      "source": [
        "# **Theory Questions**\n",
        "\n",
        "1. What is the difference between interpreted and compiled languages?\n",
        "\n",
        "\n",
        "\n",
        "Python itself is an **interpreted language**, but it also involves aspects of compilation. Here's the difference between interpreted and compiled languages, with Python as an example:\n",
        "\n",
        "### 1. **Interpreted Language**\n",
        "- **Execution**: In an interpreted language, the code is executed line-by-line by an interpreter without needing a separate compilation step.\n",
        "- **Python's Interpretation**:\n",
        "  - Python code (written in `.py` files) is executed by the Python interpreter.\n",
        "  - However, before executing, the Python interpreter compiles the source code into an intermediate form called **bytecode** (`.pyc` files), which is then interpreted by the Python Virtual Machine (PVM).\n",
        "- **Advantages**:\n",
        "  - Easier debugging because you can run and test immediately.\n",
        "  - Platform independence, as long as the interpreter is available for the platform.\n",
        "- **Disadvantages**:\n",
        "  - Slower execution compared to compiled languages because the interpretation happens at runtime.\n",
        "\n",
        "---\n",
        "\n",
        "### 2. **Compiled Language**\n",
        "- **Execution**: In a compiled language, the source code is translated into machine code by a compiler before execution. The compiled machine code runs directly on the hardware.\n",
        "- **Key Features**:\n",
        "  - Compilation generates an executable file (e.g., `.exe`).\n",
        "  - The program runs faster since it skips the intermediate interpretation step.\n",
        "- **Advantages**:\n",
        "  - Faster execution.\n",
        "  - No dependency on an interpreter at runtime.\n",
        "- **Disadvantages**:\n",
        "  - Requires a separate compilation step before execution.\n",
        "  - Debugging can be more complex.\n",
        "\n"
      ],
      "metadata": {
        "id": "WBEPOdB1q6GH"
      }
    },
    {
      "cell_type": "markdown",
      "source": [
        "2. What is exception handling in Python?\n",
        "\n",
        "**Exception handling** in Python is a mechanism that allows you to detect and manage runtime errors (exceptions) in a controlled way. This helps prevent your program from crashing unexpectedly and provides a way to handle errors gracefully.\n",
        "\n",
        "### Key Concepts in Exception Handling\n",
        "\n",
        "1. **Exception**:\n",
        "   - An exception is an error that occurs during program execution.\n",
        "   - Examples include:\n",
        "     - Division by zero (`ZeroDivisionError`)\n",
        "     - Accessing an undefined variable (`NameError`)\n",
        "     - Trying to open a non-existent file (`FileNotFoundError`)\n",
        "\n",
        "2. **Purpose of Exception Handling**:\n",
        "   - Handle errors gracefully without crashing the program.\n",
        "   - Provide meaningful error messages to the user.\n",
        "   - Allow the program to recover or continue after an error.\n",
        "\n",
        "---\n",
        "\n",
        "### How Exception Handling Works in Python\n",
        "\n",
        "Python provides a structured way to handle exceptions using the following keywords:\n",
        "\n",
        "#### 1. **`try` block**\n",
        "   - Code that might raise an exception is placed inside a `try` block.\n",
        "   - If no exception occurs, the `try` block executes normally.\n",
        "\n",
        "#### 2. **`except` block**\n",
        "   - If an exception occurs in the `try` block, the `except` block is executed to handle the exception.\n",
        "   - You can specify the type of exception to catch specific errors.\n",
        "\n",
        "#### 3. **`else` block** (Optional)\n",
        "   - If no exception occurs, the `else` block executes after the `try` block.\n",
        "\n",
        "#### 4. **`finally` block** (Optional)\n",
        "   - The `finally` block always executes, regardless of whether an exception occurred or not.\n",
        "   - It's typically used for cleanup tasks (e.g., closing files or releasing resources).\n",
        "\n"
      ],
      "metadata": {
        "id": "k523KV19rtmA"
      }
    },
    {
      "cell_type": "markdown",
      "source": [
        "3. What is the purpose of the finally block in exception handling?\n",
        "\n",
        "The `finally` block is a powerful tool that ensures certain code is always executed, no matter what happens in the `try` or `except` blocks. This block is typically used for cleanup activities, such as closing files, releasing resources, or resetting states. Here's a practical example:\n",
        "\n",
        "```python\n",
        "try:\n",
        "    file = open(\"example.txt\", \"r\")\n",
        "    data = file.read()\n",
        "    print(data)\n",
        "except FileNotFoundError:\n",
        "    print(\"The file was not found.\")\n",
        "finally:\n",
        "    file.close()\n",
        "    print(\"File closed.\")\n",
        "\n",
        "```\n",
        "\n",
        "In this example, the `finally` block guarantees that the file is closed, whether or not an exception occurs. This is crucial for avoiding resource leaks and ensuring that resources are properly released.\n",
        "\n",
        "So, in a nutshell, the `finally` block ensures that necessary cleanup actions are performed, making your code more reliable and robust.\n",
        "\n"
      ],
      "metadata": {
        "id": "NRWtL5ghsImN"
      }
    },
    {
      "cell_type": "markdown",
      "source": [
        "4. What is logging in Python?\n",
        "\n",
        "Logging in Python is a way to track events that happen when some software runs. The logging module in Python is part of the standard library, making it easy to track and troubleshoot problems in your code. By logging messages, you can get insights into the flow of your program and identify where things might have gone wrong.\n",
        "\n",
        "### Logging in Python (Key Points)\n",
        "\n",
        "1. **Purpose**:\n",
        "   - Record events during program execution for debugging, monitoring, and diagnostics.\n",
        "\n",
        "2. **Logging Levels**:\n",
        "   - `DEBUG`: Detailed information for debugging.\n",
        "   - `INFO`: General program execution info.\n",
        "   - `WARNING`: Potential issues.\n",
        "   - `ERROR`: Errors that affect execution.\n",
        "   - `CRITICAL`: Severe errors causing program failure.\n",
        "\n",
        "3. **Basic Setup**:\n",
        "   - Use the `logging` module to configure logs with `basicConfig()`.\n",
        "\n",
        "4. **Destinations**:\n",
        "   - Logs can be sent to the console, files, or external systems.\n",
        "\n",
        "5. **Advanced Features**:\n",
        "   - Handlers: Direct logs to different outputs.\n",
        "   - Formatters: Customize log message formats (e.g., timestamps).\n",
        "   - Rotating logs: Manage log file size or rotation over time.\n",
        "\n",
        "6. **Benefits**:\n",
        "   - More robust than `print()`.\n",
        "   - Flexible and structured.\n",
        "   - Essential for production-level applications."
      ],
      "metadata": {
        "id": "C7ygqNaCscSE"
      }
    },
    {
      "cell_type": "markdown",
      "source": [
        "5. What is the significance of the __del__ method in Python?\n",
        "\n",
        "The `__del__` method in Python is a special method, also known as a destructor, that is called when an object is about to be destroyed or garbage collected. Its primary purpose is to allow for clean-up actions (e.g., releasing resources like files or network connections) before the object is removed from memory.\n",
        "\n",
        "### Key Points about `__del__`:\n",
        "\n",
        "1. **Purpose**:\n",
        "   - It allows you to define custom clean-up behavior for an object.\n",
        "\n",
        "2. **Syntax**:\n",
        "   ```python\n",
        "   class MyClass:\n",
        "       def __del__(self):\n",
        "           print(\"Object is being deleted.\")\n",
        "   ```\n",
        "\n",
        "3. **Automatic Invocation**:\n",
        "   - Called automatically when an object’s reference count drops to zero.\n",
        "   - It is triggered during garbage collection or at program termination.\n",
        "\n",
        "4. **Common Use Cases**:\n",
        "   - Closing files or database connections.\n",
        "   - Releasing external resources.\n",
        "   - Performing logging or debugging actions before an object is destroyed.\n",
        "\n",
        "5. **Limitations**:\n",
        "   - The exact timing of `__del__` execution is uncertain, as it depends on Python's garbage collector.\n",
        "   - Objects with circular references may not have their `__del__` method invoked.\n",
        "   - Avoid relying on `__del__` for critical resource management; use context managers (`with` statement) instead for deterministic cleanup.\n",
        "\n"
      ],
      "metadata": {
        "id": "wAFx3V0uySYw"
      }
    },
    {
      "cell_type": "markdown",
      "source": [
        "6. What is the difference between import and from ... import in Python?\n",
        "\n",
        "In Python, both `import` and `from ... import` are used to bring in modules and their components into your code, but they serve slightly different purposes and have different usage scenarios:\n",
        "\n",
        "1. **`import` Statement:**\n",
        "   - This statement imports the entire module into your namespace.\n",
        "   - You access the components of the module using the dot notation.\n",
        "   - Example:\n",
        "     ```python\n",
        "     import math\n",
        "\n",
        "     print(math.sqrt(16))  # Accessing the sqrt function from the math module\n",
        "     ```\n",
        "   - It keeps the module's namespace separate, which can help avoid naming conflicts.\n",
        "\n",
        "2. **`from ... import` Statement:**\n",
        "   - This statement imports specific components (functions, classes, or variables) from a module directly into your namespace.\n",
        "   - You can use the imported components without dot notation.\n",
        "   - Example:\n",
        "     ```python\n",
        "     from math import sqrt\n",
        "\n",
        "     print(sqrt(16))  # Directly using the imported sqrt function\n",
        "     ```\n",
        "   - It can make your code cleaner and more concise when you only need a few components from a module.\n",
        "\n",
        "3. **`from ... import *` Statement:**\n",
        "   - This imports all components from a module into your namespace.\n",
        "   - Be cautious with this approach as it can lead to naming conflicts and make the code harder to read.\n",
        "   - Example:\n",
        "     ```python\n",
        "     from math import *\n",
        "\n",
        "     print(sqrt(16))  # Using sqrt directly without module name\n",
        "     ```\n",
        "   - It's generally recommended to avoid this form to maintain code clarity and avoid potential conflicts.\n",
        "\n",
        "In summary:\n",
        "- Use `import` to import the whole module and access its components with dot notation, which keeps your namespace clean.\n",
        "- Use `from ... import` to import specific components you need, making your code more concise and readable.\n",
        "- Avoid `from ... import *` unless absolutely necessary due to potential naming conflicts and reduced code clarity.\n",
        "\n"
      ],
      "metadata": {
        "id": "_Q4Gx5q9ymHw"
      }
    },
    {
      "cell_type": "markdown",
      "source": [
        "7. How can you handle multiple exceptions in Python?\n",
        "\n",
        "Handling multiple exceptions in Python is straightforward and provides flexibility in managing different error scenarios. Here are a few ways you can do it:\n",
        "\n",
        "### 1. **Multiple `except` Blocks**\n",
        "\n",
        "You can have multiple `except` blocks to handle different types of exceptions separately:\n",
        "\n",
        "```python\n",
        "try:\n",
        "    # Code that may raise an exception\n",
        "    num = int(input(\"Enter a number: \"))\n",
        "    result = 10 / num\n",
        "    print(\"Result:\", result)\n",
        "except ZeroDivisionError:\n",
        "    # Handle division by zero\n",
        "    print(\"Oops! You can't divide by zero.\")\n",
        "except ValueError:\n",
        "    # Handle invalid input\n",
        "    print(\"Please enter a valid integer.\")\n",
        "```\n",
        "\n",
        "### 2. **Handling Multiple Exceptions in a Single `except` Block**\n",
        "\n",
        "You can catch multiple exceptions in a single `except` block by specifying them as a tuple:\n",
        "\n",
        "```python\n",
        "try:\n",
        "    # Code that may raise an exception\n",
        "    num = int(input(\"Enter a number: \"))\n",
        "    result = 10 / num\n",
        "    print(\"Result:\", result)\n",
        "except (ZeroDivisionError, ValueError):\n",
        "    print(\"An error occurred: either division by zero or invalid input.\")\n",
        "```\n",
        "\n",
        "### 3. **Using Exception as an Alias**\n",
        "\n",
        "If you want to access the exception details, you can use an alias:\n",
        "\n",
        "```python\n",
        "try:\n",
        "    # Code that may raise an exception\n",
        "    num = int(input(\"Enter a number: \"))\n",
        "    result = 10 / num\n",
        "    print(\"Result:\", result)\n",
        "except (ZeroDivisionError, ValueError) as e:\n",
        "    print(f\"An error occurred: {e}\")\n",
        "```\n",
        "\n",
        "### 4. **Finally Block for Cleanup**\n",
        "\n",
        "Combine exception handling with a `finally` block to ensure that certain code is always executed:\n",
        "\n",
        "```python\n",
        "try:\n",
        "    num = int(input(\"Enter a number: \"))\n",
        "    result = 10 / num\n",
        "    print(\"Result:\", result)\n",
        "except ZeroDivisionError:\n",
        "    print(\"Oops! You can't divide by zero.\")\n",
        "except ValueError:\n",
        "    print(\"Please enter a valid integer.\")\n",
        "finally:\n",
        "    print(\"This block always executes.\")\n",
        "```\n",
        "\n",
        "### Summary\n",
        "\n",
        "Handling multiple exceptions allows you to write more robust and user-friendly code. By specifying multiple `except` blocks, handling multiple exceptions in a single block, or using an alias to access exception details, you can effectively manage various error scenarios.\n"
      ],
      "metadata": {
        "id": "XfzSxjJwy5HI"
      }
    },
    {
      "cell_type": "markdown",
      "source": [
        "8. What is the purpose of the with statement when handling files in Python?\n",
        "\n",
        "The `with` statement in Python is used for resource management and is especially useful when working with files. Its main purpose is to ensure that resources are properly acquired and released, even if an error occurs. Here's why the `with` statement is beneficial when handling files:\n",
        "\n",
        "### Automatic Resource Management\n",
        "\n",
        "When you open a file using the `with` statement, it automatically takes care of closing the file once you are done with it, even if an error occurs during file operations. This eliminates the need for an explicit call to `close()` and reduces the risk of resource leaks.\n",
        "\n",
        "### Simplified Syntax\n",
        "\n",
        "The `with` statement simplifies the syntax, making the code more readable and concise. Here's an example:\n",
        "\n",
        "```python\n",
        "# Without with statement\n",
        "try:\n",
        "    file = open(\"example.txt\", \"r\")\n",
        "    data = file.read()\n",
        "    print(data)\n",
        "finally:\n",
        "    file.close()\n",
        "\n",
        "# With with statement\n",
        "with open(\"example.txt\", \"r\") as file:\n",
        "    data = file.read()\n",
        "    print(data)\n",
        "```\n",
        "\n",
        "In this example:\n",
        "- **Without the `with` statement:** You need to manually ensure the file is closed using `file.close()`, often inside a `finally` block to handle exceptions.\n",
        "- **With the `with` statement:** The file is automatically closed when the block inside the `with` statement is exited, regardless of whether an exception occurred.\n",
        "\n",
        "### Cleaner and Safer Code\n",
        "\n",
        "Using the `with` statement leads to cleaner and safer code by reducing the chances of forgetting to release resources. It's especially useful for managing files, network connections, and other resources that need proper cleanup.\n",
        "\n",
        "### Context Management\n",
        "\n",
        "The `with` statement works with any object that implements the context management protocol, which includes methods `__enter__` and `__exit__`. This makes it versatile for managing various types of resources.\n",
        "\n",
        "In summary, the `with` statement provides a cleaner, more readable way to handle file operations and ensures that resources are properly managed, minimizing the risk of resource leaks and errors."
      ],
      "metadata": {
        "id": "JGdXD5b4zMz_"
      }
    },
    {
      "cell_type": "markdown",
      "source": [
        "9.  What is the difference between multithreading and multiprocessing?\n",
        "\n",
        "Multithreading and multiprocessing are both techniques to achieve parallelism, but they have different implementations and use cases in Python.\n",
        "\n",
        "### Multithreading\n",
        "- **Definition:** Involves running multiple threads within a single process.\n",
        "- **Threads:** A thread is the smallest unit of a process. Multiple threads share the same memory space and resources.\n",
        "- **Use Case:** Suitable for I/O-bound tasks like file I/O, network operations, or waiting for user input.\n",
        "- **Concurrency:** Provides concurrency, not parallelism, due to the Global Interpreter Lock (GIL) in Python, which allows only one thread to execute at a time.\n",
        "\n",
        "### Multiprocessing\n",
        "- **Definition:** Involves running multiple processes, each with its own Python interpreter and memory space.\n",
        "- **Processes:** A process is an independent execution unit with its own memory space.\n",
        "- **Use Case:** Suitable for CPU-bound tasks like mathematical computations, image processing, and other heavy computations.\n",
        "- **Parallelism:** Provides true parallelism since each process runs on a separate core.\n",
        "- **Example:**\n",
        "  \n",
        "### Key Differences\n",
        "1. **Memory Sharing:**\n",
        "   - Multithreading: Threads share the same memory space.\n",
        "   - Multiprocessing: Each process has its own memory space.\n",
        "\n",
        "2. **Performance:**\n",
        "   - Multithreading: Limited by the GIL; better for I/O-bound tasks.\n",
        "   - Multiprocessing: Can bypass the GIL; better for CPU-bound tasks.\n",
        "\n",
        "3. **Communication:**\n",
        "   - Multithreading: Communication between threads is easier but requires synchronization.\n",
        "   - Multiprocessing: Communication between processes is more complex but avoids GIL issues.\n",
        "\n",
        "4. **Resource Utilization:**\n",
        "   - Multithreading: Less overhead in creating threads.\n",
        "   - Multiprocessing: More overhead in creating processes but takes full advantage of multiple CPU cores.\n",
        "\n",
        "In summary, choose multithreading for I/O-bound tasks and multiprocessing for CPU-bound tasks to make the most efficient use of resources."
      ],
      "metadata": {
        "id": "nTUkgZNQ0B8o"
      }
    },
    {
      "cell_type": "markdown",
      "source": [
        "10.  What are the advantages of using logging in a program?\n",
        "\n",
        "### Advantages of Using Logging in a Program\n",
        "\n",
        "1. **Improved Debugging and Troubleshooting**:\n",
        "   - Logs provide detailed information about the program's execution flow, making it easier to identify and fix issues.\n",
        "\n",
        "2. **Separation from Console Output**:\n",
        "   - Unlike `print()` statements, logging allows you to separate diagnostic messages from normal program output.\n",
        "\n",
        "3. **Customizable Levels**:\n",
        "   - Log messages can be categorized by severity (`DEBUG`, `INFO`, `WARNING`, `ERROR`, `CRITICAL`), helping to filter and prioritize issues.\n",
        "\n",
        "4. **Persistent Records**:\n",
        "   - Logs can be saved to files for historical analysis, auditing, and debugging after the program has finished running.\n",
        "\n",
        "5. **Flexibility**:\n",
        "   - Logs can be directed to various outputs, such as the console, files, or external systems like monitoring tools.\n",
        "\n",
        "6. **Controlled Output**:\n",
        "   - You can control the verbosity of logs by setting the logging level (e.g., only show warnings and errors in production).\n",
        "\n",
        "7. **Real-Time Monitoring**:\n",
        "   - Logs enable real-time tracking of system or application behavior, helping with system administration and performance monitoring.\n",
        "\n",
        "8. **Thread Safety**:\n",
        "   - The Python `logging` module is thread-safe, making it suitable for multi-threaded applications.\n",
        "\n",
        "9. **Advanced Configuration**:\n",
        "   - Logging allows for fine-grained control with handlers, formatters, and filters, enabling tailored logging solutions for different needs.\n",
        "\n",
        "10. **Minimal Performance Impact**:\n",
        "    - Logging is optimized to minimize performance overhead compared to repeatedly using `print()` statements.\n",
        "\n",
        "### Summary:\n",
        "Logging is a robust and professional approach to tracking and managing the behavior of applications, providing better debugging, monitoring, and maintenance capabilities than basic output methods."
      ],
      "metadata": {
        "id": "uTazRFGm0U-y"
      }
    },
    {
      "cell_type": "markdown",
      "source": [
        "11. What is memory management in Python?\n",
        "\n",
        "Memory management in Python involves the process of allocating, using, and releasing memory resources in an efficient way. Python has a built-in garbage collector that automatically handles memory management, making it easier for developers to focus on writing code without worrying about low-level memory operations. Here are the key aspects:\n",
        "\n",
        "### 1. **Memory Allocation**\n",
        "\n",
        "Python manages memory using a private heap space dedicated to Python objects and data structures. The allocation of this heap space is handled internally by the Python memory manager. This includes:\n",
        "- **Stack Memory:** Used for local variables within functions.\n",
        "- **Heap Memory:** Used for dynamic memory allocation, such as objects and data structures.\n",
        "\n",
        "### 2. **Garbage Collection**\n",
        "\n",
        "Python uses a garbage collector to automatically reclaim memory from objects that are no longer in use. The garbage collector employs reference counting and a cyclic garbage collector to detect and clean up unused objects:\n",
        "- **Reference Counting:** Each object has a reference count, which keeps track of the number of references to the object. When the reference count drops to zero, the memory occupied by the object is freed.\n",
        "- **Cyclic Garbage Collection:** In addition to reference counting, Python can detect and clean up circular references (where objects refer to each other in a cycle, preventing their reference counts from dropping to zero).\n",
        "\n",
        "### 3. **Memory Pools**\n",
        "\n",
        "Python’s memory manager also uses memory pools to improve the efficiency of memory allocation and deallocation. Memory pools are categorized based on the size of the objects they store, which helps reduce fragmentation and improve performance.\n",
        "\n",
        "### 4. **Memory Optimization Techniques**\n",
        "\n",
        "There are several techniques and modules that developers can use to optimize memory usage in Python:\n",
        "- **`sys` module:** Provides functions like `sys.getsizeof()` to check the size of objects.\n",
        "- **`gc` module:** Allows developers to interact with the garbage collector, enabling manual garbage collection and inspection of garbage collector statistics.\n",
        "- **Efficient Data Structures:** Using appropriate data structures, such as `deque` from the `collections` module, can optimize memory usage.\n",
        "\n"
      ],
      "metadata": {
        "id": "5v-0ODBV0l15"
      }
    },
    {
      "cell_type": "markdown",
      "source": [
        "12. What are the basic steps involved in exception handling in Python?\n",
        "\n",
        "### Basic Steps Involved in Exception Handling in Python\n",
        "\n",
        "1. **Identify Code That May Raise Exceptions**:\n",
        "   - Enclose the code that may raise an exception in a `try` block.\n",
        "   - This ensures the program can handle errors gracefully.\n",
        "\n",
        "   ```python\n",
        "   try:\n",
        "       risky_code()\n",
        "   ```\n",
        "\n",
        "2. **Catch the Exception**:\n",
        "   - Use `except` blocks to catch and handle specific exceptions or a general `Exception` for all errors.\n",
        "\n",
        "   ```python\n",
        "   try:\n",
        "       risky_code()\n",
        "   except ValueError:\n",
        "       print(\"A ValueError occurred.\")\n",
        "   ```\n",
        "\n",
        "3. **Handle the Exception**:\n",
        "   - Provide appropriate actions, such as logging the error, retrying the operation, or displaying a user-friendly message.\n",
        "\n",
        "   ```python\n",
        "   try:\n",
        "       result = 10 / 0\n",
        "   except ZeroDivisionError:\n",
        "       print(\"Cannot divide by zero!\")\n",
        "   ```\n",
        "\n",
        "4. **Use `else` for Normal Execution** (Optional):\n",
        "   - The `else` block executes if no exception occurs in the `try` block.\n",
        "\n",
        "   ```python\n",
        "   try:\n",
        "       result = 10 / 2\n",
        "   except ZeroDivisionError:\n",
        "       print(\"Cannot divide by zero!\")\n",
        "   else:\n",
        "       print(\"Result:\", result)\n",
        "   ```\n",
        "\n",
        "5. **Use `finally` for Cleanup** (Optional):\n",
        "   - The `finally` block always executes, regardless of whether an exception occurred, typically used for cleanup operations like closing files or releasing resources.\n",
        "\n",
        "   ```python\n",
        "   try:\n",
        "       file = open(\"file.txt\", \"r\")\n",
        "       data = file.read()\n",
        "   except FileNotFoundError:\n",
        "       print(\"File not found.\")\n",
        "   finally:\n",
        "       file.close()\n",
        "   ```\n",
        "\n",
        "---\n",
        "\n",
        "### Summary of Steps:\n",
        "1. Wrap risky code in a `try` block.\n",
        "2. Use `except` to catch and handle exceptions.\n",
        "3. Optionally use `else` to execute code if no exception occurs.\n",
        "4. Use `finally` to ensure cleanup actions always occur.\n",
        "\n",
        "This structure ensures programs are robust, user-friendly, and able to handle errors gracefully."
      ],
      "metadata": {
        "id": "h_piEsLa0xqh"
      }
    },
    {
      "cell_type": "markdown",
      "source": [
        "13. Why is memory management important in Python?\n",
        "\n",
        "Sure! Here are the key points about memory management in Python:\n",
        "\n",
        "1. **Efficient Resource Utilization**: Ensures optimal use of memory resources, reducing waste and improving performance.\n",
        "\n",
        "2. **Avoiding Memory Leaks**: Automatic garbage collection helps prevent memory leaks by reclaiming unused memory.\n",
        "\n",
        "3. **Scalability**: Proper memory management allows applications to handle larger workloads and scale effectively.\n",
        "\n",
        "4. **Performance Optimization**: Minimizes unnecessary memory usage, enhancing application speed and responsiveness.\n",
        "\n",
        "5. **Preventing Resource Contention**: Essential in environments with limited memory to ensure all parts of the application function correctly.\n",
        "\n",
        "6. **Maintaining Code Quality**: Encourages clean, maintainable code, reducing bugs and enhancing readability.\n",
        "\n",
        "Python's built-in memory management features, like garbage collection and memory pools, help manage memory efficiently, but following best practices is crucial for optimal results.\n"
      ],
      "metadata": {
        "id": "YEQ1xClN1BJP"
      }
    },
    {
      "cell_type": "markdown",
      "source": [
        "14.  What is the role of try and except in exception handling?\n",
        "\n",
        "The `try` and `except` blocks are fundamental to exception handling in Python. Here's a concise breakdown of their roles:\n",
        "\n",
        "### `try` Block\n",
        "- **Purpose:** Contains code that might raise an exception.\n",
        "- **Execution:** If no exceptions occur, the code runs normally.\n",
        "- **Example:**\n",
        "  ```python\n",
        "  try:\n",
        "      result = 10 / int(input(\"Enter a number: \"))\n",
        "      print(\"Result:\", result)\n",
        "  ```\n",
        "\n",
        "### `except` Block\n",
        "- **Purpose:** Catches and handles specific exceptions that occur in the `try` block.\n",
        "- **Execution:** If an exception occurs, the corresponding `except` block executes.\n",
        "- **Example:**\n",
        "  ```python\n",
        "  except ZeroDivisionError:\n",
        "      print(\"Cannot divide by zero.\")\n",
        "  except ValueError:\n",
        "      print(\"Please enter a valid integer.\")\n",
        "  ```\n",
        "\n",
        "### Summary\n",
        "- The `try` block lets you test a block of code for errors.\n",
        "- The `except` block lets you handle the errors gracefully, preventing the program from crashing.\n",
        "\n"
      ],
      "metadata": {
        "id": "XqWHaD7b1l6x"
      }
    },
    {
      "cell_type": "markdown",
      "source": [
        "15. How does Python's garbage collection system work?\n",
        "\n",
        "Sure! Here are the key points about Python's garbage collection system:\n",
        "\n",
        "1. **Reference Counting**\n",
        "   - Each object has a reference count.\n",
        "   - Memory is deallocated when the reference count drops to zero.\n",
        "\n",
        "2. **Cyclic Garbage Collection**\n",
        "   - Detects and breaks reference cycles.\n",
        "   - Reclaims memory from objects in cyclic references.\n",
        "\n",
        "3. **Generational Garbage Collection**\n",
        "   - Operates in three generations: youngest (0), middle-aged (1), and oldest (2).\n",
        "   - Most collections happen in Generation 0; surviving objects move to older generations.\n",
        "\n",
        "### Summary\n",
        "- Efficient memory management through reference counting, cyclic detection, and generational collection.\n",
        "- Optimizes performance and prevents memory leaks.\n"
      ],
      "metadata": {
        "id": "yDlzDUI71yfS"
      }
    },
    {
      "cell_type": "markdown",
      "source": [
        "16. What is the purpose of the else block in exception handling?\n",
        "\n",
        "### Purpose of the `else` Block in Exception Handling:\n",
        "\n",
        "1. **Differentiates Execution Paths**: Separates the normal execution code from exception-handling logic, improving code readability and organization.\n",
        "\n",
        "2. **Runs Only After Successful Execution**: Executes only if the `try` block completes without raising any exceptions, ensuring clarity in the flow of the program.\n",
        "\n",
        "3. **Avoids Redundancy**: Allows you to place code that depends on the successful completion of the `try` block, avoiding unnecessary checks in the `try` or `except` blocks.\n",
        "\n",
        "4. **Improves Structure**: Encourages clean and structured exception handling by clearly delineating normal operations, error handling, and resource management (`finally` block)."
      ],
      "metadata": {
        "id": "DtchOAi22DdA"
      }
    },
    {
      "cell_type": "markdown",
      "source": [
        "17. What are the common logging levels in Python?\n",
        "\n",
        "Sure! Here are the common logging levels in Python, listed concisely:\n",
        "\n",
        "1. **DEBUG**\n",
        "   - **Purpose:** Detailed information for diagnosing problems.\n",
        "   - **Use Case:** Development debugging.\n",
        "   - **Example:** `logging.debug(\"This is a debug message.\")`\n",
        "\n",
        "2. **INFO**\n",
        "   - **Purpose:** Confirmation that things are working as expected.\n",
        "   - **Use Case:** General operational messages.\n",
        "   - **Example:** `logging.info(\"This is an info message.\")`\n",
        "\n",
        "3. **WARNING**\n",
        "   - **Purpose:** Indicates something unexpected or potential problems.\n",
        "   - **Use Case:** Alerts about possible issues.\n",
        "   - **Example:** `logging.warning(\"This is a warning message.\")`\n",
        "\n",
        "4. **ERROR**\n",
        "   - **Purpose:** Serious problems that need attention.\n",
        "   - **Use Case:** Errors that should be addressed but don't stop the program.\n",
        "   - **Example:** `logging.error(\"This is an error message.\")`\n",
        "\n",
        "5. **CRITICAL**\n",
        "   - **Purpose:** Very serious errors that may halt the program.\n",
        "   - **Use Case:** Major errors requiring immediate action.\n",
        "   - **Example:** `logging.critical(\"This is a critical message.\")`\n",
        "\n",
        "These logging levels help you filter and prioritize log messages based on their severity, making it easier to diagnose and troubleshoot issues."
      ],
      "metadata": {
        "id": "wv-KjYEY3yGi"
      }
    },
    {
      "cell_type": "markdown",
      "source": [
        "18.  What is the difference between os.fork() and multiprocessing in Python?\n",
        "\n",
        "### **Difference Between `os.fork()` and `multiprocessing`**\n",
        "\n",
        "1. **Platform**:\n",
        "   - `os.fork()`: Unix/Linux only.\n",
        "   - `multiprocessing`: Cross-platform (Windows, Linux, macOS).\n",
        "\n",
        "2. **Level**:\n",
        "   - `os.fork()`: Low-level API for process creation.\n",
        "   - `multiprocessing`: High-level module with built-in tools.\n",
        "\n",
        "3. **Ease of Use**:\n",
        "   - `os.fork()`: Complex; requires manual resource and communication management.\n",
        "   - `multiprocessing`: Easier; provides tools like `Queue` and `Pipe` for IPC.\n",
        "\n",
        "4. **Process Isolation**:\n",
        "   - `os.fork()`: Child and parent processes share memory initially.\n",
        "   - `multiprocessing`: Processes have fully separate memory spaces.\n",
        "\n",
        "5. **Use Case**:\n",
        "   - `os.fork()`: System-level programming and direct OS interaction.\n",
        "   - `multiprocessing`: High-level parallelism and concurrency tasks.\n",
        "\n",
        "6. **Reliability**:\n",
        "   - `os.fork()`: Requires careful coding to avoid issues.\n",
        "   - `multiprocessing`: Safer and more robust with automated management."
      ],
      "metadata": {
        "id": "9F-1rgii4H_T"
      }
    },
    {
      "cell_type": "markdown",
      "source": [
        "19. What is the importance of closing a file in Python?\n",
        "\n",
        "Sure! Here are the key points about the importance of closing a file in Python:\n",
        "\n",
        "1. **Resource Management:** Frees up system resources like file descriptors.\n",
        "2. **Data Integrity:** Ensures all buffered data is written to the disk.\n",
        "3. **File Locking:** Releases file locks, allowing other processes to access the file.\n",
        "4. **Avoiding Errors:** Prevents potential errors and unexpected behavior in long-running programs.\n",
        "\n",
        "Always close files when you're done to maintain resource efficiency and data integrity. You can do this explicitly with `file.close()` or automatically using the `with` statement.\n"
      ],
      "metadata": {
        "id": "prv1pz_t4dCq"
      }
    },
    {
      "cell_type": "markdown",
      "source": [
        "20.  What is the difference between file.read() and file.readline() in Python?\n",
        "\n",
        "### **Difference Between `file.read()` and `file.readline()`**\n",
        "\n",
        "1. **Functionality**:\n",
        "   - `file.read()`: Reads the **entire file** or a specified number of characters.\n",
        "   - `file.readline()`: Reads **one line at a time** from the file.\n",
        "\n",
        "2. **Return Value**:\n",
        "   - `file.read()`: Returns a **string** containing all or part of the file content.\n",
        "   - `file.readline()`: Returns a **string** containing the next line, including the newline character (`\\n`).\n",
        "\n",
        "3. **Performance**:\n",
        "   - `file.read()`: Can be **memory-intensive** if the file is large, as it loads the content into memory.\n",
        "   - `file.readline()`: More memory-efficient for reading line by line.\n",
        "\n",
        "4. **Use Case**:\n",
        "   - `file.read()`: Suitable for reading **entire files** or processing content in chunks.\n",
        "   - `file.readline()`: Ideal for reading and processing **files line by line**.\n",
        "\n",
        "5. **End of File**:\n",
        "   - `file.read()`: Returns an empty string (`\"\"`) when the end of the file is reached.\n",
        "   - `file.readline()`: Also returns an empty string (`\"\"`) when there are no more lines to read."
      ],
      "metadata": {
        "id": "McihOBzH4r2Q"
      }
    },
    {
      "cell_type": "markdown",
      "source": [
        "21. What is the logging module in Python used for?\n",
        "\n",
        "Of course! Here's a concise overview of the `logging` module in Python:\n",
        "\n",
        "1. **Event Tracking:** Monitors the flow of a program by recording various events.\n",
        "2. **Debugging:** Helps diagnose issues by logging error messages and significant events.\n",
        "3. **Monitoring:** Enables continuous monitoring of applications in both development and production.\n",
        "4. **Audit Trail:** Maintains logs of activities, which is important for security and compliance.\n",
        "5. **Customizability:** Allows customization of log levels, formats, and destinations (such as console, files, or remote servers).\n",
        "\n",
        "The `logging` module provides a powerful way to keep track of what's happening in your application, making it easier to manage, debug, and monitor your code effectively.\n"
      ],
      "metadata": {
        "id": "4XdtcQ0x4-w6"
      }
    },
    {
      "cell_type": "markdown",
      "source": [
        "22. What is the os module in Python used for in file handling?\n",
        "\n",
        "### **Uses of the `os` Module in File Handling**\n",
        "\n",
        "1. **File Operations**:\n",
        "   - `os.remove(path)`: Delete files.\n",
        "   - `os.rename(src, dest)`: Rename or move files.\n",
        "\n",
        "2. **Directory Management**:\n",
        "   - `os.mkdir(path)`: Create directories.\n",
        "   - `os.rmdir(path)`: Remove empty directories.\n",
        "   - `os.getcwd()`: Get the current working directory.\n",
        "   - `os.chdir(path)`: Change the working directory.\n",
        "\n",
        "3. **Path Handling**:\n",
        "   - `os.path.join()`: Join file paths.\n",
        "   - `os.path.exists(path)`: Check if a file or directory exists.\n",
        "   - `os.path.isfile(path)`: Check if the path is a file.\n",
        "   - `os.path.isdir(path)`: Check if the path is a directory.\n",
        "\n",
        "4. **File Metadata**:\n",
        "   - `os.stat(path)`: Access file size, creation time, and permissions.\n",
        "\n",
        "5. **Environment Variables**:\n",
        "   - `os.getenv('VAR_NAME')`: Get environment variable values.\n",
        "   - `os.environ`: Access or modify environment variables.\n",
        "\n",
        "6. **System Commands**:\n",
        "   - `os.system(command)`: Execute shell commands.\n",
        "\n",
        "7. **Cross-Platform Compatibility**:\n",
        "   - Provides platform-independent methods for file and directory operations."
      ],
      "metadata": {
        "id": "qYzfwM2k5LDJ"
      }
    },
    {
      "cell_type": "markdown",
      "source": [
        "23. What are the challenges associated with memory management in Python?\n",
        "\n",
        "Memory management in Python, while largely automated, does present some challenges:\n",
        "\n",
        "1. **Reference Cycles:** Python's garbage collector may struggle with reference cycles, where objects reference each other, leading to potential memory leaks if not properly managed.\n",
        "\n",
        "2. **Global Interpreter Lock (GIL):** The GIL can limit the performance of multi-threaded programs, affecting memory management efficiency in CPU-bound tasks.\n",
        "\n",
        "3. **Memory Fragmentation:** Over time, memory fragmentation can occur, especially with long-running programs, leading to inefficient memory usage and performance degradation.\n",
        "\n",
        "4. **Resource Management:** Reliance on automatic garbage collection may lead to delayed resource release, impacting performance and resource availability.\n",
        "\n",
        "5. **Manual Intervention:** In some cases, manual garbage collection using the `gc` module may be necessary to handle specific memory management issues, adding complexity.\n",
        "\n",
        "6. **Memory Bloat:** Inefficient use of data structures or improper handling of large datasets can lead to excessive memory usage, known as memory bloat.\n",
        "\n",
        "These challenges require careful coding practices, effective use of the `gc` module, and efficient data structure management to ensure optimal memory management in Python."
      ],
      "metadata": {
        "id": "TVWbrhnB5Xm6"
      }
    },
    {
      "cell_type": "markdown",
      "source": [
        "24.  How do you raise an exception manually in Python?\n",
        "\n",
        "You can manually raise an exception in Python using the `raise` statement. This is useful when you want to enforce certain conditions or signal that an error has occurred. Here's how you can do it:\n",
        "\n",
        "### Basic Syntax\n",
        "```python\n",
        "raise Exception(\"This is a custom exception message\")\n",
        "```\n",
        "\n",
        "### Raising Specific Exceptions\n",
        "You can also raise specific built-in exceptions, such as `ValueError`, `TypeError`, etc.\n",
        "\n",
        "```python\n",
        "raise ValueError(\"Invalid value provided\")\n",
        "```\n",
        "\n",
        "### Example in a Function\n",
        "Here's an example of raising an exception within a function:\n",
        "\n",
        "```python\n",
        "def divide(a, b):\n",
        "    if b == 0:\n",
        "        raise ZeroDivisionError(\"You can't divide by zero!\")\n",
        "    return a / b\n",
        "\n",
        "try:\n",
        "    result = divide(10, 0)\n",
        "except ZeroDivisionError as e:\n",
        "    print(f\"An error occurred: {e}\")\n",
        "```\n",
        "\n",
        "### Custom Exceptions\n",
        "You can define your own custom exceptions by creating a new class that inherits from the base `Exception` class:\n",
        "\n",
        "```python\n",
        "class CustomError(Exception):\n",
        "    pass\n",
        "\n",
        "raise CustomError(\"This is a custom error\")\n",
        "```\n",
        "\n",
        "### Summary\n",
        "- Use `raise` to manually trigger exceptions.\n",
        "- You can raise built-in exceptions or create and raise custom ones.\n",
        "- Manual exception raising helps enforce conditions and signal errors in your code.\n"
      ],
      "metadata": {
        "id": "xgGGdGC85ktF"
      }
    },
    {
      "cell_type": "markdown",
      "source": [
        "25. Why is it important to use multithreading in certain applications?\n",
        "\n",
        "Multithreading is important in certain applications for several reasons:\n",
        "\n",
        "1. **Concurrency:** It allows multiple threads to run concurrently, which improves the responsiveness of applications, especially those with user interfaces. This is crucial for maintaining a smooth user experience.\n",
        "\n",
        "2. **Efficient I/O Operations:** Multithreading is ideal for I/O-bound tasks, such as reading from disks or communicating over networks. It enables other tasks to proceed while waiting for I/O operations to complete, making better use of system resources.\n",
        "\n",
        "3. **Resource Sharing:** Threads within the same process share memory and resources, allowing efficient data sharing and communication between threads without the overhead of inter-process communication.\n",
        "\n",
        "4. **Improved Performance:** It can enhance performance by allowing tasks to be executed in parallel, especially on multi-core systems. This is beneficial for applications that need to perform multiple tasks simultaneously.\n",
        "\n",
        "5. **Simplified Design:** It simplifies the design of programs that need to perform multiple tasks at once, such as web servers handling multiple client requests or applications with background tasks.\n",
        "\n",
        "In summary, multithreading helps improve application responsiveness, efficiently handle I/O-bound tasks, share resources, boost performance, and simplify program design.\n"
      ],
      "metadata": {
        "id": "hb0FbnAP6B9R"
      }
    },
    {
      "cell_type": "markdown",
      "source": [
        "### **Practical Question**\n",
        "\n",
        "1. How can you open a file for writing in Python and write a string to it?"
      ],
      "metadata": {
        "id": "MIcyRoUqBv-F"
      }
    },
    {
      "cell_type": "code",
      "source": [
        "# Open the file for writing\n",
        "file = open(\"example.txt\", \"w\")\n",
        "\n",
        "# Write a string to the file\n",
        "file.write(\"Hello, this is a string being written to the file!\")\n",
        "\n",
        "# Close the file\n",
        "file.close()\n"
      ],
      "metadata": {
        "id": "7gesAYw6CNti"
      },
      "execution_count": 13,
      "outputs": []
    },
    {
      "cell_type": "markdown",
      "source": [
        "2.  Write a Python program to read the contents of a file and print each line."
      ],
      "metadata": {
        "id": "ABFTUmUwD_NP"
      }
    },
    {
      "cell_type": "code",
      "source": [
        "# Open the file in read mode\n",
        "with open(\"example.txt\", \"r\") as file:\n",
        "    # Iterate through each line in the file\n",
        "    for line in file:\n",
        "        # Print the line (strip() removes extra newlines or spaces)\n",
        "        print(line.strip())\n"
      ],
      "metadata": {
        "colab": {
          "base_uri": "https://localhost:8080/"
        },
        "id": "Z7B5uL5VEE9e",
        "outputId": "d51e7cb4-841b-4e16-942c-dfb3a71ede8b"
      },
      "execution_count": 14,
      "outputs": [
        {
          "output_type": "stream",
          "name": "stdout",
          "text": [
            "Hello, this is a string being written to the file!\n"
          ]
        }
      ]
    },
    {
      "cell_type": "markdown",
      "source": [
        "3.  How would you handle a case where the file doesn't exist while trying to open it for reading?"
      ],
      "metadata": {
        "id": "qlZ6OU6VEXMW"
      }
    },
    {
      "cell_type": "code",
      "source": [
        "try:\n",
        "    # Attempt to open the file for reading\n",
        "    with open(\"example.txt\", \"r\") as file:\n",
        "        # Iterate through each line in the file\n",
        "        for line in file:\n",
        "            # Print the line (strip() removes extra newlines or spaces)\n",
        "            print(line.strip())\n",
        "except FileNotFoundError:\n",
        "    # Handle the case where the file does not exist\n",
        "    print(\"The file 'example.txt' does not exist. Please check the file path and try again.\")\n"
      ],
      "metadata": {
        "colab": {
          "base_uri": "https://localhost:8080/"
        },
        "id": "h_REJsP4ETe5",
        "outputId": "97d32564-692b-4a5a-b011-99a1247daf35"
      },
      "execution_count": 15,
      "outputs": [
        {
          "output_type": "stream",
          "name": "stdout",
          "text": [
            "Hello, this is a string being written to the file!\n"
          ]
        }
      ]
    },
    {
      "cell_type": "markdown",
      "source": [
        "4.  Write a Python script that reads from one file and writes its content to another file."
      ],
      "metadata": {
        "id": "xgvnlfezElrV"
      }
    },
    {
      "source": [
        "# Open the source file in read mode and destination file in write mode\n",
        "\n",
        "# Check if the source file exists\n",
        "import os\n",
        "if not os.path.exists(\"source.txt\"):\n",
        "    # Create the source file if it doesn't exist\n",
        "    with open(\"source.txt\", \"w\") as source_file:\n",
        "        source_file.write(\"This is the source file content.\\n\")  # Add some initial content\n",
        "    print(\"Source file 'source.txt' created.\")\n",
        "\n",
        "with open(\"source.txt\", \"r\") as source_file:\n",
        "    with open(\"destination.txt\", \"w\") as destination_file:\n",
        "        # Read content from the source file\n",
        "        content = source_file.read()\n",
        "        # Write content to the destination file\n",
        "        destination_file.write(content)\n",
        "\n",
        "print(\"Content copied successfully!\")"
      ],
      "cell_type": "code",
      "metadata": {
        "colab": {
          "base_uri": "https://localhost:8080/"
        },
        "id": "PCmseh3HFcC3",
        "outputId": "6e279d81-b33d-40b1-cd18-cb94499d11ef"
      },
      "execution_count": 16,
      "outputs": [
        {
          "output_type": "stream",
          "name": "stdout",
          "text": [
            "Source file 'source.txt' created.\n",
            "Content copied successfully!\n"
          ]
        }
      ]
    },
    {
      "cell_type": "markdown",
      "source": [
        "5. How would you catch and handle division by zero error in Python?"
      ],
      "metadata": {
        "id": "IlJ4h-CBFj2r"
      }
    },
    {
      "cell_type": "code",
      "source": [
        "try:\n",
        "    numerator = 10\n",
        "    denominator = 0\n",
        "    result = numerator / denominator\n",
        "except ZeroDivisionError:\n",
        "    print(\"Error: Division by zero is not allowed.\")\n",
        "else:\n",
        "    print(\"The result is:\", result)\n",
        "finally:\n",
        "    print(\"Operation complete.\")\n"
      ],
      "metadata": {
        "colab": {
          "base_uri": "https://localhost:8080/"
        },
        "id": "5e4Kn6DhE0u1",
        "outputId": "9c148193-dcf0-4489-ef0f-9bb4cb6c7105"
      },
      "execution_count": 17,
      "outputs": [
        {
          "output_type": "stream",
          "name": "stdout",
          "text": [
            "Error: Division by zero is not allowed.\n",
            "Operation complete.\n"
          ]
        }
      ]
    },
    {
      "cell_type": "markdown",
      "source": [
        "6. Write a Python program that logs an error message to a log file when a division by zero exception occurs."
      ],
      "metadata": {
        "id": "WGEIby1QF1g-"
      }
    },
    {
      "cell_type": "code",
      "source": [
        "import logging\n",
        "\n",
        "# Configure the logging\n",
        "logging.basicConfig(filename='error_log.txt', level=logging.ERROR, format='%(asctime)s - %(levelname)s - %(message)s')\n",
        "\n",
        "def divide(a, b):\n",
        "    try:\n",
        "        result = a / b\n",
        "        return result\n",
        "    except ZeroDivisionError:\n",
        "        logging.error(\"Attempted to divide by zero. Inputs were a=%d and b=%d.\", a, b)\n",
        "        print(\"Error: Division by zero is not allowed.\")\n",
        "\n",
        "# Example usage\n",
        "numerator = 10\n",
        "denominator = 0\n",
        "divide(numerator, denominator)\n",
        "\n",
        "print(\"Program has completed. Check 'error_log.txt' for any error messages.\")\n"
      ],
      "metadata": {
        "colab": {
          "base_uri": "https://localhost:8080/"
        },
        "id": "TgM0qzt5Fzfn",
        "outputId": "274a865f-7d41-4194-d90e-b7c591c73c25"
      },
      "execution_count": 18,
      "outputs": [
        {
          "output_type": "stream",
          "name": "stderr",
          "text": [
            "ERROR:root:Attempted to divide by zero. Inputs were a=10 and b=0.\n"
          ]
        },
        {
          "output_type": "stream",
          "name": "stdout",
          "text": [
            "Error: Division by zero is not allowed.\n",
            "Program has completed. Check 'error_log.txt' for any error messages.\n"
          ]
        }
      ]
    },
    {
      "cell_type": "markdown",
      "source": [
        "7. How do you log information at different levels (INFO, ERROR, WARNING) in Python using the logging module?"
      ],
      "metadata": {
        "id": "QP41IHg-v2LJ"
      }
    },
    {
      "cell_type": "code",
      "source": [
        "import logging\n",
        "\n",
        "# Configure the logging system\n",
        "logging.basicConfig(\n",
        "    level=logging.DEBUG,  # Set the lowest level to capture all messages\n",
        "    format=\"%(asctime)s - %(levelname)s - %(message)s\",\n",
        "    filename=\"application.log\",  # Log messages to a file\n",
        "    filemode=\"w\"  # Overwrite the log file on each run\n",
        ")\n",
        "\n",
        "# Log messages at different levels\n",
        "logging.debug(\"This is a debug message.\")\n",
        "logging.info(\"This is an info message.\")\n",
        "logging.warning(\"This is a warning message.\")\n",
        "logging.error(\"This is an error message.\")\n",
        "logging.critical(\"This is a critical message.\")\n",
        "\n"
      ],
      "metadata": {
        "colab": {
          "base_uri": "https://localhost:8080/"
        },
        "id": "q65WJLwdGGVl",
        "outputId": "fd3f8f25-1dad-48c6-8895-10baad597a22"
      },
      "execution_count": 19,
      "outputs": [
        {
          "output_type": "stream",
          "name": "stderr",
          "text": [
            "WARNING:root:This is a warning message.\n",
            "ERROR:root:This is an error message.\n",
            "CRITICAL:root:This is a critical message.\n"
          ]
        }
      ]
    },
    {
      "cell_type": "markdown",
      "source": [
        "8. Write a program to handle a file opening error using exception handling."
      ],
      "metadata": {
        "id": "P1i7Yum7wFnh"
      }
    },
    {
      "cell_type": "code",
      "source": [
        "def read_file(filename):\n",
        "    try:\n",
        "        with open(filename, \"r\") as file:\n",
        "            print(file.read())\n",
        "    except FileNotFoundError:\n",
        "        print(f\"Error: The file '{filename}' does not exist.\")\n",
        "    except Exception as e:\n",
        "        print(f\"An error occurred: {e}\")\n",
        "\n",
        "# Example usage\n",
        "filename = \"example.txt\"\n",
        "read_file(filename)\n"
      ],
      "metadata": {
        "colab": {
          "base_uri": "https://localhost:8080/"
        },
        "id": "_BY8C1iRwEJ9",
        "outputId": "8a35ebeb-2763-4700-b56f-72f84ba351a4"
      },
      "execution_count": 22,
      "outputs": [
        {
          "output_type": "stream",
          "name": "stdout",
          "text": [
            "Hello, this is a string being written to the file!\n"
          ]
        }
      ]
    },
    {
      "cell_type": "markdown",
      "source": [
        "9.  How can you read a file line by line and store its content in a list in Python?"
      ],
      "metadata": {
        "id": "4rszHgB4_iRQ"
      }
    },
    {
      "cell_type": "code",
      "source": [
        "import os\n",
        "\n",
        "# File name\n",
        "file_name = \"example.txt\"\n",
        "\n",
        "# Check if the file exists\n",
        "if os.path.exists(file_name):\n",
        "    with open(file_name, \"r\") as file:\n",
        "        # Read and store lines\n",
        "        lines = [line.strip() for line in file]\n",
        "    print(lines)\n",
        "else:\n",
        "    print(f\"Error: The file '{file_name}' does not exist.\")\n",
        "\n"
      ],
      "metadata": {
        "colab": {
          "base_uri": "https://localhost:8080/"
        },
        "id": "25wTcs5A-HZu",
        "outputId": "ed9a8e17-1950-4b4e-d07f-ccce480bfd5c"
      },
      "execution_count": 25,
      "outputs": [
        {
          "output_type": "stream",
          "name": "stdout",
          "text": [
            "['Hello, this is a string being written to the file!']\n"
          ]
        }
      ]
    },
    {
      "cell_type": "markdown",
      "source": [
        "10.  How can you append data to an existing file in Python?"
      ],
      "metadata": {
        "id": "HwM9hw1TDjdh"
      }
    },
    {
      "cell_type": "code",
      "source": [
        "# Open the file in append mode\n",
        "with open(\"example.txt\", \"a\") as file:\n",
        "    # Append data to the file\n",
        "    file.write(\"\\nThis is the new data being appended.\")\n",
        "\n",
        "print(\"Data has been appended to the file.\")\n"
      ],
      "metadata": {
        "colab": {
          "base_uri": "https://localhost:8080/"
        },
        "id": "pTfc1sQoAQ41",
        "outputId": "f9bfdac5-87c3-456e-f626-eabb1f08d6db"
      },
      "execution_count": 26,
      "outputs": [
        {
          "output_type": "stream",
          "name": "stdout",
          "text": [
            "Data has been appended to the file.\n"
          ]
        }
      ]
    },
    {
      "cell_type": "markdown",
      "source": [
        "11.  Write a Python program that uses a try-except block to handle an error when attempting to access a dictionary key that doesn't exist."
      ],
      "metadata": {
        "id": "Yfh7KbqfEHu2"
      }
    },
    {
      "cell_type": "code",
      "source": [
        "def access_dict_key(my_dict, key):\n",
        "    try:\n",
        "        # Attempt to access the dictionary key\n",
        "        value = my_dict[key]\n",
        "        print(f\"The value for key '{key}' is {value}.\")\n",
        "    except KeyError:\n",
        "        # Handle the case where the key does not exist\n",
        "        print(f\"Error: The key '{key}' does not exist in the dictionary.\")\n",
        "\n",
        "# Example usage\n",
        "my_dict = {\"name\": \"Alice\", \"age\": 30, \"city\": \"New Delhi\"}\n",
        "key_to_access = \"country\"\n",
        "\n",
        "access_dict_key(my_dict, key_to_access)\n"
      ],
      "metadata": {
        "colab": {
          "base_uri": "https://localhost:8080/"
        },
        "id": "NGg5igT0EF2o",
        "outputId": "c49ddc1b-7a1b-44a9-88b4-497daf90a9b1"
      },
      "execution_count": 27,
      "outputs": [
        {
          "output_type": "stream",
          "name": "stdout",
          "text": [
            "Error: The key 'country' does not exist in the dictionary.\n"
          ]
        }
      ]
    },
    {
      "cell_type": "markdown",
      "source": [
        "12. Write a program that demonstrates using multiple except blocks to handle different types of exceptions."
      ],
      "metadata": {
        "id": "K1mb8s96E1vZ"
      }
    },
    {
      "cell_type": "code",
      "source": [
        "def demonstrate_exceptions(dividend, divisor, index):\n",
        "    try:\n",
        "        # Attempt division\n",
        "        result = dividend / divisor\n",
        "        print(f\"Division result: {result}\")\n",
        "\n",
        "        # Attempt to access an element in a list\n",
        "        my_list = [1, 2, 3]\n",
        "        print(f\"Element at index {index}: {my_list[index]}\")\n",
        "\n",
        "    except ZeroDivisionError:\n",
        "        # Handle division by zero error\n",
        "        print(\"Error: Division by zero is not allowed.\")\n",
        "\n",
        "    except IndexError:\n",
        "        # Handle list index out of range error\n",
        "        print(f\"Error: Index {index} is out of range for the list.\")\n",
        "\n",
        "    except Exception as e:\n",
        "        # Handle any other exceptions\n",
        "        print(f\"An unexpected error occurred: {e}\")\n",
        "\n",
        "# Example usage\n",
        "demonstrate_exceptions(10, 0, 2)  # This will trigger a ZeroDivisionError\n",
        "demonstrate_exceptions(10, 2, 5)  # This will trigger an IndexError\n"
      ],
      "metadata": {
        "colab": {
          "base_uri": "https://localhost:8080/"
        },
        "id": "FddKpR_RESX_",
        "outputId": "bd1d870b-dd1a-4b84-e6b0-80664e726fb7"
      },
      "execution_count": 28,
      "outputs": [
        {
          "output_type": "stream",
          "name": "stdout",
          "text": [
            "Error: Division by zero is not allowed.\n",
            "Division result: 5.0\n",
            "Error: Index 5 is out of range for the list.\n"
          ]
        }
      ]
    },
    {
      "cell_type": "markdown",
      "source": [
        "13.  How would you check if a file exists before attempting to read it in Python?"
      ],
      "metadata": {
        "id": "BBmOaLIRFHyi"
      }
    },
    {
      "cell_type": "code",
      "source": [
        "import os\n",
        "\n",
        "# Check if file exists\n",
        "file_path = \"example.txt\"\n",
        "if os.path.exists(file_path):\n",
        "    # Open and read the file\n",
        "    with open(file_path, \"r\") as file:\n",
        "        content = file.read()\n",
        "        print(content)\n",
        "else:\n",
        "    print(f\"Error: The file '{file_path}' does not exist.\")\n"
      ],
      "metadata": {
        "colab": {
          "base_uri": "https://localhost:8080/"
        },
        "id": "8SLz-YFvFGp1",
        "outputId": "02332af5-6753-43a5-d98b-ddad1917121d"
      },
      "execution_count": 29,
      "outputs": [
        {
          "output_type": "stream",
          "name": "stdout",
          "text": [
            "Hello, this is a string being written to the file!\n",
            "This is the new data being appended.\n"
          ]
        }
      ]
    },
    {
      "cell_type": "markdown",
      "source": [
        "14. Write a program that uses the logging module to log both informational and error messages."
      ],
      "metadata": {
        "id": "89-eHBidFkSY"
      }
    },
    {
      "cell_type": "code",
      "source": [
        "import logging\n",
        "\n",
        "# Configure the logging system\n",
        "logging.basicConfig(\n",
        "    level=logging.DEBUG,  # Capture all log levels from DEBUG and above\n",
        "    format=\"%(asctime)s - %(levelname)s - %(message)s\",\n",
        "    filename=\"app.log\",  # Log messages to a file\n",
        "    filemode=\"w\"  # Overwrite the log file on each run\n",
        ")\n",
        "\n",
        "def perform_division(a, b):\n",
        "    try:\n",
        "        logging.info(\"Attempting to divide %s by %s\", a, b)  # Log an informational message\n",
        "        result = a / b\n",
        "        logging.info(\"Division successful: %s / %s = %s\", a, b, result)\n",
        "        return result\n",
        "    except ZeroDivisionError:\n",
        "        logging.error(\"Error: Division by zero attempted. Inputs: a=%s, b=%s\", a, b)  # Log an error message\n",
        "        return None\n",
        "    except Exception as e:\n",
        "        logging.error(\"An unexpected error occurred: %s\", e)  # Log unexpected errors\n",
        "        return None\n",
        "# Example usage\n",
        "perform_division(10, 2)\n",
        "perform_division(10, 0)\n",
        "perform_division(\"10\", 2)\n",
        "\n",
        "print(\"Logs written to 'app.log'\")\n",
        "\n"
      ],
      "metadata": {
        "colab": {
          "base_uri": "https://localhost:8080/"
        },
        "id": "erx_y9OTFi5W",
        "outputId": "422fa64c-7740-449b-e575-eb27dc089703"
      },
      "execution_count": 33,
      "outputs": [
        {
          "output_type": "stream",
          "name": "stderr",
          "text": [
            "ERROR:root:Error: Division by zero attempted. Inputs: a=10, b=0\n",
            "ERROR:root:An unexpected error occurred: unsupported operand type(s) for /: 'str' and 'int'\n"
          ]
        },
        {
          "output_type": "stream",
          "name": "stdout",
          "text": [
            "Logs written to 'app.log'\n"
          ]
        }
      ]
    },
    {
      "cell_type": "markdown",
      "source": [
        "15. Write a Python program that prints the content of a file and handles the case when the file is empty."
      ],
      "metadata": {
        "id": "TEQ5ScyiGXZ0"
      }
    },
    {
      "cell_type": "code",
      "source": [
        "def print_file_content(filename):\n",
        "    try:\n",
        "        with open(filename, \"r\") as file:\n",
        "            content = file.read()\n",
        "            if content:\n",
        "                print(\"File Content:\")\n",
        "                print(content)\n",
        "            else:\n",
        "                print(\"The file is empty.\")\n",
        "    except FileNotFoundError:\n",
        "        print(f\"Error: The file '{filename}' does not exist.\")\n",
        "    except Exception as e:\n",
        "        print(f\"An error occurred: {e}\")\n",
        "\n",
        "# Example usage\n",
        "filename = \"example.txt\"\n",
        "print_file_content(filename)\n"
      ],
      "metadata": {
        "colab": {
          "base_uri": "https://localhost:8080/"
        },
        "id": "JDqne_yoF4-T",
        "outputId": "f01e6af5-4245-4861-9983-300145c92487"
      },
      "execution_count": 34,
      "outputs": [
        {
          "output_type": "stream",
          "name": "stdout",
          "text": [
            "File Content:\n",
            "Hello, this is a string being written to the file!\n",
            "This is the new data being appended.\n"
          ]
        }
      ]
    },
    {
      "cell_type": "markdown",
      "source": [
        "16. Demonstrate how to use memory profiling to check the memory usage of a small program."
      ],
      "metadata": {
        "id": "WmUWKGlzGjwq"
      }
    },
    {
      "cell_type": "code",
      "source": [
        "pip install memory-profiler\n"
      ],
      "metadata": {
        "colab": {
          "base_uri": "https://localhost:8080/"
        },
        "id": "MFMZDAiaGhuF",
        "outputId": "709625a9-82c8-4e0c-e1f0-199e204ecdb5"
      },
      "execution_count": 35,
      "outputs": [
        {
          "output_type": "stream",
          "name": "stdout",
          "text": [
            "Collecting memory-profiler\n",
            "  Downloading memory_profiler-0.61.0-py3-none-any.whl.metadata (20 kB)\n",
            "Requirement already satisfied: psutil in /usr/local/lib/python3.10/dist-packages (from memory-profiler) (5.9.5)\n",
            "Downloading memory_profiler-0.61.0-py3-none-any.whl (31 kB)\n",
            "Installing collected packages: memory-profiler\n",
            "Successfully installed memory-profiler-0.61.0\n"
          ]
        }
      ]
    },
    {
      "cell_type": "code",
      "source": [
        "from memory_profiler import profile\n",
        "\n",
        "@profile\n",
        "def example_function():\n",
        "    x = [i for i in range(100000)]  # Creating a large list\n",
        "    return x\n",
        "\n",
        "if __name__ == \"__main__\":\n",
        "    example_function()\n"
      ],
      "metadata": {
        "colab": {
          "base_uri": "https://localhost:8080/"
        },
        "id": "YvIZuFbAHFEg",
        "outputId": "e501a01c-d0d3-472d-856f-f86630f91911"
      },
      "execution_count": 36,
      "outputs": [
        {
          "output_type": "stream",
          "name": "stderr",
          "text": [
            "\n",
            "PYDEV DEBUGGER WARNING:\n",
            "sys.settrace() should not be used when the debugger is being used.\n",
            "This may cause the debugger to stop working correctly.\n",
            "If this is needed, please check: \n",
            "http://pydev.blogspot.com/2007/06/why-cant-pydev-debugger-work-with.html\n",
            "to see how to restore the debug tracing back correctly.\n",
            "Call Location:\n",
            "  File \"/usr/local/lib/python3.10/dist-packages/memory_profiler.py\", line 847, in enable\n",
            "    sys.settrace(self.trace_memory_usage)\n",
            "\n",
            "\n",
            "PYDEV DEBUGGER WARNING:\n",
            "sys.settrace() should not be used when the debugger is being used.\n",
            "This may cause the debugger to stop working correctly.\n",
            "If this is needed, please check: \n",
            "http://pydev.blogspot.com/2007/06/why-cant-pydev-debugger-work-with.html\n",
            "to see how to restore the debug tracing back correctly.\n",
            "Call Location:\n",
            "  File \"/usr/local/lib/python3.10/dist-packages/memory_profiler.py\", line 850, in disable\n",
            "    sys.settrace(self._original_trace_function)\n",
            "\n"
          ]
        },
        {
          "output_type": "stream",
          "name": "stdout",
          "text": [
            "ERROR: Could not find file <ipython-input-36-67f75804a972>\n",
            "NOTE: %mprun can only be used on functions defined in physical files, and not in the IPython environment.\n"
          ]
        }
      ]
    },
    {
      "cell_type": "code",
      "source": [
        "!python -m memory_profiler your_script.py"
      ],
      "metadata": {
        "colab": {
          "base_uri": "https://localhost:8080/"
        },
        "id": "75OH-Jj-HIA1",
        "outputId": "9c681530-8b10-4a18-9d7a-32b88ac6c756"
      },
      "execution_count": 39,
      "outputs": [
        {
          "output_type": "stream",
          "name": "stdout",
          "text": [
            "Could not find script your_script.py\n"
          ]
        }
      ]
    },
    {
      "cell_type": "markdown",
      "source": [
        "17.  Write a Python program to create and write a list of numbers to a file, one number per line."
      ],
      "metadata": {
        "id": "OI_RrBGJHmdt"
      }
    },
    {
      "cell_type": "code",
      "source": [
        "def write_numbers_to_file(filename, numbers):\n",
        "    with open(filename, \"w\") as file:\n",
        "        for number in numbers:\n",
        "            file.write(f\"{number}\\n\")\n",
        "\n",
        "# Example usage\n",
        "numbers = [1, 2, 3, 4, 5]\n",
        "filename = \"numbers.txt\"\n",
        "write_numbers_to_file(filename, numbers)\n",
        "\n",
        "print(f\"Numbers have been written to {filename}\")\n"
      ],
      "metadata": {
        "colab": {
          "base_uri": "https://localhost:8080/"
        },
        "id": "rbUs_-1vHKJo",
        "outputId": "2a38f29b-f26f-419a-b51b-9034f8259d1f"
      },
      "execution_count": 40,
      "outputs": [
        {
          "output_type": "stream",
          "name": "stdout",
          "text": [
            "Numbers have been written to numbers.txt\n"
          ]
        }
      ]
    },
    {
      "cell_type": "markdown",
      "source": [
        "18. How would you implement a basic logging setup that logs to a file with rotation after 1MB?"
      ],
      "metadata": {
        "id": "QNolf5buH1pe"
      }
    },
    {
      "cell_type": "code",
      "source": [
        "import logging\n",
        "from logging.handlers import RotatingFileHandler\n",
        "\n",
        "# Configure the logging system\n",
        "log_file = \"app.log\"\n",
        "log_size = 1 * 1024 * 1024  # 1MB in bytes\n",
        "\n",
        "handler = RotatingFileHandler(log_file, maxBytes=log_size, backupCount=5)\n",
        "logging.basicConfig(level=logging.INFO, handlers=[handler], format='%(asctime)s - %(levelname)s - %(message)s')\n",
        "\n",
        "# Example logging\n",
        "logging.info(\"This is an info message.\")\n",
        "logging.warning(\"This is a warning message.\")\n",
        "logging.error(\"This is an error message.\")\n"
      ],
      "metadata": {
        "colab": {
          "base_uri": "https://localhost:8080/"
        },
        "id": "-33hMQqMHyAm",
        "outputId": "70c8526b-04b0-4cf5-b681-b19d368f59b6"
      },
      "execution_count": 41,
      "outputs": [
        {
          "output_type": "stream",
          "name": "stderr",
          "text": [
            "WARNING:root:This is a warning message.\n",
            "ERROR:root:This is an error message.\n"
          ]
        }
      ]
    },
    {
      "cell_type": "markdown",
      "source": [
        "19. Write a program that handles both IndexError and KeyError using a try-except block.\n"
      ],
      "metadata": {
        "id": "FGr64QTmIKij"
      }
    },
    {
      "cell_type": "code",
      "source": [
        "def handle_exceptions(index, key):\n",
        "    my_list = [1, 2, 3]\n",
        "    my_dict = {\"name\": \"Alice\", \"age\": 30}\n",
        "\n",
        "    try:\n",
        "        # Attempt to access a list element\n",
        "        print(f\"Element at index {index}: {my_list[index]}\")\n",
        "\n",
        "        # Attempt to access a dictionary key\n",
        "        print(f\"Value for key '{key}': {my_dict[key]}\")\n",
        "\n",
        "    except IndexError:\n",
        "        print(f\"Error: Index {index} is out of range for the list.\")\n",
        "\n",
        "    except KeyError:\n",
        "        print(f\"Error: The key '{key}' does not exist in the dictionary.\")\n",
        "\n",
        "    except Exception as e:\n",
        "        print(f\"An unexpected error occurred: {e}\")\n",
        "\n",
        "# Example usage\n",
        "handle_exceptions(5, \"country\")  # This will trigger both IndexError and KeyError\n"
      ],
      "metadata": {
        "colab": {
          "base_uri": "https://localhost:8080/"
        },
        "id": "AkbRPIujIFLY",
        "outputId": "58dd2e8c-74c8-4d23-a9da-dcbd837cb67f"
      },
      "execution_count": 42,
      "outputs": [
        {
          "output_type": "stream",
          "name": "stdout",
          "text": [
            "Error: Index 5 is out of range for the list.\n"
          ]
        }
      ]
    },
    {
      "cell_type": "markdown",
      "source": [
        "20. How would you open a file and read its contents using a context manager in Python?"
      ],
      "metadata": {
        "id": "kGXfYw3FIT47"
      }
    },
    {
      "cell_type": "code",
      "source": [
        "# Open and read the file using a context manager\n",
        "with open(\"example.txt\", \"r\") as file:\n",
        "    content = file.read()\n",
        "    print(content)\n"
      ],
      "metadata": {
        "colab": {
          "base_uri": "https://localhost:8080/"
        },
        "id": "8mHM9A5PISUM",
        "outputId": "33cfbeb9-3aae-4e56-b8db-95a943333c19"
      },
      "execution_count": 43,
      "outputs": [
        {
          "output_type": "stream",
          "name": "stdout",
          "text": [
            "Hello, this is a string being written to the file!\n",
            "This is the new data being appended.\n"
          ]
        }
      ]
    },
    {
      "cell_type": "markdown",
      "source": [
        "21. Write a Python program that reads a file and prints the number of occurrences of a specific word."
      ],
      "metadata": {
        "id": "pUKmILsaIf30"
      }
    },
    {
      "cell_type": "code",
      "source": [
        "def count_word_occurrences(filename, word):\n",
        "    try:\n",
        "        with open(filename, \"r\") as file:\n",
        "            content = file.read().lower()  # Read the content and convert to lowercase\n",
        "            word_count = content.split().count(word.lower())  # Split content into words and count occurrences\n",
        "            return word_count\n",
        "    except FileNotFoundError:\n",
        "        print(f\"Error: The file '{filename}' does not exist.\")\n",
        "        return 0\n",
        "    except Exception as e:\n",
        "        print(f\"An error occurred: {e}\")\n",
        "        return 0\n",
        "\n",
        "# Example usage\n",
        "filename = \"example.txt\"\n",
        "word_to_count = \"python\"\n",
        "count = count_word_occurrences(filename, word_to_count)\n",
        "print(f\"The word '{word_to_count}' occurs {count} times in the file '{filename}'.\")\n",
        "\n"
      ],
      "metadata": {
        "colab": {
          "base_uri": "https://localhost:8080/"
        },
        "id": "8giaxEE2IdHx",
        "outputId": "4cd92b95-2855-4eb9-f27c-64e31c7f5ecb"
      },
      "execution_count": 44,
      "outputs": [
        {
          "output_type": "stream",
          "name": "stdout",
          "text": [
            "The word 'python' occurs 0 times in the file 'example.txt'.\n"
          ]
        }
      ]
    },
    {
      "cell_type": "markdown",
      "source": [
        "22. How can you check if a file is empty before attempting to read its contents?"
      ],
      "metadata": {
        "id": "yZrRq53mIswh"
      }
    },
    {
      "cell_type": "code",
      "source": [
        "import os\n",
        "\n",
        "file_path = \"example.txt\"\n",
        "if os.path.getsize(file_path) == 0:\n",
        "    print(f\"The file '{file_path}' is empty.\")\n",
        "else:\n",
        "    with open(file_path, \"r\") as file:\n",
        "        content = file.read()\n",
        "        print(content)\n"
      ],
      "metadata": {
        "colab": {
          "base_uri": "https://localhost:8080/"
        },
        "id": "0E-GTVL5IrjF",
        "outputId": "e304916b-3cc0-4054-af18-d40db9e1d6a7"
      },
      "execution_count": 45,
      "outputs": [
        {
          "output_type": "stream",
          "name": "stdout",
          "text": [
            "Hello, this is a string being written to the file!\n",
            "This is the new data being appended.\n"
          ]
        }
      ]
    },
    {
      "cell_type": "markdown",
      "source": [
        "23. Write a Python program that writes to a log file when an error occurs during file handling."
      ],
      "metadata": {
        "id": "T0RI6PdKI8IC"
      }
    },
    {
      "cell_type": "code",
      "source": [
        "import logging\n",
        "\n",
        "# Configure the logging system\n",
        "logging.basicConfig(filename='file_errors.log', level=logging.ERROR, format='%(asctime)s - %(levelname)s - %(message)s')\n",
        "\n",
        "def read_file(filename):\n",
        "    try:\n",
        "        with open(filename, \"r\") as file:\n",
        "            content = file.read()\n",
        "            print(content)\n",
        "    except FileNotFoundError:\n",
        "        logging.error(f\"Error: The file '{filename}' does not exist.\")\n",
        "    except Exception as e:\n",
        "        logging.error(f\"An unexpected error occurred: {e}\")\n",
        "\n",
        "# Example usage\n",
        "filename = \"example.txt\"\n",
        "read_file(filename)\n",
        "\n",
        "print(f\"Check 'file_errors.log' for error messages.\")\n"
      ],
      "metadata": {
        "colab": {
          "base_uri": "https://localhost:8080/"
        },
        "id": "MUrLl6kMI2QP",
        "outputId": "23e9c212-4cf3-4aac-ca0c-500c933f0a6b"
      },
      "execution_count": 46,
      "outputs": [
        {
          "output_type": "stream",
          "name": "stdout",
          "text": [
            "Hello, this is a string being written to the file!\n",
            "This is the new data being appended.\n",
            "Check 'file_errors.log' for error messages.\n"
          ]
        }
      ]
    },
    {
      "cell_type": "code",
      "source": [],
      "metadata": {
        "id": "79KZS2X2I_LV"
      },
      "execution_count": null,
      "outputs": []
    }
  ]
}