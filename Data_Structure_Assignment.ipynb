{
  "nbformat": 4,
  "nbformat_minor": 0,
  "metadata": {
    "colab": {
      "provenance": []
    },
    "kernelspec": {
      "name": "python3",
      "display_name": "Python 3"
    },
    "language_info": {
      "name": "python"
    }
  },
  "cells": [
    {
      "cell_type": "markdown",
      "source": [
        "### **Data Structure Assignment**"
      ],
      "metadata": {
        "id": "7_kPOtKzuqJZ"
      }
    },
    {
      "cell_type": "markdown",
      "source": [
        "1. What are data structures, and why are they important?\n",
        "    Data Structures are a way of organizing data so that it can be accessed more efficiently depending upon the situation. Data structures in Python include list, set, tuples, and dictionary. Each of the data structures is unique in its own way.\n",
        "\n",
        "Importance:\n",
        "\n",
        "1. Efficiency: Enables fast data storage, retrieval, and manipulation.\n",
        "2. Optimization: Reduces time complexity and enhances performance.\n",
        "3. Simplification: Makes problem-solving more manageable by organizing data effectively.\n",
        "4. Scalability: Handles large datasets seamlessly with appropriate structures.\n",
        "5. Algorithm Support: Forms the backbone for implementing efficient algorithms.\n",
        "6. Memory Management: Optimizes the use of memory during program execution.\n",
        "7. Reusability: Encourages modular and reusable code through structured data handling.\n",
        "8. Error Reduction: Reduces potential bugs by providing structured and predictable data organization."
      ],
      "metadata": {
        "id": "B1CAHW2E2FtE"
      }
    },
    {
      "cell_type": "markdown",
      "source": [
        "2.  Explain the difference between mutable and immutable data types with examples.\n",
        "\n",
        "The key difference between mutable and immutable data types lies in whether their contents (values) can be modified after creation.\n",
        "\n",
        "Differences Between Mutable and Immutable Data Types:\n",
        "Modifiability:\n",
        "1. Mutable: Can be modified after creation.\n",
        "2. Immutable: Cannot be modified after creation.\n",
        "\n",
        "Memory Behavior:\n",
        "1. Mutable: Updates occur in the same memory location.\n",
        "2. Immutable: Any change creates a new object in memory.\n",
        "\n",
        "Examples:\n",
        "1. Mutable: Lists, dictionaries, sets, byte arrays.\n",
        "2. Immutable: Strings, tuples, integers, floats, frozensets.\n",
        "\n",
        "Methods:\n",
        "1. Mutable: Provide methods for in-place modification (e.g., append, remove).\n",
        "2. Immutable: Do not have methods for direct modification.\n",
        "\n",
        "Performance:\n",
        "1. Mutable: Faster for operations that require frequent updates.\n",
        "2. Immutable: Safer and less error-prone in multi-threaded environments.\n",
        "\n",
        "Use Cases:\n",
        "1. Mutable: Suitable for data that needs frequent changes (e.g., dynamic collections).\n",
        "2. Immutable: Suitable for constants or secure data that shouldn't change.\n",
        "\n"
      ],
      "metadata": {
        "id": "fkgKOWN730Wc"
      }
    },
    {
      "cell_type": "markdown",
      "source": [
        "3. What are the main differences between lists and tuples in Python?\n",
        "\n",
        "### Differences Between Lists and Tuples in Python:\n",
        "\n",
        "1. **Mutability**:  \n",
        "   - **List**: Mutable; can be modified after creation (e.g., adding, removing, or changing elements).  \n",
        "   - **Tuple**: Immutable; cannot be modified after creation.  \n",
        "\n",
        "2. **Syntax**:  \n",
        "   - **List**: Defined using square brackets `[ ]`.  \n",
        "     ```python\n",
        "     my_list = [1, 2, 3]\n",
        "     ```  \n",
        "   - **Tuple**: Defined using parentheses `( )`.  \n",
        "     ```python\n",
        "     my_tuple = (1, 2, 3)\n",
        "     ```  \n",
        "\n",
        "3. **Performance**:  \n",
        "   - **List**: Slightly slower due to the overhead of mutability.  \n",
        "   - **Tuple**: Faster because of immutability and fixed size.  \n",
        "\n",
        "4. **Use Cases**:  \n",
        "   - **List**: Used for dynamic data that requires frequent updates.  \n",
        "   - **Tuple**: Used for static data or when immutability is essential.  \n",
        "\n",
        "5. **Memory Usage**:  \n",
        "   - **List**: Consumes more memory as it needs to accommodate dynamic resizing.  \n",
        "   - **Tuple**: Consumes less memory due to its fixed size.  \n",
        "\n",
        "6. **Hashability**:  \n",
        "   - **List**: Not hashable and cannot be used as dictionary keys.  \n",
        "   - **Tuple**: Hashable (if it contains only hashable elements) and can be used as dictionary keys.  \n",
        "\n",
        "7. **Built-in Methods**:  \n",
        "   - **List**: Offers more methods like `append()`, `remove()`, `pop()`, etc., for modification.  \n",
        "   - **Tuple**: Limited methods, mainly for accessing (`count()`, `index()`).  \n",
        "\n",
        "8. **Representation**:  \n",
        "   - **List**: Better suited for collections of homogeneous or heterogeneous data.  \n",
        "   - **Tuple**: Commonly used to represent fixed collections (e.g., coordinates, database rows).  \n",
        "\n",
        "---\n",
        "\n",
        "### Examples\n",
        "\n",
        "#### **List Example (Mutable)**:\n",
        "```python\n",
        "my_list = [1, 2, 3]\n",
        "my_list[0] = 10\n",
        "my_list.append(4)\n",
        "print(my_list)  # Output: [10, 2, 3, 4]\n",
        "```\n",
        "\n",
        "#### **Tuple Example (Immutable)**:\n",
        "```python\n",
        "my_tuple = (1, 2, 3)\n",
        "# my_tuple[0] = 10  # Error: 'tuple' object does not support item assignment\n",
        "print(my_tuple)  # Output: (1, 2, 3)\n",
        "```"
      ],
      "metadata": {
        "id": "Tg5xVF6D5p9g"
      }
    },
    {
      "cell_type": "markdown",
      "source": [
        "4. Describe how dictionaries store data.\n",
        "\n",
        "A Python dictionary is a data structure that stores the value in key: value pairs. Values in a dictionary can be of any data type and can be duplicated, whereas keys can’t be repeated and must be immutable. Here's a breakdown of how dictionaries store data:\n",
        "\n",
        "1. Key-Value Pair Structure\n",
        "Each element in a dictionary consists of a key and its associated value.\n",
        "\n",
        "2. Hashing Mechanism\n",
        "Hash Function: When a key is added, it is passed through a hash function, which converts it into a fixed-size integer called a hash value.\n",
        "The hash value determines where the key-value pair is stored in the dictionary's underlying hash table.\n",
        "\n",
        "3. Collision Handling\n",
        "  *   A collision occurs when two keys produce the same hash value. Python uses the following techniques to handle collisions:\n",
        "    *   Open Addressing: Finds the next available slot in the hash table.     \n",
        "    *  Chaining: Stores multiple key-value pairs at the same slot using a linked list or another structure.\n",
        "\n",
        "4. Keys Must Be Hashable\n",
        "Only immutable data types like strings, numbers, or tuples (containing only hashable elements) can be used as keys.\n",
        "\n",
        "5. Memory and Performance\n",
        "*  Python dynamically resizes the hash table as the dictionary grows, ensuring a low load factor (number of elements divided by available slots).\n",
        "*   Resizing involves rehashing all existing keys, which can momentarily slow down performance.\n",
        "\n",
        "\n"
      ],
      "metadata": {
        "id": "iR07RQ1x4kr4"
      }
    },
    {
      "cell_type": "markdown",
      "source": [
        "5.  Why might you use a set instead of a list in Python?\n",
        "\n",
        "You might use a set instead of a list in Python when you need unique elements, better performance for certain operations, or don't care about the order of elements. Here's why:\n",
        "\n",
        "1.   Uniqueness: Automatically removes duplicate elements, ensuring all items are unique.\n",
        "2.   Faster Membership Testing: Performs x in set checks in O(1) average time versus O(n) for lists.\n",
        "3.   Optimized Set Operations: Supports fast union, intersection, and difference operations.\n",
        "4.   Better Performance: More efficient for large datasets when ensuring uniqueness or performing lookups.\n",
        "5.   Mutability with Uniqueness: Allows adding or removing elements while maintaining uniqueness.\n",
        "6.   Order Irrelevance: Ideal when the order of elements is not important.\n",
        "\n",
        "\n",
        "\n",
        "\n",
        "\n",
        "\n"
      ],
      "metadata": {
        "id": "TJmyecPr543a"
      }
    },
    {
      "cell_type": "markdown",
      "source": [
        "6. What is a string in Python, and how is it different from a list?\n",
        "\n",
        "A string in Python is a sequence of characters enclosed within single quotes ('), double quotes (\"), or triple quotes (''' or \"\"\"). Strings are immutable, meaning their content cannot be changed after creation.\n",
        "\n",
        "Difference Between a String and a List\n",
        "\n",
        "1) Strings in Python are sequences of characters enclosed in quotes ('' or “”). Lists are ordered collections of items enclosed in square brackets [].\n",
        "\n",
        "2) Strings are immutable, meaning they cannot be changed once created, while lists are mutable and can be modified as needed.\n",
        "\n",
        "3) Operations like concatenation (+) and repetition (*) work differently for strings and lists. Concatenating strings will merge them together, while concatenating lists will combine their elements.\n",
        "\n",
        "4) String methods like upper(), lower(), and replace() are tailored for text processing, while list methods like append(), remove(), and sort(), and copy() are specific to working with collections of items.\n",
        "\n",
        "5) Strings can be indexed and sliced to access individual characters or substrings, while lists can be accessed using indices to retrieve or modify elements.\n",
        "\n",
        "6) Strings have a fixed length, while lists can dynamically grow or shrink in size by adding or removing elements.\n",
        "\n",
        "7) List comprehension is a powerful feature in Python for creating lists based on existing iterables, while there is no direct equivalent for strings.\n",
        "\n",
        "8) Strings are useful for representing textual data, while lists are versatile data structures that can store different types of elements.\n",
        "\n",
        "9) String formatting allows for creating formatted output using placeholders, while lists can be formatted directly by converting them to strings.\n",
        "\n",
        "10) Both strings and lists are iterable objects in Python, allowing for easy iteration over their elements using loops or comprehension techniques."
      ],
      "metadata": {
        "id": "S-ZmpqdX6Ajg"
      }
    },
    {
      "cell_type": "markdown",
      "source": [
        " 7. How do tuples ensure data integrity in Python?\n",
        "\n",
        " Tuples in Python ensure data integrity through their immutability and specific characteristics:\n",
        "\n",
        "1. Immutability: Cannot be modified after creation, preventing accidental changes.\n",
        "2. Consistency: Provides a fixed structure, ensuring data remains unchanged.\n",
        "3. Hashability: Can be used as dictionary keys or set elements, ensuring uniqueness.\n",
        "4. No Side Effects: Protects shared data in multi-threaded programs by avoiding unintended changes.\n",
        "5. Clarity: Signals read-only intent, reducing coding errors.\n",
        "6. Nested Protection: Safeguards contained data when used in other structures (e.g., lists, dictionaries)."
      ],
      "metadata": {
        "id": "GapSYB_NGfUm"
      }
    },
    {
      "cell_type": "markdown",
      "source": [
        "8. What is a hash table, and how does it relate to dictionaries in Python?\n",
        "\n",
        "What is a hash table?\n",
        "A hash table is a data structure that uses a hash function to compute an index, or hash code, for each key-value pair. The hash code determines which bucket in an array of slots the data is stored in. Hash tables are useful because they allow for quick access to data.\n",
        "\n",
        "How do hash tables relate to Python dictionaries?\n",
        "Python dictionaries are implemented using hash tables and the open addressing collision resolution method. The keys of a Python dictionary are generated by a hashing function. The elements of a dictionary are not ordered and can be changed.\n",
        "\n",
        "How Hash Tables Work\n",
        "1. Hash Function:\n",
        "Converts a key into a unique hash value (an integer).\n",
        "\n",
        "2. Index Calculation:\n",
        "The hash value is used to compute an index in the array where the key-value pair is stored.\n",
        "\n",
        "3. Collision Handling:\n",
        "If two keys hash to the same index, mechanisms like chaining (storing multiple pairs at the same index) or open addressing are used."
      ],
      "metadata": {
        "id": "BIJ-2_PcHZ6y"
      }
    },
    {
      "cell_type": "markdown",
      "source": [
        "9. Can lists contain different data types in Python?\n",
        "\n",
        "Yes, Python lists can contain elements of different data types. Here's how:\n",
        "\n",
        "Key Characteristics\n",
        "\n",
        "1. Heterogeneous Elements:\n",
        "    Lists can store integers, strings, floats, booleans, other lists, dictionaries, or even custom objects.\n",
        "\n",
        "2. Dynamic Typing:\n",
        "    Python's dynamic nature allows lists to accommodate various data types without any restrictions.\n",
        "\n",
        "3. Flexible Use:\n",
        "    Ideal for scenarios requiring diverse data, such as representing a database row or a collection of mixed data.\n"
      ],
      "metadata": {
        "id": "ChEAvzm0Irn5"
      }
    },
    {
      "cell_type": "markdown",
      "source": [
        "10.  Explain why strings are immutable in Python?\n",
        "\n",
        "Strings in Python are “immutable” which means they can not be changed after they are created. Some other immutable data types are integers, float, boolean, etc.\n",
        "\n",
        "The immutability of Python string is very useful as it helps in hashing, performance optimization, safety, ease of use, etc.\n",
        "\n",
        "Reasons of Strings Are Immutable in Python:\n",
        "1. Memory Efficiency: String interning allows sharing a single copy in memory for identical strings.\n",
        "2. Hashability: Enables strings to be used as dictionary keys or set elements with constant hash values.\n",
        "3. Thread Safety: Prevents data corruption in multi-threaded programs.\n",
        "4. Predictability: Avoids unintended side effects by ensuring original strings remain unchanged.\n",
        "5. Performance Optimization: Read-only nature allows efficient memory and execution optimizations."
      ],
      "metadata": {
        "id": "MCanRQLZJG9p"
      }
    },
    {
      "cell_type": "markdown",
      "source": [
        "11. What advantages do dictionaries offer over lists for certain tasks?\n",
        "\n",
        "*   Fast Lookups: Dictionaries provide O(1) average time complexity for key-based lookups, while lists require O(n) for searching.\n",
        "\n",
        "*   Key-Value Pair Storage: Ideal for associating keys with values, enabling more meaningful data representation (e.g., {\"name\": \"Alice\"} vs. [\"Alice\"]).\n",
        "\n",
        "*   No Duplicate Keys: Ensures keys are unique, making dictionaries useful for tasks requiring uniqueness constraints.\n",
        "\n",
        "*  Efficient Updates: Directly modify or add key-value pairs without searching through the data\n",
        "\n",
        "*   Flexible Data Access: Access elements via keys instead of relying on numeric indices, improving readability and usability.\n",
        "\n",
        "*   Built-In Methods: Offers methods like .get(), .keys(), and .values() for efficient data manipulation and retrieval.\n",
        "\n",
        "*   Custom Indexing: Keys can be any hashable object, allowing more flexible indexing compared to lists' integer-based indices.\n",
        "\n",
        "*   Structured Storage: Better suited for complex data relationships, such as JSON-like hierarchical structures.\n",
        "\n",
        "\n",
        "\n"
      ],
      "metadata": {
        "id": "APlbVdbCNNEw"
      }
    },
    {
      "cell_type": "markdown",
      "source": [
        "12.  Describe a scenario where using a tuple would be preferable over a list.\n",
        "\n",
        "### **Situations Where Tuples Are Better Than Lists**\n",
        "\n",
        "1. **Immutable Data Storage**:  \n",
        "   When data should remain constant, such as configuration details or settings.  \n",
        "   - Example:  \n",
        "     ```python\n",
        "     server_config = (\"127.0.0.1\", 8080, \"development\")\n",
        "     ```\n",
        "\n",
        "2. **Using as Dictionary Keys**:  \n",
        "   Tuples can serve as hashable keys in dictionaries, unlike lists.  \n",
        "   - Example:  \n",
        "     ```python\n",
        "     coordinates_map = {(0, 0): \"origin\", (1, 2): \"point A\"}\n",
        "     ```\n",
        "\n",
        "3. **Returning Multiple Values**:  \n",
        "   A tuple is a natural choice for returning multiple pieces of data from a function.  \n",
        "   - Example:  \n",
        "     ```python\n",
        "     def stats(numbers):\n",
        "         return (min(numbers), max(numbers), sum(numbers) / len(numbers))\n",
        "     minimum, maximum, average = stats([10, 20, 30])\n",
        "     ```\n",
        "\n",
        "4. **Fixed Data Representation**:  \n",
        "   Use tuples to represent data that should not be altered, like geographic coordinates or RGB values.  \n",
        "   - Example:  \n",
        "     ```python\n",
        "     geo_point = (40.7128, -74.0060)  # Latitude, Longitude\n",
        "     ```\n",
        "\n",
        "5. **Memory Optimization**:  \n",
        "   Tuples use less memory than lists, which is beneficial for storing large, immutable datasets.  \n",
        "   - Example:  \n",
        "     ```python\n",
        "     readonly_data = (1, 2, 3, 4, 5)\n",
        "     ```\n",
        "\n",
        "6. **Read-Only Intent**:  \n",
        "   Tuples clearly indicate to other developers that the data should not be modified.  \n",
        "   - Example:  \n",
        "     ```python\n",
        "     directions = (\"North\", \"East\", \"South\", \"West\")\n",
        "     ```"
      ],
      "metadata": {
        "id": "ANhSg_rtVrW7"
      }
    },
    {
      "cell_type": "markdown",
      "source": [
        "13.  How do sets handle duplicate values in Python?\n",
        "\n",
        "### **How Sets Handle Duplicate Values in Python**  \n",
        "\n",
        "1. **Automatic Deduplication**:  \n",
        "   - Sets inherently remove duplicate values when created or when elements are added.  \n",
        "\n",
        "2. **Uniqueness Guarantee**:  \n",
        "   - Sets ensure that all elements stored within them are unique, retaining only one instance of duplicate values.  \n",
        "\n",
        "3. **No Effect When Re-Adding Existing Elements**:  \n",
        "   - Adding an element that is already present in the set does not alter the set's contents.  \n",
        "\n",
        "4. **Efficient Handling in Set Operations**:  \n",
        "   - Operations like union, intersection, and difference automatically handle duplicates, simplifying computations.  \n",
        "\n",
        "5. **Hash-Based Storage**:  \n",
        "   - Sets use hash tables for storage, ensuring that each element is stored uniquely based on its hash value."
      ],
      "metadata": {
        "id": "oAdjfPy3W3KH"
      }
    },
    {
      "cell_type": "markdown",
      "source": [
        "14. How does the “in” keyword work differently for lists and dictionaries\n",
        "\n",
        "### **Difference in How the `in` Keyword Works for Lists and Dictionaries**  \n",
        "\n",
        "1. **Operation in Lists**:  \n",
        "   - The `in` keyword checks if a specific value exists in the list by iterating through all elements.  \n",
        "   - It performs a linear search, making it slower for large lists (**O(n)** time complexity).  \n",
        "\n",
        "2. **Operation in Dictionaries**:  \n",
        "   - The `in` keyword checks for the presence of a key in the dictionary, not its values.  \n",
        "   - Uses the dictionary’s hash table, resulting in a much faster check with average **O(1)** time complexity.  \n",
        "\n",
        "3. **Key Difference**:  \n",
        "   - **Lists**: Searches for values.  \n",
        "   - **Dictionaries**: Searches for keys.  \n",
        "\n",
        "4. **Efficiency**:  \n",
        "   - Membership checks are faster in dictionaries due to the hashing mechanism, while lists require sequential traversal."
      ],
      "metadata": {
        "id": "JDr4nVy2X7w3"
      }
    },
    {
      "cell_type": "markdown",
      "source": [
        "15. Can you modify the elements of a tuple? Explain why or why not?\n",
        "\n",
        "A tuple is a collection of data items enclosed in parentheses, often used when you want to store a set of related values that should not be changed.\n",
        "\n",
        "Why immutability is important:\n",
        "1. Data integrity: Ensuring data remains consistent throughout the program by preventing accidental modifications.\n",
        "\n",
        "2. Performance benefits: Tuples can be optimized for faster access to elements due to their immutable nature.\n",
        "\n",
        "What to do if you need to change a tuple:\n",
        "\n",
        "1. Convert to a list:\n",
        "If you need to modify elements, convert the tuple to a list (which is mutable), make the necessary changes, and then convert it back to a tuple if needed.\n",
        "\n",
        "2. Create a new tuple:\n",
        "When you want to update a specific element, create a new tuple with the modified value."
      ],
      "metadata": {
        "id": "G-u2JeNeYh5m"
      }
    },
    {
      "cell_type": "markdown",
      "source": [
        "16. What is a nested dictionary, and give an example of its use case?\n",
        "\n",
        "### **What is a Nested Dictionary?**  \n",
        "\n",
        "A nested dictionary is a dictionary where each key can map to another dictionary, creating a multi-level data structure. It is commonly used to store and organize complex, structured data.  \n",
        "\n",
        "---\n",
        "\n",
        "### **Use Cases for Nested Dictionaries**  \n",
        "\n",
        "1. **Organizing Hierarchical Data**:  \n",
        "   - Grouping related information like categories and subcategories.  \n",
        "   - Example: Storing students' data by classes and subjects.  \n",
        "\n",
        "2. **Multi-Level Configurations**:  \n",
        "   - Managing settings with multiple environments or options.  \n",
        "   - Example: Organizing application settings for different environments (e.g., dev, test, prod).  \n",
        "\n",
        "3. **Structured Data Representation**:  \n",
        "   - Simulating database-like structures for lightweight data handling.  \n",
        "   - Example: Representing a company's hierarchy with departments and employee details.  \n",
        "\n",
        "4. **Processing JSON Data**:  \n",
        "   - Storing JSON-like hierarchical data for manipulation in Python.  \n",
        "   - Example: Handling API responses or structured datasets.  \n"
      ],
      "metadata": {
        "id": "ZxQ2UhdBc4vY"
      }
    },
    {
      "cell_type": "markdown",
      "source": [
        "17. Describe the time complexity of accessing elements in a dictionary.\n",
        "\n",
        "### **Time Complexity of Accessing Elements in a Dictionary**  \n",
        "\n",
        "1. **Average Time Complexity: O(1)**  \n",
        "   - Dictionaries leverage hash tables, allowing for direct access to elements by their keys in constant time.  \n",
        "\n",
        "2. **Worst-Case Time Complexity: O(n)**  \n",
        "   - Occurs in rare cases where multiple keys hash to the same index (hash collisions), requiring a sequential search within a bucket.  \n",
        "\n",
        "3. **Best-Case Time Complexity: O(1)**  \n",
        "   - Achieved when the hash function distributes keys uniformly with no collisions.  \n",
        "\n",
        "4. **Factors Affecting Complexity**:  \n",
        "   - **Quality of Hash Function**: A better hash function reduces collisions.  \n",
        "   - **Load Factor**: A lower load factor ensures fewer collisions by providing more space for entries.  \n",
        "\n",
        "5. **Practical Efficiency**:  \n",
        "   - In Python’s implementation, accessing elements is typically O(1) due to its robust hash table design, ensuring consistent and fast performance.  "
      ],
      "metadata": {
        "id": "_HjwEO6Hdmk9"
      }
    },
    {
      "cell_type": "markdown",
      "source": [
        "18. In what situations are lists preferred over dictionaries?\n",
        "\n",
        "### **Situations Where Lists Are Preferred Over Dictionaries**  \n",
        "\n",
        "1. **When Order Matters**:  \n",
        "   - Lists inherently preserve the order of elements, making them ideal for ordered collections.  \n",
        "\n",
        "2. **Storing Simple Data**:  \n",
        "   - Lists are better suited for straightforward data without the need for key-value relationships.  \n",
        "\n",
        "3. **Faster Appending**:  \n",
        "   - Adding elements to the end of a list is straightforward and efficient, often faster than managing keys in a dictionary.  \n",
        "\n",
        "4. **When Keys Aren't Needed**:  \n",
        "   - Lists work well when there’s no need to associate specific keys with values.  \n",
        "\n",
        "5. **Index-Based Operations**:  \n",
        "   - Use lists for operations where you frequently access elements by their numeric position.  \n",
        "\n",
        "6. **Compact Structure**:  \n",
        "   - Lists are more compact and easier to manipulate when handling small or homogeneous datasets.  \n",
        "\n",
        "7. **Iterating Over Simple Data**:  \n",
        "   - Lists provide a simpler way to loop over elements without the complexity of key-value pairs.  \n",
        "\n",
        "8. **Lightweight Data Representation**:  \n",
        "   - Lists are a more lightweight choice when the structure of data doesn’t require hierarchy or additional metadata.  \n"
      ],
      "metadata": {
        "id": "kRiatc2Enq8i"
      }
    },
    {
      "cell_type": "markdown",
      "source": [
        "19. Why are dictionaries considered unordered, and how does that affect data retrieval?\n",
        "\n",
        "Dictionaries in Python are considered unordered collections because they store key-value pairs without maintaining any specific order. Unlike lists or tuples that maintain a consistent sequence of elements, dictionaries focus on mapping keys to values for fast lookups. This unordered nature means that when you iterate over a dictionary, the order of items returned can vary and is not guaranteed to follow the insertion order.\n",
        "\n",
        "### How This Affects Data Retrieval\n",
        "1. Iteration Order: When you iterate over the keys, values, or items in a dictionary, the order is not predictable. This can affect algorithms or operations that rely on a specific order of elements.\n",
        "\n",
        "2. Efficiency: Despite being unordered, dictionaries are highly efficient for data retrieval. They use a technique called hashing to provide quick access to values based on their keys. This allows for average-case time complexity of O(1) for lookups, insertions, and deletions.\n",
        "\n",
        "3. Duplication of Keys: Dictionaries do not allow duplicate keys. If you try to insert a value with an existing key, the new value will overwrite the old one. This uniqueness is maintained regardless of the order."
      ],
      "metadata": {
        "id": "C2I9J1iponPd"
      }
    },
    {
      "cell_type": "markdown",
      "source": [
        "20. Explain the difference between a list and a dictionary in terms of data retrieval.\n",
        "\n",
        "Key Differences:\n",
        "1. Access Method: Lists use index positions, while dictionaries use keys.\n",
        "\n",
        "2. Order: Lists maintain the order of items, while dictionaries do not guarantee order (although in practice, Python 3.7+ does).\n",
        "\n",
        "3. Use Cases: Use lists when the order of items is important and you need to access items by their position. Use dictionaries when you need to map unique keys to values and retrieve items efficiently by key."
      ],
      "metadata": {
        "id": "f4sO7CWqpuIB"
      }
    },
    {
      "cell_type": "markdown",
      "source": [
        "###**Practical Questions**\n",
        "\n",
        "1. Write a code to create a string with your name and print it.\n",
        "\n",
        "\n"
      ],
      "metadata": {
        "id": "5wOmON2Vp5C2"
      }
    },
    {
      "cell_type": "code",
      "source": [
        "# Creating a string with my name\n",
        "name = \"Kushal Sharma\"\n",
        "\n",
        "# Printing the string\n",
        "print(\"My name is:\", name)"
      ],
      "metadata": {
        "colab": {
          "base_uri": "https://localhost:8080/"
        },
        "id": "jLGgCBUNqW5t",
        "outputId": "3715220b-3f8f-413e-8b8f-5bbf8f79671c"
      },
      "execution_count": 1,
      "outputs": [
        {
          "output_type": "stream",
          "name": "stdout",
          "text": [
            "My name is: Kushal Sharma\n"
          ]
        }
      ]
    },
    {
      "cell_type": "markdown",
      "source": [
        "2. Write a code to find the length of the string \"Hello World\"."
      ],
      "metadata": {
        "id": "N092JFSCqdbe"
      }
    },
    {
      "cell_type": "code",
      "source": [
        "a = \"Hello World\"\n",
        "length = len(a)\n",
        "print(\"The length of 'Hello World' is\", length)"
      ],
      "metadata": {
        "colab": {
          "base_uri": "https://localhost:8080/"
        },
        "id": "zcUJKrD7qbZ1",
        "outputId": "15e527ec-f30f-4c9e-ec08-da95626bd1a4"
      },
      "execution_count": 3,
      "outputs": [
        {
          "output_type": "stream",
          "name": "stdout",
          "text": [
            "The length of 'Hello World' is 11\n"
          ]
        }
      ]
    },
    {
      "cell_type": "markdown",
      "source": [
        "3. Write a code to slice the first 3 characters from the string \"Python Programming\"."
      ],
      "metadata": {
        "id": "KZ_elgO0rpst"
      }
    },
    {
      "cell_type": "code",
      "source": [
        "# Defining the string\n",
        "Course = \"Python Programming\"\n",
        "\n",
        "# Slicing the first 3 characters\n",
        "sliced_name = Course[:3]\n",
        "\n",
        "# Printing the sliced string\n",
        "print(\"The first 3 characters are:\", sliced_name)\n"
      ],
      "metadata": {
        "colab": {
          "base_uri": "https://localhost:8080/"
        },
        "id": "IXurfLVgrCX9",
        "outputId": "5c2a98e9-431c-4baf-a513-b47b25c6496e"
      },
      "execution_count": 4,
      "outputs": [
        {
          "output_type": "stream",
          "name": "stdout",
          "text": [
            "The first 3 characters are: Pyt\n"
          ]
        }
      ]
    },
    {
      "cell_type": "markdown",
      "source": [
        "4. Write a code to convert the string \"hello\" to uppercase."
      ],
      "metadata": {
        "id": "kSlPQYsZsJ5u"
      }
    },
    {
      "cell_type": "code",
      "source": [
        "my_string = \"hello\"\n",
        "uppercase_string = my_string.upper()\n",
        "print(\"The uppercase string is:\", uppercase_string)"
      ],
      "metadata": {
        "colab": {
          "base_uri": "https://localhost:8080/"
        },
        "id": "f2aAYSnusGgV",
        "outputId": "bd471bcb-c880-4a70-b0c6-73c3312771e1"
      },
      "execution_count": 5,
      "outputs": [
        {
          "output_type": "stream",
          "name": "stdout",
          "text": [
            "The uppercase string is: HELLO\n"
          ]
        }
      ]
    },
    {
      "cell_type": "markdown",
      "source": [
        "5.  Write a code to replace the word \"apple\" with \"orange\" in the string \"I like apple\"."
      ],
      "metadata": {
        "id": "iyVjDjNksbE0"
      }
    },
    {
      "cell_type": "code",
      "source": [
        "my_string = \"I like apple\"\n",
        "new_string = my_string.replace(\"apple\", \"orange\")\n",
        "print(\"The new string is:\", new_string)"
      ],
      "metadata": {
        "colab": {
          "base_uri": "https://localhost:8080/"
        },
        "id": "qnJtlXnksZi-",
        "outputId": "12eb613f-16db-4aeb-d4ec-a9a5eea9c227"
      },
      "execution_count": 6,
      "outputs": [
        {
          "output_type": "stream",
          "name": "stdout",
          "text": [
            "The new string is: I like orange\n"
          ]
        }
      ]
    },
    {
      "cell_type": "markdown",
      "source": [
        "6. Write a code to create a list with numbers 1 to 5 and print it."
      ],
      "metadata": {
        "id": "hmhKX9svsvEl"
      }
    },
    {
      "cell_type": "code",
      "source": [
        "my_list = [1, 2, 3, 4, 5]\n",
        "\n",
        "print(\"The list is:\", my_list)"
      ],
      "metadata": {
        "colab": {
          "base_uri": "https://localhost:8080/"
        },
        "id": "jwnmZU9bsncm",
        "outputId": "84c26213-f3a5-477d-9cee-3e675a69362a"
      },
      "execution_count": 7,
      "outputs": [
        {
          "output_type": "stream",
          "name": "stdout",
          "text": [
            "The list is: [1, 2, 3, 4, 5]\n"
          ]
        }
      ]
    },
    {
      "cell_type": "markdown",
      "source": [
        "7. Write a code to append the number 10 to the list [1, 2, 3, 4]."
      ],
      "metadata": {
        "id": "QUo4rTNktFMX"
      }
    },
    {
      "cell_type": "code",
      "source": [
        "my_list = [1, 2, 3, 4]\n",
        "\n",
        "my_list.append(10)\n",
        "\n",
        "print(\"The updated list is:\", my_list)"
      ],
      "metadata": {
        "colab": {
          "base_uri": "https://localhost:8080/"
        },
        "id": "wIHOjodCs_bL",
        "outputId": "7c81e350-59ce-46df-e3fe-24c4eebd98ca"
      },
      "execution_count": 10,
      "outputs": [
        {
          "output_type": "stream",
          "name": "stdout",
          "text": [
            "The updated list is: [1, 2, 3, 4, 10]\n"
          ]
        }
      ]
    },
    {
      "cell_type": "markdown",
      "source": [
        "8.  Write a code to remove the number 3 from the list [1, 2, 3, 4, 5]."
      ],
      "metadata": {
        "id": "uvpESElmt0px"
      }
    },
    {
      "cell_type": "code",
      "source": [
        "my_list = [1, 2, 3, 4, 5]\n",
        "\n",
        "my_list.remove(3)\n",
        "\n",
        "print(\"The updated list is:\", my_list)"
      ],
      "metadata": {
        "colab": {
          "base_uri": "https://localhost:8080/"
        },
        "id": "kLR5Lvehthag",
        "outputId": "8b71463c-b599-4141-86fa-292332fec7c9"
      },
      "execution_count": 11,
      "outputs": [
        {
          "output_type": "stream",
          "name": "stdout",
          "text": [
            "The updated list is: [1, 2, 4, 5]\n"
          ]
        }
      ]
    },
    {
      "cell_type": "markdown",
      "source": [
        "9. Write a code to access the second element in the list ['a', 'b', 'c', 'd'].\n"
      ],
      "metadata": {
        "id": "3J0yC8hJuOZN"
      }
    },
    {
      "cell_type": "code",
      "source": [
        "my_list = ['a', 'b', 'c', 'd']\n",
        "\n",
        "second_element = my_list[1]\n",
        "\n",
        "print(\"The second element is:\", second_element)"
      ],
      "metadata": {
        "colab": {
          "base_uri": "https://localhost:8080/"
        },
        "id": "p_uRbP7jt-aZ",
        "outputId": "5ca5bea0-6126-4709-ac6a-61f259cacca2"
      },
      "execution_count": 12,
      "outputs": [
        {
          "output_type": "stream",
          "name": "stdout",
          "text": [
            "The second element is: b\n"
          ]
        }
      ]
    },
    {
      "cell_type": "markdown",
      "source": [
        "10. Write a code to reverse the list [10, 20, 30, 40, 50]."
      ],
      "metadata": {
        "id": "4udka7ChudU2"
      }
    },
    {
      "cell_type": "code",
      "source": [
        "my_list  = [10, 20, 30, 40, 50]\n",
        "\n",
        "my_list.reverse()\n",
        "\n",
        "print(\"The reversed list is:\", my_list)"
      ],
      "metadata": {
        "colab": {
          "base_uri": "https://localhost:8080/"
        },
        "id": "UgB1Qf0NuaCe",
        "outputId": "63f026bb-a56a-47e7-9233-f48c618bf97a"
      },
      "execution_count": 13,
      "outputs": [
        {
          "output_type": "stream",
          "name": "stdout",
          "text": [
            "The reversed list is: [50, 40, 30, 20, 10]\n"
          ]
        }
      ]
    },
    {
      "cell_type": "code",
      "source": [],
      "metadata": {
        "id": "6t-7FrFCul1m"
      },
      "execution_count": null,
      "outputs": []
    }
  ]
}